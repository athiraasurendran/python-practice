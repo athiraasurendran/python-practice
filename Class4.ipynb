{
 "cells": [
  {
   "cell_type": "markdown",
   "id": "37e2c345-9830-4de5-bcc1-c2955f212fcf",
   "metadata": {},
   "source": [
    "Get the string \"findme\"."
   ]
  },
  {
   "cell_type": "code",
   "execution_count": 2,
   "id": "f416b3e6-0e4b-4c19-873e-eb2077c48683",
   "metadata": {},
   "outputs": [],
   "source": [
    "x = {'a':[10,20,{'b':[5,6,{'c':['findme'] }]}]}"
   ]
  },
  {
   "cell_type": "code",
   "execution_count": 3,
   "id": "bdeb8050-d107-4875-968c-ca9206fe44be",
   "metadata": {},
   "outputs": [
    {
     "data": {
      "text/plain": [
       "[10, 20, {'b': [5, 6, {'c': ['findme']}]}]"
      ]
     },
     "execution_count": 3,
     "metadata": {},
     "output_type": "execute_result"
    }
   ],
   "source": [
    "x[\"a\"]"
   ]
  },
  {
   "cell_type": "code",
   "execution_count": 4,
   "id": "509d97ba-6f22-4e58-a5c3-e5e0509641b7",
   "metadata": {},
   "outputs": [
    {
     "data": {
      "text/plain": [
       "{'b': [5, 6, {'c': ['findme']}]}"
      ]
     },
     "execution_count": 4,
     "metadata": {},
     "output_type": "execute_result"
    }
   ],
   "source": [
    "x[\"a\"][2]"
   ]
  },
  {
   "cell_type": "code",
   "execution_count": 5,
   "id": "bccac3a9-c3b4-478c-b1a6-ee437a9e92cd",
   "metadata": {},
   "outputs": [
    {
     "data": {
      "text/plain": [
       "[5, 6, {'c': ['findme']}]"
      ]
     },
     "execution_count": 5,
     "metadata": {},
     "output_type": "execute_result"
    }
   ],
   "source": [
    "x[\"a\"][2][\"b\"]"
   ]
  },
  {
   "cell_type": "code",
   "execution_count": 6,
   "id": "9d31f0d1-2af3-46da-9613-e778d707500b",
   "metadata": {},
   "outputs": [
    {
     "data": {
      "text/plain": [
       "{'c': ['findme']}"
      ]
     },
     "execution_count": 6,
     "metadata": {},
     "output_type": "execute_result"
    }
   ],
   "source": [
    "x[\"a\"][2][\"b\"][2]"
   ]
  },
  {
   "cell_type": "code",
   "execution_count": 7,
   "id": "8d0d1e68-c754-49cb-b598-4090943aa285",
   "metadata": {},
   "outputs": [
    {
     "data": {
      "text/plain": [
       "'findme'"
      ]
     },
     "execution_count": 7,
     "metadata": {},
     "output_type": "execute_result"
    }
   ],
   "source": [
    "x[\"a\"][2][\"b\"][2][\"c\"][0]"
   ]
  },
  {
   "cell_type": "code",
   "execution_count": null,
   "id": "2e513d95-f5ab-4d69-a832-45da433f7545",
   "metadata": {},
   "outputs": [],
   "source": []
  },
  {
   "cell_type": "code",
   "execution_count": 8,
   "id": "331e0f6c-e491-43d6-8fef-7dcaa6f58513",
   "metadata": {},
   "outputs": [],
   "source": [
    "x = {'a':[10,20,{'b':[5,6,{'c':['findme'] }]}]}"
   ]
  },
  {
   "cell_type": "code",
   "execution_count": 14,
   "id": "3a30c5fd-fa87-4a65-a31e-d829b2415f01",
   "metadata": {},
   "outputs": [
    {
     "data": {
      "text/plain": [
       "'findme'"
      ]
     },
     "execution_count": 14,
     "metadata": {},
     "output_type": "execute_result"
    }
   ],
   "source": [
    "x[\"a\"][2][\"b\"][2][\"c\"][0]"
   ]
  },
  {
   "cell_type": "code",
   "execution_count": null,
   "id": "12b370a3-3795-47f9-a53f-0937dac19603",
   "metadata": {},
   "outputs": [],
   "source": []
  },
  {
   "cell_type": "code",
   "execution_count": null,
   "id": "344d9043-e7a8-4c8f-8f4e-d0321a49f0fd",
   "metadata": {},
   "outputs": [],
   "source": []
  },
  {
   "cell_type": "markdown",
   "id": "9c7e682f-266e-426b-8104-a67c17c9319e",
   "metadata": {},
   "source": [
    "Access the word \"python\"."
   ]
  },
  {
   "cell_type": "code",
   "execution_count": 15,
   "id": "f75f46f2-135d-4bee-a36a-c4b965eff7e5",
   "metadata": {},
   "outputs": [],
   "source": [
    "data = {'outer':[1,{'inner':[2,3,{'target':['python']}]},4]}"
   ]
  },
  {
   "cell_type": "code",
   "execution_count": 16,
   "id": "ad6081be-175a-4156-9a35-16230e32a977",
   "metadata": {},
   "outputs": [
    {
     "data": {
      "text/plain": [
       "[1, {'inner': [2, 3, {'target': ['python']}]}, 4]"
      ]
     },
     "execution_count": 16,
     "metadata": {},
     "output_type": "execute_result"
    }
   ],
   "source": [
    "data[\"outer\"]"
   ]
  },
  {
   "cell_type": "code",
   "execution_count": 17,
   "id": "b24d8fe2-6b9e-448f-a618-fde1c04d7e57",
   "metadata": {},
   "outputs": [
    {
     "data": {
      "text/plain": [
       "{'inner': [2, 3, {'target': ['python']}]}"
      ]
     },
     "execution_count": 17,
     "metadata": {},
     "output_type": "execute_result"
    }
   ],
   "source": [
    "data[\"outer\"][1]"
   ]
  },
  {
   "cell_type": "code",
   "execution_count": 18,
   "id": "186fed54-bcf2-45d4-925f-da32a3f6aa0d",
   "metadata": {},
   "outputs": [
    {
     "data": {
      "text/plain": [
       "{'target': ['python']}"
      ]
     },
     "execution_count": 18,
     "metadata": {},
     "output_type": "execute_result"
    }
   ],
   "source": [
    "data[\"outer\"][1][\"inner\"][2]"
   ]
  },
  {
   "cell_type": "code",
   "execution_count": 19,
   "id": "591faa9a-a7ed-4656-86af-71aaef01aea6",
   "metadata": {},
   "outputs": [
    {
     "data": {
      "text/plain": [
       "'python'"
      ]
     },
     "execution_count": 19,
     "metadata": {},
     "output_type": "execute_result"
    }
   ],
   "source": [
    "data[\"outer\"][1][\"inner\"][2]['target'][0]"
   ]
  },
  {
   "cell_type": "code",
   "execution_count": null,
   "id": "4f66aa5e-a6b2-4edb-a4e2-396515fc820d",
   "metadata": {},
   "outputs": [],
   "source": []
  },
  {
   "cell_type": "code",
   "execution_count": 20,
   "id": "0a2c6283-016a-424b-a93f-2c9c6497bb56",
   "metadata": {},
   "outputs": [],
   "source": [
    "data = {'outer':[1,{'inner':[2,3,{'target':['python']}]},4]}"
   ]
  },
  {
   "cell_type": "code",
   "execution_count": 24,
   "id": "96e5df5b-6f39-4ebc-a7f2-2de3ba182df9",
   "metadata": {},
   "outputs": [
    {
     "data": {
      "text/plain": [
       "'python'"
      ]
     },
     "execution_count": 24,
     "metadata": {},
     "output_type": "execute_result"
    }
   ],
   "source": [
    "data[\"outer\"][1][\"inner\"][2][\"target\"][0]"
   ]
  },
  {
   "cell_type": "code",
   "execution_count": null,
   "id": "25cd600c-0043-4b11-8561-70076fa825b5",
   "metadata": {},
   "outputs": [],
   "source": []
  },
  {
   "cell_type": "code",
   "execution_count": null,
   "id": "6d912f19-525f-4709-adde-3ab67d2ba248",
   "metadata": {},
   "outputs": [],
   "source": []
  },
  {
   "cell_type": "markdown",
   "id": "9b724c1d-6916-466c-90f7-ffcfa96b3f0c",
   "metadata": {},
   "source": [
    "Extract \"target\"."
   ]
  },
  {
   "cell_type": "code",
   "execution_count": 25,
   "id": "efc4c9f5-d047-4499-bd1b-5481fb3dcc5b",
   "metadata": {},
   "outputs": [],
   "source": [
    "nested = {'first':{'second':[1,2,{'third':[100,200,['deep',['target']]]}]}}"
   ]
  },
  {
   "cell_type": "code",
   "execution_count": 32,
   "id": "58ce5295-0777-481c-83c9-d7134a08ef46",
   "metadata": {},
   "outputs": [
    {
     "data": {
      "text/plain": [
       "'target'"
      ]
     },
     "execution_count": 32,
     "metadata": {},
     "output_type": "execute_result"
    }
   ],
   "source": [
    "nested[\"first\"][\"second\"][2][\"third\"][2][1][0]"
   ]
  },
  {
   "cell_type": "code",
   "execution_count": null,
   "id": "f9143a5b-bc68-4c6d-a929-564dda548e0d",
   "metadata": {},
   "outputs": [],
   "source": []
  },
  {
   "cell_type": "code",
   "execution_count": null,
   "id": "786ba245-4eb7-4ba5-8a59-f7c84590ab9e",
   "metadata": {},
   "outputs": [],
   "source": []
  },
  {
   "cell_type": "markdown",
   "id": "199b0bce-5223-403a-a700-93a3e45c3d9e",
   "metadata": {},
   "source": [
    "Get the word \"done\"."
   ]
  },
  {
   "cell_type": "code",
   "execution_count": 33,
   "id": "2871d656-d6c9-4627-a9fd-fcdaa749d238",
   "metadata": {},
   "outputs": [],
   "source": [
    "test = {'x':[{'y':[{'z':['practice',[1,2,3],'done'] }]}]}"
   ]
  },
  {
   "cell_type": "code",
   "execution_count": 39,
   "id": "259ec510-45e0-414f-ad6f-d1b1370237ca",
   "metadata": {},
   "outputs": [
    {
     "data": {
      "text/plain": [
       "'done'"
      ]
     },
     "execution_count": 39,
     "metadata": {},
     "output_type": "execute_result"
    }
   ],
   "source": [
    "test[\"x\"][0][\"y\"][0][\"z\"][2]"
   ]
  },
  {
   "cell_type": "code",
   "execution_count": null,
   "id": "93d5778f-e31b-462f-8b1b-c93ca8f3bab0",
   "metadata": {},
   "outputs": [],
   "source": []
  },
  {
   "cell_type": "code",
   "execution_count": null,
   "id": "4a82d01c-0bd3-4c52-903b-4b1620cec4b5",
   "metadata": {},
   "outputs": [],
   "source": []
  },
  {
   "cell_type": "markdown",
   "id": "59e53b38-65c9-47e4-b59f-ed8db6d0b566",
   "metadata": {},
   "source": [
    "Extract \"final answer\"."
   ]
  },
  {
   "cell_type": "code",
   "execution_count": 40,
   "id": "2f304195-9865-4a57-843b-07bccda9d9f4",
   "metadata": {},
   "outputs": [],
   "source": [
    "info = {'k1':{'k2':[1,2,{'k3':[10,{'k4':['final answer']}]}]}}"
   ]
  },
  {
   "cell_type": "code",
   "execution_count": 41,
   "id": "6b569474-1383-42fb-ba6d-8dfefb5b2662",
   "metadata": {},
   "outputs": [
    {
     "data": {
      "text/plain": [
       "{'k2': [1, 2, {'k3': [10, {'k4': ['final answer']}]}]}"
      ]
     },
     "execution_count": 41,
     "metadata": {},
     "output_type": "execute_result"
    }
   ],
   "source": [
    "info[\"k1\"]"
   ]
  },
  {
   "cell_type": "code",
   "execution_count": 47,
   "id": "702c81f9-e01d-41c9-b3cd-c1b4827af4ae",
   "metadata": {},
   "outputs": [
    {
     "data": {
      "text/plain": [
       "'final answer'"
      ]
     },
     "execution_count": 47,
     "metadata": {},
     "output_type": "execute_result"
    }
   ],
   "source": [
    "info[\"k1\"][\"k2\"][2][\"k3\"][1][\"k4\"][0]"
   ]
  },
  {
   "cell_type": "code",
   "execution_count": null,
   "id": "fa5d8118-a5d2-4dd6-9955-66cb09cb66ea",
   "metadata": {},
   "outputs": [],
   "source": []
  },
  {
   "cell_type": "code",
   "execution_count": null,
   "id": "14a7dc05-d173-474a-9c40-07a5a12a6877",
   "metadata": {},
   "outputs": [],
   "source": []
  }
 ],
 "metadata": {
  "kernelspec": {
   "display_name": "Python 3 (ipykernel)",
   "language": "python",
   "name": "python3"
  },
  "language_info": {
   "codemirror_mode": {
    "name": "ipython",
    "version": 3
   },
   "file_extension": ".py",
   "mimetype": "text/x-python",
   "name": "python",
   "nbconvert_exporter": "python",
   "pygments_lexer": "ipython3",
   "version": "3.10.0"
  }
 },
 "nbformat": 4,
 "nbformat_minor": 5
}
