{
 "cells": [
  {
   "cell_type": "code",
   "execution_count": 10,
   "id": "31f14385-c7ec-4852-8bd4-ff24039f1124",
   "metadata": {},
   "outputs": [
    {
     "data": {
      "text/plain": [
       "'Python'"
      ]
     },
     "execution_count": 10,
     "metadata": {},
     "output_type": "execute_result"
    }
   ],
   "source": [
    "text = \"Python\"\n",
    "\n",
    "text"
   ]
  },
  {
   "cell_type": "code",
   "execution_count": 11,
   "id": "3ae11250-5fa5-4b9c-9c02-4e5edecf68f7",
   "metadata": {},
   "outputs": [
    {
     "data": {
      "text/plain": [
       "6"
      ]
     },
     "execution_count": 11,
     "metadata": {},
     "output_type": "execute_result"
    }
   ],
   "source": [
    "len(text)"
   ]
  },
  {
   "cell_type": "code",
   "execution_count": 12,
   "id": "4677ccc4-7cb7-4da2-a008-9b387b9ab56d",
   "metadata": {},
   "outputs": [
    {
     "data": {
      "text/plain": [
       "'P'"
      ]
     },
     "execution_count": 12,
     "metadata": {},
     "output_type": "execute_result"
    }
   ],
   "source": [
    "text[0]"
   ]
  },
  {
   "cell_type": "code",
   "execution_count": 13,
   "id": "e65243a7-f51d-4edd-bffd-24bc63be19be",
   "metadata": {},
   "outputs": [
    {
     "data": {
      "text/plain": [
       "'o'"
      ]
     },
     "execution_count": 13,
     "metadata": {},
     "output_type": "execute_result"
    }
   ],
   "source": [
    "text[-2]"
   ]
  },
  {
   "cell_type": "code",
   "execution_count": 14,
   "id": "0f174418-aa50-4f00-b4e4-fe2fc4a8bfe8",
   "metadata": {},
   "outputs": [
    {
     "data": {
      "text/plain": [
       "'th'"
      ]
     },
     "execution_count": 14,
     "metadata": {},
     "output_type": "execute_result"
    }
   ],
   "source": [
    "text[2:4]"
   ]
  },
  {
   "cell_type": "markdown",
   "id": "4a01ebd8-933f-4898-ab02-3c18cb2a8388",
   "metadata": {},
   "source": [
    "#### Immutability"
   ]
  },
  {
   "cell_type": "code",
   "execution_count": 15,
   "id": "6688b0f3-040b-4f37-81be-8fd0d4fe0b4b",
   "metadata": {},
   "outputs": [
    {
     "data": {
      "text/plain": [
       "'Hello'"
      ]
     },
     "execution_count": 15,
     "metadata": {},
     "output_type": "execute_result"
    }
   ],
   "source": [
    "a = \"Hello\"\n",
    "\n",
    "a"
   ]
  },
  {
   "cell_type": "code",
   "execution_count": 16,
   "id": "6445f2ee-64dd-4227-8963-2d8a3c99f167",
   "metadata": {},
   "outputs": [
    {
     "data": {
      "text/plain": [
       "5"
      ]
     },
     "execution_count": 16,
     "metadata": {},
     "output_type": "execute_result"
    }
   ],
   "source": [
    "len(a)"
   ]
  },
  {
   "cell_type": "code",
   "execution_count": 17,
   "id": "fcc4f3f4-7e2d-4e3e-948b-e373e95df80e",
   "metadata": {},
   "outputs": [
    {
     "data": {
      "text/plain": [
       "'H'"
      ]
     },
     "execution_count": 17,
     "metadata": {},
     "output_type": "execute_result"
    }
   ],
   "source": [
    "a[0]"
   ]
  },
  {
   "cell_type": "code",
   "execution_count": 18,
   "id": "803c2fd7-3998-482d-88a9-4071a2fb5a50",
   "metadata": {},
   "outputs": [
    {
     "ename": "NameError",
     "evalue": "name 'J' is not defined",
     "output_type": "error",
     "traceback": [
      "\u001b[1;31m---------------------------------------------------------------------------\u001b[0m",
      "\u001b[1;31mNameError\u001b[0m                                 Traceback (most recent call last)",
      "Cell \u001b[1;32mIn[18], line 1\u001b[0m\n\u001b[1;32m----> 1\u001b[0m a[\u001b[38;5;241m0\u001b[39m] \u001b[38;5;241m=\u001b[39m \u001b[43mJ\u001b[49m\n",
      "\u001b[1;31mNameError\u001b[0m: name 'J' is not defined"
     ]
    }
   ],
   "source": [
    "a[0] = J"
   ]
  },
  {
   "cell_type": "markdown",
   "id": "3cccd54b-3dbf-4f25-8565-fdc2409ff2f5",
   "metadata": {},
   "source": [
    "String is immutable"
   ]
  },
  {
   "cell_type": "markdown",
   "id": "c36e0879-ed86-4cff-b981-c00b5f86576a",
   "metadata": {},
   "source": [
    "#### Slicing"
   ]
  },
  {
   "cell_type": "code",
   "execution_count": 19,
   "id": "593bbae8-7eff-4961-b6f7-0e9ac99a3ac4",
   "metadata": {},
   "outputs": [
    {
     "data": {
      "text/plain": [
       "'Hello World'"
      ]
     },
     "execution_count": 19,
     "metadata": {},
     "output_type": "execute_result"
    }
   ],
   "source": [
    "a = \"Hello World\"\n",
    "\n",
    "a"
   ]
  },
  {
   "cell_type": "code",
   "execution_count": 20,
   "id": "cbe3af31-0973-4477-8299-ee152bcbf64d",
   "metadata": {},
   "outputs": [
    {
     "data": {
      "text/plain": [
       "'llo Wor'"
      ]
     },
     "execution_count": 20,
     "metadata": {},
     "output_type": "execute_result"
    }
   ],
   "source": [
    "a[2:9]"
   ]
  },
  {
   "cell_type": "code",
   "execution_count": 21,
   "id": "3cfea0a5-eaa5-4694-8055-d74bca503e5c",
   "metadata": {},
   "outputs": [],
   "source": [
    "b = a[2:9]"
   ]
  },
  {
   "cell_type": "code",
   "execution_count": 22,
   "id": "31f25c87-fe33-4a0e-a23d-9c64a3a15ec7",
   "metadata": {},
   "outputs": [
    {
     "data": {
      "text/plain": [
       "'llo Wor'"
      ]
     },
     "execution_count": 22,
     "metadata": {},
     "output_type": "execute_result"
    }
   ],
   "source": [
    "b"
   ]
  },
  {
   "cell_type": "code",
   "execution_count": 23,
   "id": "f8c3bd8c-6409-4387-971d-cd5698b663dd",
   "metadata": {},
   "outputs": [
    {
     "data": {
      "text/plain": [
       "7"
      ]
     },
     "execution_count": 23,
     "metadata": {},
     "output_type": "execute_result"
    }
   ],
   "source": [
    "len(b)"
   ]
  },
  {
   "cell_type": "code",
   "execution_count": 24,
   "id": "65e1d8a5-ba5e-440f-afde-d88faf057db2",
   "metadata": {},
   "outputs": [
    {
     "data": {
      "text/plain": [
       "'Hello Wo'"
      ]
     },
     "execution_count": 24,
     "metadata": {},
     "output_type": "execute_result"
    }
   ],
   "source": [
    "a [:8]"
   ]
  },
  {
   "cell_type": "code",
   "execution_count": 25,
   "id": "8d41ff9b-df4e-494b-89a2-9621153c0718",
   "metadata": {},
   "outputs": [
    {
     "data": {
      "text/plain": [
       "'lo World'"
      ]
     },
     "execution_count": 25,
     "metadata": {},
     "output_type": "execute_result"
    }
   ],
   "source": [
    "a [3:]"
   ]
  },
  {
   "cell_type": "markdown",
   "id": "edb5417b-2044-40df-8535-4a651e8056f4",
   "metadata": {},
   "source": [
    "#### Concatenation"
   ]
  },
  {
   "cell_type": "code",
   "execution_count": 26,
   "id": "3f131bbf-c9f9-4eed-8f8e-a6580373e608",
   "metadata": {},
   "outputs": [],
   "source": [
    "a = \"Hello\"\n",
    "b = \"World\""
   ]
  },
  {
   "cell_type": "code",
   "execution_count": 27,
   "id": "7c211332-f07e-4014-93c6-834a0874cd27",
   "metadata": {},
   "outputs": [
    {
     "data": {
      "text/plain": [
       "'HelloWorld'"
      ]
     },
     "execution_count": 27,
     "metadata": {},
     "output_type": "execute_result"
    }
   ],
   "source": [
    "a + b"
   ]
  },
  {
   "cell_type": "code",
   "execution_count": 28,
   "id": "1fca5ab3-1f0b-419b-a564-66c1c4c835b6",
   "metadata": {},
   "outputs": [
    {
     "data": {
      "text/plain": [
       "'Hello World'"
      ]
     },
     "execution_count": 28,
     "metadata": {},
     "output_type": "execute_result"
    }
   ],
   "source": [
    "a + \" \" + b"
   ]
  },
  {
   "cell_type": "code",
   "execution_count": 29,
   "id": "6ab7c7c4-7d7a-430c-8c28-bee5eb30e563",
   "metadata": {},
   "outputs": [
    {
     "data": {
      "text/plain": [
       "'HelloHello'"
      ]
     },
     "execution_count": 29,
     "metadata": {},
     "output_type": "execute_result"
    }
   ],
   "source": [
    "a * 2"
   ]
  },
  {
   "cell_type": "code",
   "execution_count": 30,
   "id": "483a759e-8064-46bd-bf01-a8f2400e5f7d",
   "metadata": {},
   "outputs": [
    {
     "data": {
      "text/plain": [
       "'WorldWorldWorldWorldWorldWorldWorld'"
      ]
     },
     "execution_count": 30,
     "metadata": {},
     "output_type": "execute_result"
    }
   ],
   "source": [
    "b * 7"
   ]
  },
  {
   "cell_type": "markdown",
   "id": "b366ad07-e8c2-4398-ad90-045fc7a3eb6a",
   "metadata": {},
   "source": [
    "Upper"
   ]
  },
  {
   "cell_type": "code",
   "execution_count": 31,
   "id": "c09de6d7-dcc8-4224-86f8-429eb1245d63",
   "metadata": {},
   "outputs": [],
   "source": [
    "text = \"Athira\""
   ]
  },
  {
   "cell_type": "code",
   "execution_count": 32,
   "id": "89a733e9-3df6-469d-a623-f99f4f509053",
   "metadata": {},
   "outputs": [
    {
     "data": {
      "text/plain": [
       "'ATHIRA'"
      ]
     },
     "execution_count": 32,
     "metadata": {},
     "output_type": "execute_result"
    }
   ],
   "source": [
    "text.upper()"
   ]
  },
  {
   "cell_type": "markdown",
   "id": "a222b226-b0d0-4dd8-a814-ba776cce3de4",
   "metadata": {},
   "source": [
    "Lower"
   ]
  },
  {
   "cell_type": "code",
   "execution_count": 33,
   "id": "3b2f3ae2-12ac-4c99-a728-ee3749721b0f",
   "metadata": {},
   "outputs": [
    {
     "data": {
      "text/plain": [
       "'athira'"
      ]
     },
     "execution_count": 33,
     "metadata": {},
     "output_type": "execute_result"
    }
   ],
   "source": [
    "text.lower()"
   ]
  },
  {
   "cell_type": "code",
   "execution_count": 34,
   "id": "3234f49a-08f4-438b-b40d-bf9414b89441",
   "metadata": {},
   "outputs": [],
   "source": [
    "name = \"Athira Surendran\""
   ]
  },
  {
   "cell_type": "code",
   "execution_count": 35,
   "id": "432c0690-cd46-4397-9b43-0fe75cdf2fd5",
   "metadata": {},
   "outputs": [
    {
     "data": {
      "text/plain": [
       "'Athira Surendran'"
      ]
     },
     "execution_count": 35,
     "metadata": {},
     "output_type": "execute_result"
    }
   ],
   "source": [
    "name"
   ]
  },
  {
   "cell_type": "code",
   "execution_count": 36,
   "id": "77d9ce67-5160-401c-946d-2d9b70b7cf57",
   "metadata": {},
   "outputs": [
    {
     "data": {
      "text/plain": [
       "16"
      ]
     },
     "execution_count": 36,
     "metadata": {},
     "output_type": "execute_result"
    }
   ],
   "source": [
    "len(name)"
   ]
  },
  {
   "cell_type": "code",
   "execution_count": 37,
   "id": "efcafb7e-0a1d-4e33-83b8-d7e85a542a9c",
   "metadata": {},
   "outputs": [
    {
     "data": {
      "text/plain": [
       "'S'"
      ]
     },
     "execution_count": 37,
     "metadata": {},
     "output_type": "execute_result"
    }
   ],
   "source": [
    "name[7]"
   ]
  },
  {
   "cell_type": "code",
   "execution_count": 38,
   "id": "9e27f115-13ed-4689-b9ac-2da9ec1746d2",
   "metadata": {},
   "outputs": [
    {
     "data": {
      "text/plain": [
       "'Athira'"
      ]
     },
     "execution_count": 38,
     "metadata": {},
     "output_type": "execute_result"
    }
   ],
   "source": [
    "name[:6]"
   ]
  },
  {
   "cell_type": "code",
   "execution_count": 39,
   "id": "ed9e9c7a-a51e-4355-a542-21d3150660dc",
   "metadata": {},
   "outputs": [
    {
     "data": {
      "text/plain": [
       "'Surendran'"
      ]
     },
     "execution_count": 39,
     "metadata": {},
     "output_type": "execute_result"
    }
   ],
   "source": [
    "name[7:]"
   ]
  },
  {
   "cell_type": "code",
   "execution_count": 40,
   "id": "ff85dab8-272d-434d-8f80-ccaa22a356c8",
   "metadata": {},
   "outputs": [
    {
     "data": {
      "text/plain": [
       "'Athira A S'"
      ]
     },
     "execution_count": 40,
     "metadata": {},
     "output_type": "execute_result"
    }
   ],
   "source": [
    "name.replace(\"Surendran\", \"A S\")"
   ]
  },
  {
   "cell_type": "code",
   "execution_count": 41,
   "id": "69673324-071e-41d3-8803-ad0caf3e94ad",
   "metadata": {},
   "outputs": [
    {
     "data": {
      "text/plain": [
       "'Athira Surendran'"
      ]
     },
     "execution_count": 41,
     "metadata": {},
     "output_type": "execute_result"
    }
   ],
   "source": [
    "name"
   ]
  },
  {
   "cell_type": "code",
   "execution_count": 42,
   "id": "16b55271-f8aa-4673-a233-1c0192f22099",
   "metadata": {},
   "outputs": [
    {
     "data": {
      "text/plain": [
       "3"
      ]
     },
     "execution_count": 42,
     "metadata": {},
     "output_type": "execute_result"
    }
   ],
   "source": [
    "name.count(\"r\")"
   ]
  },
  {
   "cell_type": "code",
   "execution_count": 43,
   "id": "4c7e97ec-c140-4fab-a17e-0f03a17ed1cc",
   "metadata": {},
   "outputs": [
    {
     "data": {
      "text/plain": [
       "['Athira', 'Surendran']"
      ]
     },
     "execution_count": 43,
     "metadata": {},
     "output_type": "execute_result"
    }
   ],
   "source": [
    "name.split()"
   ]
  },
  {
   "cell_type": "code",
   "execution_count": 44,
   "id": "d5a49ca4-37fc-418d-807a-5370111b984e",
   "metadata": {},
   "outputs": [],
   "source": [
    "Subject = \"Maths English Malayalam Hindi Economics\""
   ]
  },
  {
   "cell_type": "code",
   "execution_count": 45,
   "id": "cb07ed97-fd08-4e5f-835e-9940197e0b2a",
   "metadata": {},
   "outputs": [
    {
     "data": {
      "text/plain": [
       "['Maths', 'English', 'Malayalam', 'Hindi', 'Economics']"
      ]
     },
     "execution_count": 45,
     "metadata": {},
     "output_type": "execute_result"
    }
   ],
   "source": [
    "Subject.split()"
   ]
  },
  {
   "cell_type": "code",
   "execution_count": 46,
   "id": "8e8ab5e5-8be1-4667-a3fd-050c1bafec71",
   "metadata": {},
   "outputs": [],
   "source": [
    "a = \"Economics\""
   ]
  },
  {
   "cell_type": "code",
   "execution_count": 47,
   "id": "f3814a2c-f728-4408-813d-fa86c8b69faa",
   "metadata": {},
   "outputs": [
    {
     "data": {
      "text/plain": [
       "['Ec', 'n', 'mics']"
      ]
     },
     "execution_count": 47,
     "metadata": {},
     "output_type": "execute_result"
    }
   ],
   "source": [
    "a.split(\"o\")"
   ]
  },
  {
   "cell_type": "code",
   "execution_count": 48,
   "id": "0b9b84ea-2f94-4911-8b3b-9c27f61871f4",
   "metadata": {},
   "outputs": [
    {
     "data": {
      "text/plain": [
       "['Athira', 'Surendran']"
      ]
     },
     "execution_count": 48,
     "metadata": {},
     "output_type": "execute_result"
    }
   ],
   "source": [
    "name.split(\" \")"
   ]
  },
  {
   "cell_type": "markdown",
   "id": "29d1277e-39d8-47cb-a412-062662b41851",
   "metadata": {},
   "source": [
    "##### Formatting"
   ]
  },
  {
   "cell_type": "code",
   "execution_count": 49,
   "id": "8e4f73c0-28df-4f95-bf6e-25227b1d0498",
   "metadata": {},
   "outputs": [],
   "source": [
    "name = \"Athira\"\n",
    "age = 25"
   ]
  },
  {
   "cell_type": "code",
   "execution_count": 50,
   "id": "91657034-c28b-471e-b2e1-0e53581cf792",
   "metadata": {},
   "outputs": [],
   "source": [
    "sentence = \"My name is {} and i am {} years old\".format(name, age) "
   ]
  },
  {
   "cell_type": "code",
   "execution_count": 51,
   "id": "4880719f-de35-4f11-bc7a-465102675cf1",
   "metadata": {},
   "outputs": [
    {
     "data": {
      "text/plain": [
       "'My name is Athira and i am 25 years old'"
      ]
     },
     "execution_count": 51,
     "metadata": {},
     "output_type": "execute_result"
    }
   ],
   "source": [
    "sentence"
   ]
  },
  {
   "cell_type": "code",
   "execution_count": 52,
   "id": "5903b194-629b-4d8b-a394-e5ddbacf4fe5",
   "metadata": {},
   "outputs": [],
   "source": [
    "sent = f\"My name is {name} and i am {age} years old\""
   ]
  },
  {
   "cell_type": "code",
   "execution_count": 53,
   "id": "a3ec92a1-71b0-4588-a98a-b75918145ba6",
   "metadata": {},
   "outputs": [
    {
     "data": {
      "text/plain": [
       "'My name is Athira and i am 25 years old'"
      ]
     },
     "execution_count": 53,
     "metadata": {},
     "output_type": "execute_result"
    }
   ],
   "source": [
    "sent"
   ]
  },
  {
   "cell_type": "code",
   "execution_count": 54,
   "id": "8eb215c9-e1e8-4687-b98d-19d1754f09cd",
   "metadata": {},
   "outputs": [],
   "source": [
    "name = \"PP\"\n",
    "age = 17\n",
    "cls = \"+2\""
   ]
  },
  {
   "cell_type": "code",
   "execution_count": 55,
   "id": "eaf45860-4f77-459f-9656-9a2c01f47fef",
   "metadata": {},
   "outputs": [
    {
     "name": "stdout",
     "output_type": "stream",
     "text": [
      "My name is PP and i am 17 years old. Currently i am studing +2.\n"
     ]
    }
   ],
   "source": [
    "print(\"My name is {} and i am {} years old. Currently i am studing {}.\".format(name, age, cls))"
   ]
  },
  {
   "cell_type": "code",
   "execution_count": 56,
   "id": "a972870d-6934-4975-8b93-4d3de09b2b30",
   "metadata": {},
   "outputs": [
    {
     "name": "stdout",
     "output_type": "stream",
     "text": [
      "My name is PP and i am 17 years old. Currently i am studing +2.\n"
     ]
    }
   ],
   "source": [
    "print(f\"My name is {name} and i am {age} years old. Currently i am studing {cls}.\")"
   ]
  },
  {
   "cell_type": "code",
   "execution_count": 57,
   "id": "2d4c57d5-8af0-4f1f-9080-1834b678a845",
   "metadata": {},
   "outputs": [
    {
     "name": "stdout",
     "output_type": "stream",
     "text": [
      "Python is a high-level, interpreted, general-purpose programming language.\n",
      "It was created by Guido van Rossum and first released in 1991.\n",
      "Python is known for its clear and readable syntax,\n",
      "which emphasizes code readability and allows developers to write programs \n",
      "with fewer lines of code compared to some other languages.\n"
     ]
    }
   ],
   "source": [
    "print (\"\"\"Python is a high-level, interpreted, general-purpose programming language.\n",
    "It was created by Guido van Rossum and first released in 1991.\n",
    "Python is known for its clear and readable syntax,\n",
    "which emphasizes code readability and allows developers to write programs \n",
    "with fewer lines of code compared to some other languages.\"\"\")"
   ]
  },
  {
   "cell_type": "code",
   "execution_count": 58,
   "id": "4995dd48-55fc-4013-a76d-40708c0b44d4",
   "metadata": {},
   "outputs": [
    {
     "data": {
      "text/plain": [
       "' '"
      ]
     },
     "execution_count": 58,
     "metadata": {},
     "output_type": "execute_result"
    }
   ],
   "source": [
    "marks = \" \"\n",
    "marks"
   ]
  },
  {
   "cell_type": "code",
   "execution_count": 62,
   "id": "17b479a0-9b7c-46a8-aa09-b087c631294b",
   "metadata": {},
   "outputs": [],
   "source": [
    "p = \"python\""
   ]
  },
  {
   "cell_type": "code",
   "execution_count": 63,
   "id": "ef3a0c89-c5a9-408b-b26e-50837a4551fc",
   "metadata": {},
   "outputs": [
    {
     "data": {
      "text/plain": [
       "'python'"
      ]
     },
     "execution_count": 63,
     "metadata": {},
     "output_type": "execute_result"
    }
   ],
   "source": [
    "p"
   ]
  },
  {
   "cell_type": "code",
   "execution_count": 64,
   "id": "bd554a03-e214-4203-8939-9cbfaac2ec9d",
   "metadata": {},
   "outputs": [
    {
     "data": {
      "text/plain": [
       "'nohtyp'"
      ]
     },
     "execution_count": 64,
     "metadata": {},
     "output_type": "execute_result"
    }
   ],
   "source": [
    "p[::-1]"
   ]
  },
  {
   "cell_type": "code",
   "execution_count": 66,
   "id": "4018ca45-3949-4dd3-bb28-47e6bcfa79dc",
   "metadata": {},
   "outputs": [
    {
     "data": {
      "text/plain": [
       "'t'"
      ]
     },
     "execution_count": 66,
     "metadata": {},
     "output_type": "execute_result"
    }
   ],
   "source": [
    "p[-4]"
   ]
  },
  {
   "cell_type": "code",
   "execution_count": 67,
   "id": "79f9620e-fe63-419a-b830-acee5676573c",
   "metadata": {},
   "outputs": [
    {
     "data": {
      "text/plain": [
       "'y'"
      ]
     },
     "execution_count": 67,
     "metadata": {},
     "output_type": "execute_result"
    }
   ],
   "source": [
    "p[1]"
   ]
  },
  {
   "cell_type": "code",
   "execution_count": 68,
   "id": "8d1ed730-4f1f-48d2-9b14-6fac4fd2f2f6",
   "metadata": {},
   "outputs": [
    {
     "data": {
      "text/plain": [
       "'pyth'"
      ]
     },
     "execution_count": 68,
     "metadata": {},
     "output_type": "execute_result"
    }
   ],
   "source": [
    "p[:4]"
   ]
  },
  {
   "cell_type": "code",
   "execution_count": 69,
   "id": "c55c6357-ea41-4305-8a25-f11277de8447",
   "metadata": {},
   "outputs": [
    {
     "data": {
      "text/plain": [
       "6"
      ]
     },
     "execution_count": 69,
     "metadata": {},
     "output_type": "execute_result"
    }
   ],
   "source": [
    "len(p)"
   ]
  },
  {
   "cell_type": "code",
   "execution_count": 70,
   "id": "3050ea16-d298-4b04-bd18-f86eff782e1b",
   "metadata": {},
   "outputs": [
    {
     "data": {
      "text/plain": [
       "'tho'"
      ]
     },
     "execution_count": 70,
     "metadata": {},
     "output_type": "execute_result"
    }
   ],
   "source": [
    "p[2:5]"
   ]
  },
  {
   "cell_type": "code",
   "execution_count": 73,
   "id": "da84c885-583c-4576-9ba7-23b279b76049",
   "metadata": {},
   "outputs": [
    {
     "data": {
      "text/plain": [
       "'yt'"
      ]
     },
     "execution_count": 73,
     "metadata": {},
     "output_type": "execute_result"
    }
   ],
   "source": [
    "p[1:3]"
   ]
  },
  {
   "cell_type": "code",
   "execution_count": 74,
   "id": "ec55c8ff-87f8-4f9f-b429-fdae0211e90f",
   "metadata": {},
   "outputs": [
    {
     "data": {
      "text/plain": [
       "'pythonpythonpythonpythonpythonpythonpython'"
      ]
     },
     "execution_count": 74,
     "metadata": {},
     "output_type": "execute_result"
    }
   ],
   "source": [
    "p * 7"
   ]
  },
  {
   "cell_type": "code",
   "execution_count": 76,
   "id": "345b0162-e479-457c-8906-fb60cdf5e152",
   "metadata": {},
   "outputs": [],
   "source": [
    "E = \"Economics \""
   ]
  },
  {
   "cell_type": "code",
   "execution_count": 77,
   "id": "a13e2134-fd01-491e-bba4-8f2b4161b809",
   "metadata": {},
   "outputs": [
    {
     "data": {
      "text/plain": [
       "'Economics Economics Economics Economics '"
      ]
     },
     "execution_count": 77,
     "metadata": {},
     "output_type": "execute_result"
    }
   ],
   "source": [
    "E * 4"
   ]
  },
  {
   "cell_type": "code",
   "execution_count": 78,
   "id": "7d125459-b310-4b4d-abe1-34a1481922e5",
   "metadata": {},
   "outputs": [
    {
     "data": {
      "text/plain": [
       "'Python'"
      ]
     },
     "execution_count": 78,
     "metadata": {},
     "output_type": "execute_result"
    }
   ],
   "source": [
    "p.capitalize()"
   ]
  },
  {
   "cell_type": "code",
   "execution_count": 84,
   "id": "8bb4fc77-e798-4667-970d-b334a4bb03a8",
   "metadata": {},
   "outputs": [],
   "source": [
    "movie = \"me before you\""
   ]
  },
  {
   "cell_type": "code",
   "execution_count": 85,
   "id": "faac2346-a817-4766-acb2-ad3df78b1412",
   "metadata": {},
   "outputs": [
    {
     "data": {
      "text/plain": [
       "'Me Before You'"
      ]
     },
     "execution_count": 85,
     "metadata": {},
     "output_type": "execute_result"
    }
   ],
   "source": [
    "movie.title()"
   ]
  },
  {
   "cell_type": "code",
   "execution_count": 100,
   "id": "c62bece4-981e-4163-8435-8483059476d4",
   "metadata": {},
   "outputs": [
    {
     "name": "stdout",
     "output_type": "stream",
     "text": [
      "Me Before You is a 2016 romantic drama \n",
      "film directed by Thea Sharrock in her directorial debut and adapted by author Jojo Moyes \n",
      "from her 2012 novel of the same name.\n",
      "The film stars Emilia Clarke, Sam Claflin, Janet McTeer, Charles Dance, and Brendan Coyle.\n"
     ]
    }
   ],
   "source": [
    "mby = \"\"\"Me Before You is a 2016 romantic drama \n",
    "film directed by Thea Sharrock in her directorial debut and adapted by author Jojo Moyes \n",
    "from her 2012 novel of the same name.\n",
    "The film stars Emilia Clarke, Sam Claflin, Janet McTeer, Charles Dance, and Brendan Coyle.\"\"\"\n",
    "\n",
    "print(mby)"
   ]
  },
  {
   "cell_type": "code",
   "execution_count": 97,
   "id": "dd509fbb-66bf-41ac-bd23-e4ba694e4083",
   "metadata": {},
   "outputs": [
    {
     "data": {
      "text/plain": [
       "258"
      ]
     },
     "execution_count": 97,
     "metadata": {},
     "output_type": "execute_result"
    }
   ],
   "source": [
    "len(mby)"
   ]
  },
  {
   "cell_type": "code",
   "execution_count": 102,
   "id": "f8704f0e-eb05-44a3-a5fe-84205bbde97d",
   "metadata": {},
   "outputs": [
    {
     "data": {
      "text/plain": [
       "33"
      ]
     },
     "execution_count": 102,
     "metadata": {},
     "output_type": "execute_result"
    }
   ],
   "source": [
    "mby.find(\"drama\")"
   ]
  },
  {
   "cell_type": "markdown",
   "id": "6d56b557-b4ff-4edf-9b79-6d822c6df890",
   "metadata": {},
   "source": [
    "#### startwith() and endswith()"
   ]
  },
  {
   "cell_type": "code",
   "execution_count": 2,
   "id": "90320c3e-d71b-431a-8d7a-0b010e4e168b",
   "metadata": {},
   "outputs": [
    {
     "data": {
      "text/plain": [
       "'Economics is a behavioral science that studies the production, distribution, and consumption of goods and services. Economics focuses on the behaviour and interactions of economic agents and how economies work.'"
      ]
     },
     "execution_count": 2,
     "metadata": {},
     "output_type": "execute_result"
    }
   ],
   "source": [
    "text = \"Economics is a behavioral science that studies the production, distribution, and consumption of goods and services. Economics focuses on the behaviour and interactions of economic agents and how economies work.\"\n",
    "\n",
    "text"
   ]
  },
  {
   "cell_type": "code",
   "execution_count": 3,
   "id": "d4947ab2-54a0-4a3b-aec4-5ba4f1dca80d",
   "metadata": {},
   "outputs": [
    {
     "data": {
      "text/plain": [
       "210"
      ]
     },
     "execution_count": 3,
     "metadata": {},
     "output_type": "execute_result"
    }
   ],
   "source": [
    "len(text)"
   ]
  },
  {
   "cell_type": "code",
   "execution_count": 5,
   "id": "30da3cd8-8c2e-4127-8d63-e756b4e90247",
   "metadata": {},
   "outputs": [
    {
     "data": {
      "text/plain": [
       "True"
      ]
     },
     "execution_count": 5,
     "metadata": {},
     "output_type": "execute_result"
    }
   ],
   "source": [
    "text.startswith(\"Economics\")"
   ]
  },
  {
   "cell_type": "code",
   "execution_count": 6,
   "id": "91188ce7-6d56-4d35-8f41-f3ea00635519",
   "metadata": {},
   "outputs": [
    {
     "data": {
      "text/plain": [
       "False"
      ]
     },
     "execution_count": 6,
     "metadata": {},
     "output_type": "execute_result"
    }
   ],
   "source": [
    "text.endswith(\"work\")"
   ]
  },
  {
   "cell_type": "code",
   "execution_count": 7,
   "id": "dd2d3143-6baf-4169-8437-7f6ecee63f8f",
   "metadata": {},
   "outputs": [
    {
     "data": {
      "text/plain": [
       "True"
      ]
     },
     "execution_count": 7,
     "metadata": {},
     "output_type": "execute_result"
    }
   ],
   "source": [
    "text.endswith(\".\")"
   ]
  },
  {
   "cell_type": "markdown",
   "id": "0e7aee6a-fdad-41c6-aef3-36007a9e3783",
   "metadata": {},
   "source": [
    "#### Splitting and Joining Strings"
   ]
  },
  {
   "cell_type": "code",
   "execution_count": 19,
   "id": "df8a9db9-7a7c-4815-9fb2-28335615a97c",
   "metadata": {},
   "outputs": [],
   "source": [
    "text = \"ApplessOrangessBananassjack fruitssBerry\""
   ]
  },
  {
   "cell_type": "code",
   "execution_count": 20,
   "id": "c9d011b3-f7c4-4aef-8030-1e5543e1e28f",
   "metadata": {},
   "outputs": [
    {
     "data": {
      "text/plain": [
       "['Apple', 'Orange', 'Banana', 'jack fruit', 'Berry']"
      ]
     },
     "execution_count": 20,
     "metadata": {},
     "output_type": "execute_result"
    }
   ],
   "source": [
    "text.split(\"ss\")"
   ]
  },
  {
   "cell_type": "code",
   "execution_count": 21,
   "id": "bc501620-e565-4810-83a9-910e4090d0c0",
   "metadata": {},
   "outputs": [],
   "source": [
    "words = [\"Economics\", \"is\", \"a\", \"behavioral\", \"science\"]"
   ]
  },
  {
   "cell_type": "code",
   "execution_count": 25,
   "id": "31104e67-7f9f-4c66-9c87-8fcb22ac3cf1",
   "metadata": {},
   "outputs": [],
   "source": [
    "sen =\" \".join(words)"
   ]
  },
  {
   "cell_type": "code",
   "execution_count": 26,
   "id": "909ceb98-346b-443b-8ecc-7c4de8c908f0",
   "metadata": {},
   "outputs": [
    {
     "data": {
      "text/plain": [
       "'Economics is a behavioral science'"
      ]
     },
     "execution_count": 26,
     "metadata": {},
     "output_type": "execute_result"
    }
   ],
   "source": [
    "sen"
   ]
  },
  {
   "cell_type": "code",
   "execution_count": 27,
   "id": "918ca27e-780c-47fa-9ecc-c9d9dcb2663d",
   "metadata": {},
   "outputs": [],
   "source": [
    "eco = [\"Economics\",\"focuses\", \"on\", \"the\", \"behaviour\", \"and\", \"interactions\", \"of\", \"economic\", \"agents\", \"and\", \"how\", \"economies\", \"work.\"]"
   ]
  },
  {
   "cell_type": "code",
   "execution_count": 28,
   "id": "ec3bdc8b-a9ec-4fb4-b7df-f75db7f4f5b9",
   "metadata": {},
   "outputs": [
    {
     "data": {
      "text/plain": [
       "['Economics',\n",
       " 'focuses',\n",
       " 'on',\n",
       " 'the',\n",
       " 'behaviour',\n",
       " 'and',\n",
       " 'interactions',\n",
       " 'of',\n",
       " 'economic',\n",
       " 'agents',\n",
       " 'and',\n",
       " 'how',\n",
       " 'economies',\n",
       " 'work.']"
      ]
     },
     "execution_count": 28,
     "metadata": {},
     "output_type": "execute_result"
    }
   ],
   "source": [
    "eco"
   ]
  },
  {
   "cell_type": "code",
   "execution_count": 29,
   "id": "1929425e-8deb-4031-a1d4-29cafa499ee8",
   "metadata": {},
   "outputs": [],
   "source": [
    "Economics = \" \".join(eco)"
   ]
  },
  {
   "cell_type": "code",
   "execution_count": 30,
   "id": "96953f14-97a2-439a-98bb-eefc714ac513",
   "metadata": {},
   "outputs": [
    {
     "data": {
      "text/plain": [
       "'Economics focuses on the behaviour and interactions of economic agents and how economies work.'"
      ]
     },
     "execution_count": 30,
     "metadata": {},
     "output_type": "execute_result"
    }
   ],
   "source": [
    "Economics"
   ]
  },
  {
   "cell_type": "code",
   "execution_count": 31,
   "id": "a9c5b98a-91bb-486f-9c28-03de7c7ccf2d",
   "metadata": {},
   "outputs": [],
   "source": [
    "width = 10\n",
    "height = 5"
   ]
  },
  {
   "cell_type": "code",
   "execution_count": 34,
   "id": "f40ed637-8145-4897-9f36-ba37270506d7",
   "metadata": {},
   "outputs": [],
   "source": [
    "area = \"The area of the rectangle is {}\".format(width * height)"
   ]
  },
  {
   "cell_type": "code",
   "execution_count": 35,
   "id": "5cffbac9-f945-4f9e-94eb-0efd53906283",
   "metadata": {},
   "outputs": [
    {
     "data": {
      "text/plain": [
       "'The area of the rectangle is 50'"
      ]
     },
     "execution_count": 35,
     "metadata": {},
     "output_type": "execute_result"
    }
   ],
   "source": [
    "area"
   ]
  },
  {
   "cell_type": "code",
   "execution_count": 38,
   "id": "1b53a2fb-6a27-4863-90e9-58f88c70670a",
   "metadata": {},
   "outputs": [],
   "source": [
    "area = f\"The area of the rectangle is {width * height}.\""
   ]
  },
  {
   "cell_type": "code",
   "execution_count": 39,
   "id": "32ea33b5-87dc-47f7-a157-dafa224aa4f3",
   "metadata": {},
   "outputs": [
    {
     "data": {
      "text/plain": [
       "'The area of the rectangle is 50.'"
      ]
     },
     "execution_count": 39,
     "metadata": {},
     "output_type": "execute_result"
    }
   ],
   "source": [
    "area"
   ]
  },
  {
   "cell_type": "markdown",
   "id": "a1843fd7-d791-45cf-bd13-fd863b813550",
   "metadata": {},
   "source": [
    "#### Escape Characters"
   ]
  },
  {
   "cell_type": "markdown",
   "id": "98c53d47-1364-45dc-b96a-7c3a9cdb049c",
   "metadata": {},
   "source": [
    "\\n New line\\\n",
    "\\t Tab"
   ]
  },
  {
   "cell_type": "code",
   "execution_count": 40,
   "id": "e06bd82e-8c49-4f18-ac03-d7f2b9001d95",
   "metadata": {},
   "outputs": [
    {
     "name": "stdout",
     "output_type": "stream",
     "text": [
      "Hello\n",
      "World\n"
     ]
    }
   ],
   "source": [
    "print(\"Hello\\nWorld\")"
   ]
  },
  {
   "cell_type": "code",
   "execution_count": 42,
   "id": "8c0a4aca-3f5e-415e-b384-1d5a1f775515",
   "metadata": {},
   "outputs": [
    {
     "name": "stdout",
     "output_type": "stream",
     "text": [
      "Hello\tWorld\n"
     ]
    }
   ],
   "source": [
    "print(\"Hello\\tWorld\")"
   ]
  },
  {
   "cell_type": "markdown",
   "id": "a22c4341-61bc-487d-a5d7-4bbb069d6896",
   "metadata": {},
   "source": [
    "#### Strip(), lstrip(), and rstrip()"
   ]
  },
  {
   "cell_type": "markdown",
   "id": "6d9b1641-718a-4a0c-89bb-483c99cecad1",
   "metadata": {},
   "source": [
    "Strip()"
   ]
  },
  {
   "cell_type": "code",
   "execution_count": 47,
   "id": "1821eb8f-f7d5-436d-8b78-845b2908332c",
   "metadata": {},
   "outputs": [],
   "source": [
    "text = \"    Hello World           \"\n",
    "\n",
    "cleanedtext = text.strip()"
   ]
  },
  {
   "cell_type": "code",
   "execution_count": 48,
   "id": "6d487708-62e5-4067-a5bd-6e00af659762",
   "metadata": {},
   "outputs": [
    {
     "data": {
      "text/plain": [
       "'Hello World'"
      ]
     },
     "execution_count": 48,
     "metadata": {},
     "output_type": "execute_result"
    }
   ],
   "source": [
    "cleanedtext"
   ]
  },
  {
   "cell_type": "code",
   "execution_count": 51,
   "id": "01a7133f-882a-4f81-bae2-e481ea027245",
   "metadata": {},
   "outputs": [],
   "source": [
    "text = \"####python###\"\n",
    "\n",
    "cleanedtext = text.strip(\"#\")"
   ]
  },
  {
   "cell_type": "code",
   "execution_count": 52,
   "id": "72b6d74b-cab7-4ee7-8df2-537c2b6cc786",
   "metadata": {},
   "outputs": [
    {
     "data": {
      "text/plain": [
       "'python'"
      ]
     },
     "execution_count": 52,
     "metadata": {},
     "output_type": "execute_result"
    }
   ],
   "source": [
    "cleanedtext"
   ]
  },
  {
   "cell_type": "markdown",
   "id": "8d15c07d-d54b-4fd1-9538-03aaa5c58945",
   "metadata": {},
   "source": [
    "lstrip()"
   ]
  },
  {
   "cell_type": "code",
   "execution_count": 53,
   "id": "ca7667ee-d333-45cd-9361-4625431e1c1d",
   "metadata": {},
   "outputs": [
    {
     "data": {
      "text/plain": [
       "'Hello World      '"
      ]
     },
     "execution_count": 53,
     "metadata": {},
     "output_type": "execute_result"
    }
   ],
   "source": [
    "text = \"    Hello World      \"\n",
    "\n",
    "lcleanedtext = text.lstrip()\n",
    "lcleanedtext"
   ]
  },
  {
   "cell_type": "code",
   "execution_count": 54,
   "id": "1ece49fc-ab2c-4b18-90d4-61cb1ddc630b",
   "metadata": {},
   "outputs": [
    {
     "data": {
      "text/plain": [
       "'python###'"
      ]
     },
     "execution_count": 54,
     "metadata": {},
     "output_type": "execute_result"
    }
   ],
   "source": [
    "text = \"####python###\"\n",
    "\n",
    "lcleanedtext = text.lstrip(\"#\")\n",
    "lcleanedtext"
   ]
  },
  {
   "cell_type": "markdown",
   "id": "4535c096-2fbe-412a-8b6e-9253902cc34e",
   "metadata": {},
   "source": [
    "rstrip()"
   ]
  },
  {
   "cell_type": "code",
   "execution_count": 55,
   "id": "9b827fe2-59ef-4d4e-aa6d-e8e7c5abfa54",
   "metadata": {},
   "outputs": [
    {
     "data": {
      "text/plain": [
       "'    Hello World'"
      ]
     },
     "execution_count": 55,
     "metadata": {},
     "output_type": "execute_result"
    }
   ],
   "source": [
    "text = \"    Hello World     \"\n",
    "\n",
    "rcleanedtext = text.rstrip()\n",
    "rcleanedtext"
   ]
  },
  {
   "cell_type": "code",
   "execution_count": 57,
   "id": "060c5077-4678-4f78-a924-d1e0b26b0c87",
   "metadata": {},
   "outputs": [
    {
     "data": {
      "text/plain": [
       "'####python'"
      ]
     },
     "execution_count": 57,
     "metadata": {},
     "output_type": "execute_result"
    }
   ],
   "source": [
    "text = \"####python###\"\n",
    "\n",
    "rcleanedtext = text.rstrip(\"#\")\n",
    "rcleanedtext"
   ]
  },
  {
   "cell_type": "markdown",
   "id": "f83ddfb7-42ac-43f9-94cd-831c4e316fbd",
   "metadata": {},
   "source": [
    "#### Comparison Operators"
   ]
  },
  {
   "cell_type": "markdown",
   "id": "230becd3-a3bd-4b07-9aee-6da22e721069",
   "metadata": {},
   "source": [
    "True or False\n",
    "\n",
    "= Assignment\n",
    "\n",
    "== two values equal\n",
    "\n",
    "!= not equal"
   ]
  },
  {
   "cell_type": "code",
   "execution_count": 62,
   "id": "bd8e6ee0-b609-4daa-85bb-8be9dc97212c",
   "metadata": {},
   "outputs": [],
   "source": [
    "a = 5\n",
    "b = 10"
   ]
  },
  {
   "cell_type": "code",
   "execution_count": 63,
   "id": "e9fe546a-34ab-414a-86f2-f7b870ea231e",
   "metadata": {},
   "outputs": [
    {
     "data": {
      "text/plain": [
       "False"
      ]
     },
     "execution_count": 63,
     "metadata": {},
     "output_type": "execute_result"
    }
   ],
   "source": [
    "a == b"
   ]
  },
  {
   "cell_type": "code",
   "execution_count": 64,
   "id": "bb33df48-7769-44cd-b837-8bf8e0f4ff1d",
   "metadata": {},
   "outputs": [
    {
     "data": {
      "text/plain": [
       "True"
      ]
     },
     "execution_count": 64,
     "metadata": {},
     "output_type": "execute_result"
    }
   ],
   "source": [
    "a != b"
   ]
  },
  {
   "cell_type": "code",
   "execution_count": 65,
   "id": "b7ed5d8f-d94b-41c8-a33c-163b2f3b1682",
   "metadata": {},
   "outputs": [
    {
     "data": {
      "text/plain": [
       "False"
      ]
     },
     "execution_count": 65,
     "metadata": {},
     "output_type": "execute_result"
    }
   ],
   "source": [
    "a > b"
   ]
  },
  {
   "cell_type": "code",
   "execution_count": 66,
   "id": "dd6e2265-b2ca-4160-bca6-da4d65b23de3",
   "metadata": {},
   "outputs": [
    {
     "data": {
      "text/plain": [
       "True"
      ]
     },
     "execution_count": 66,
     "metadata": {},
     "output_type": "execute_result"
    }
   ],
   "source": [
    "a < b "
   ]
  },
  {
   "cell_type": "code",
   "execution_count": 67,
   "id": "ae7150d4-16f9-4d1e-a228-cf3fbd14ac76",
   "metadata": {},
   "outputs": [
    {
     "data": {
      "text/plain": [
       "False"
      ]
     },
     "execution_count": 67,
     "metadata": {},
     "output_type": "execute_result"
    }
   ],
   "source": [
    "a >= b"
   ]
  },
  {
   "cell_type": "code",
   "execution_count": 68,
   "id": "31a43ed0-e6a5-4937-89c8-7f4f835a3b15",
   "metadata": {},
   "outputs": [
    {
     "data": {
      "text/plain": [
       "True"
      ]
     },
     "execution_count": 68,
     "metadata": {},
     "output_type": "execute_result"
    }
   ],
   "source": [
    "a <= b"
   ]
  },
  {
   "cell_type": "markdown",
   "id": "dea28a57-3b00-4524-8463-01d8dbe756d7",
   "metadata": {},
   "source": [
    "#### Logical Operators"
   ]
  },
  {
   "cell_type": "markdown",
   "id": "c5dece50-0374-47f1-ba60-069eaa14a6f1",
   "metadata": {},
   "source": [
    "and \\\n",
    "or"
   ]
  },
  {
   "cell_type": "code",
   "execution_count": 70,
   "id": "849e0f32-6131-4acf-8b86-fbacd5da1fd1",
   "metadata": {},
   "outputs": [
    {
     "data": {
      "text/plain": [
       "False"
      ]
     },
     "execution_count": 70,
     "metadata": {},
     "output_type": "execute_result"
    }
   ],
   "source": [
    "1 > 2  and 2 < 3"
   ]
  },
  {
   "cell_type": "code",
   "execution_count": 72,
   "id": "4b60d1c1-ee8a-47d5-bcc1-1974555e0a99",
   "metadata": {},
   "outputs": [
    {
     "data": {
      "text/plain": [
       "True"
      ]
     },
     "execution_count": 72,
     "metadata": {},
     "output_type": "execute_result"
    }
   ],
   "source": [
    "1 < 2 and 2 < 3"
   ]
  },
  {
   "cell_type": "code",
   "execution_count": 75,
   "id": "1636a555-c474-4769-94b4-58f224b14107",
   "metadata": {},
   "outputs": [
    {
     "data": {
      "text/plain": [
       "True"
      ]
     },
     "execution_count": 75,
     "metadata": {},
     "output_type": "execute_result"
    }
   ],
   "source": [
    "1 > 2 or 2 < 3"
   ]
  },
  {
   "cell_type": "code",
   "execution_count": 77,
   "id": "e432398b-7ddc-49fc-bf43-6c53484ac449",
   "metadata": {},
   "outputs": [
    {
     "data": {
      "text/plain": [
       "True"
      ]
     },
     "execution_count": 77,
     "metadata": {},
     "output_type": "execute_result"
    }
   ],
   "source": [
    "1 < 2 or 2 > 3"
   ]
  },
  {
   "cell_type": "markdown",
   "id": "3a778cbb-5753-490f-b08f-e87b1117abfa",
   "metadata": {},
   "source": [
    "### List []"
   ]
  },
  {
   "cell_type": "markdown",
   "id": "c8a943cd-f220-4dca-9844-d7fb5704d1ef",
   "metadata": {},
   "source": [
    "mutable"
   ]
  },
  {
   "cell_type": "code",
   "execution_count": 85,
   "id": "46a0962e-9a2e-460c-a589-12b0bde8464d",
   "metadata": {},
   "outputs": [],
   "source": [
    "my_list = [1, 2, 3, \"Four\", 2.3]"
   ]
  },
  {
   "cell_type": "code",
   "execution_count": 86,
   "id": "08d3489c-3b22-443b-9bbb-3d80a461023b",
   "metadata": {},
   "outputs": [
    {
     "data": {
      "text/plain": [
       "[1, 2, 3, 'Four', 2.3]"
      ]
     },
     "execution_count": 86,
     "metadata": {},
     "output_type": "execute_result"
    }
   ],
   "source": [
    "my_list"
   ]
  },
  {
   "cell_type": "code",
   "execution_count": 87,
   "id": "e64e14e6-d707-4821-82f2-60f693d3e588",
   "metadata": {},
   "outputs": [
    {
     "data": {
      "text/plain": [
       "list"
      ]
     },
     "execution_count": 87,
     "metadata": {},
     "output_type": "execute_result"
    }
   ],
   "source": [
    "type(my_list)"
   ]
  },
  {
   "cell_type": "code",
   "execution_count": 88,
   "id": "a9a9942a-3f9e-4ba4-8d37-fbf9e6e58b1d",
   "metadata": {},
   "outputs": [],
   "source": [
    "a = 1, 2, 3, 4"
   ]
  },
  {
   "cell_type": "code",
   "execution_count": 89,
   "id": "e2d93f2a-cb3c-4619-b664-d3a7409d46bb",
   "metadata": {},
   "outputs": [
    {
     "data": {
      "text/plain": [
       "tuple"
      ]
     },
     "execution_count": 89,
     "metadata": {},
     "output_type": "execute_result"
    }
   ],
   "source": [
    "type(a)"
   ]
  },
  {
   "cell_type": "code",
   "execution_count": 90,
   "id": "3b7311cc-9632-4eaa-b34a-e9d594ded016",
   "metadata": {},
   "outputs": [],
   "source": [
    "b = \"Hello World\""
   ]
  },
  {
   "cell_type": "code",
   "execution_count": 91,
   "id": "d3606e0a-5e7a-4c47-ab60-6eb2217e3b44",
   "metadata": {},
   "outputs": [
    {
     "data": {
      "text/plain": [
       "str"
      ]
     },
     "execution_count": 91,
     "metadata": {},
     "output_type": "execute_result"
    }
   ],
   "source": [
    "type(b)"
   ]
  },
  {
   "cell_type": "code",
   "execution_count": 92,
   "id": "9a61a0f1-3803-484b-8ac0-e3580f400b36",
   "metadata": {},
   "outputs": [],
   "source": [
    "c = 420"
   ]
  },
  {
   "cell_type": "code",
   "execution_count": 93,
   "id": "0ee39b7b-db6a-4017-9f1d-1369f1ec6a82",
   "metadata": {},
   "outputs": [
    {
     "data": {
      "text/plain": [
       "int"
      ]
     },
     "execution_count": 93,
     "metadata": {},
     "output_type": "execute_result"
    }
   ],
   "source": [
    "type(c)"
   ]
  },
  {
   "cell_type": "code",
   "execution_count": 94,
   "id": "4d9ad852-7232-4dcd-8a3c-2406390175a5",
   "metadata": {},
   "outputs": [],
   "source": [
    "d = 12.666"
   ]
  },
  {
   "cell_type": "code",
   "execution_count": 95,
   "id": "5fe78cae-fd6c-444d-9093-f2f237e87c1a",
   "metadata": {},
   "outputs": [
    {
     "data": {
      "text/plain": [
       "float"
      ]
     },
     "execution_count": 95,
     "metadata": {},
     "output_type": "execute_result"
    }
   ],
   "source": [
    "type(d)"
   ]
  },
  {
   "cell_type": "code",
   "execution_count": 96,
   "id": "2ed5a8dd-4ee2-4502-a130-8974cdc4e504",
   "metadata": {},
   "outputs": [
    {
     "data": {
      "text/plain": [
       "2.3"
      ]
     },
     "execution_count": 96,
     "metadata": {},
     "output_type": "execute_result"
    }
   ],
   "source": [
    "my_list[4]"
   ]
  },
  {
   "cell_type": "code",
   "execution_count": 97,
   "id": "f253530d-fd93-4ebf-9b97-a84519262719",
   "metadata": {},
   "outputs": [
    {
     "data": {
      "text/plain": [
       "'Four'"
      ]
     },
     "execution_count": 97,
     "metadata": {},
     "output_type": "execute_result"
    }
   ],
   "source": [
    "my_list[-2]"
   ]
  },
  {
   "cell_type": "code",
   "execution_count": 99,
   "id": "d844a5a3-ac2f-4688-9f7d-868ee8eea973",
   "metadata": {},
   "outputs": [
    {
     "data": {
      "text/plain": [
       "[2, 3, 'Four']"
      ]
     },
     "execution_count": 99,
     "metadata": {},
     "output_type": "execute_result"
    }
   ],
   "source": [
    "my_list[1:4]"
   ]
  },
  {
   "cell_type": "code",
   "execution_count": 1,
   "id": "9fde5c05-cff7-4aaf-b805-458ddaa19c3c",
   "metadata": {},
   "outputs": [],
   "source": [
    "a = 1, 2, 3, 4, 5\n",
    "b = 6, 7, 8, 9, 10"
   ]
  },
  {
   "cell_type": "code",
   "execution_count": 2,
   "id": "93c8206b-8b3d-43f9-a00a-04c66705087d",
   "metadata": {},
   "outputs": [
    {
     "data": {
      "text/plain": [
       "(1, 2, 3, 4, 5, 6, 7, 8, 9, 10)"
      ]
     },
     "execution_count": 2,
     "metadata": {},
     "output_type": "execute_result"
    }
   ],
   "source": [
    "a + b"
   ]
  },
  {
   "cell_type": "code",
   "execution_count": 4,
   "id": "a944b311-f9cf-432f-8152-985a16e0d87b",
   "metadata": {},
   "outputs": [
    {
     "data": {
      "text/plain": [
       "([1, 2, 3], [4, 5, 6], [7, 8, 9])"
      ]
     },
     "execution_count": 4,
     "metadata": {},
     "output_type": "execute_result"
    }
   ],
   "source": [
    "ab = [1, 2, 3], [4, 5, 6], [7, 8, 9]\n",
    "\n",
    "ab"
   ]
  },
  {
   "cell_type": "code",
   "execution_count": 6,
   "id": "b7c274dc-aa53-4ca9-8654-d1f00217652c",
   "metadata": {},
   "outputs": [
    {
     "data": {
      "text/plain": [
       "([1, 2, 3], [4, 5, 6], [7, 8, 9], ['apple', 'orange', 'grape'])"
      ]
     },
     "execution_count": 6,
     "metadata": {},
     "output_type": "execute_result"
    }
   ],
   "source": [
    "ab = [1, 2, 3], [4, 5, 6], [7, 8, 9], [\"apple\", \"orange\", \"grape\"]\n",
    "\n",
    "ab"
   ]
  },
  {
   "cell_type": "code",
   "execution_count": 7,
   "id": "1465b632-a774-4600-9939-7a19ebf78388",
   "metadata": {},
   "outputs": [
    {
     "data": {
      "text/plain": [
       "[1, 2, 3]"
      ]
     },
     "execution_count": 7,
     "metadata": {},
     "output_type": "execute_result"
    }
   ],
   "source": [
    "ab[0]"
   ]
  },
  {
   "cell_type": "code",
   "execution_count": 9,
   "id": "aac4387f-9b14-46bc-9dd5-fb8b07abeb72",
   "metadata": {},
   "outputs": [
    {
     "data": {
      "text/plain": [
       "['apple', 'orange', 'grape']"
      ]
     },
     "execution_count": 9,
     "metadata": {},
     "output_type": "execute_result"
    }
   ],
   "source": [
    "ab[3]"
   ]
  },
  {
   "cell_type": "code",
   "execution_count": 10,
   "id": "e234bad7-ebf5-4560-a6e6-35d9a7ac6992",
   "metadata": {},
   "outputs": [
    {
     "data": {
      "text/plain": [
       "1"
      ]
     },
     "execution_count": 10,
     "metadata": {},
     "output_type": "execute_result"
    }
   ],
   "source": [
    "ab[0][0]"
   ]
  },
  {
   "cell_type": "code",
   "execution_count": 11,
   "id": "7edc19d4-e8ef-4ae2-8a6c-beee02aa93e4",
   "metadata": {},
   "outputs": [
    {
     "data": {
      "text/plain": [
       "'orange'"
      ]
     },
     "execution_count": 11,
     "metadata": {},
     "output_type": "execute_result"
    }
   ],
   "source": [
    "ab[3][1]"
   ]
  },
  {
   "cell_type": "code",
   "execution_count": 13,
   "id": "2fafaea1-bd0c-47ba-a6de-bc0f0f9eebe0",
   "metadata": {},
   "outputs": [
    {
     "data": {
      "text/plain": [
       "4"
      ]
     },
     "execution_count": 13,
     "metadata": {},
     "output_type": "execute_result"
    }
   ],
   "source": [
    "len(ab)"
   ]
  },
  {
   "cell_type": "code",
   "execution_count": 24,
   "id": "e87bab50-3565-4cd9-b7b8-eec63d0054a1",
   "metadata": {},
   "outputs": [],
   "source": [
    "ab = [1, 2, 3, 4, 5, 6, 7, 8, 9, \"apple\", \"orange\", \"grape\"]"
   ]
  },
  {
   "cell_type": "code",
   "execution_count": 25,
   "id": "95acfc9d-448c-4aa0-a321-8c61c317de4e",
   "metadata": {},
   "outputs": [],
   "source": [
    "ab.reverse()"
   ]
  },
  {
   "cell_type": "code",
   "execution_count": 26,
   "id": "9dd55045-dcea-47ed-97eb-2b627cf3d5cb",
   "metadata": {},
   "outputs": [
    {
     "data": {
      "text/plain": [
       "['grape', 'orange', 'apple', 9, 8, 7, 6, 5, 4, 3, 2, 1]"
      ]
     },
     "execution_count": 26,
     "metadata": {},
     "output_type": "execute_result"
    }
   ],
   "source": [
    "ab"
   ]
  },
  {
   "cell_type": "code",
   "execution_count": 27,
   "id": "e0fc0dfc-df02-45be-8e62-d4aa14bf1acb",
   "metadata": {},
   "outputs": [
    {
     "data": {
      "text/plain": [
       "2"
      ]
     },
     "execution_count": 27,
     "metadata": {},
     "output_type": "execute_result"
    }
   ],
   "source": [
    "ab.index(\"apple\")"
   ]
  },
  {
   "cell_type": "code",
   "execution_count": 34,
   "id": "d99d6ea6-97f8-4fc3-8d22-e63b4a8df7e0",
   "metadata": {},
   "outputs": [
    {
     "data": {
      "text/plain": [
       "3"
      ]
     },
     "execution_count": 34,
     "metadata": {},
     "output_type": "execute_result"
    }
   ],
   "source": [
    "ab.index(9)"
   ]
  },
  {
   "cell_type": "code",
   "execution_count": 43,
   "id": "f452b0d1-f834-414a-9857-66ea270e2d96",
   "metadata": {},
   "outputs": [],
   "source": [
    "sub = [\"Economics\", \"Maths\", \"English\"]"
   ]
  },
  {
   "cell_type": "code",
   "execution_count": 44,
   "id": "e13621c6-f21b-4907-8825-a0a8ba5dff2a",
   "metadata": {},
   "outputs": [
    {
     "data": {
      "text/plain": [
       "['Economics', 'Maths', 'English']"
      ]
     },
     "execution_count": 44,
     "metadata": {},
     "output_type": "execute_result"
    }
   ],
   "source": [
    "sub"
   ]
  },
  {
   "cell_type": "code",
   "execution_count": 45,
   "id": "d74e8bed-e797-41e6-98fc-13fedd909b5c",
   "metadata": {},
   "outputs": [],
   "source": [
    "sub.reverse()"
   ]
  },
  {
   "cell_type": "code",
   "execution_count": 46,
   "id": "a36236e1-97a4-4dd9-8982-a452a8ec4a22",
   "metadata": {},
   "outputs": [
    {
     "data": {
      "text/plain": [
       "['English', 'Maths', 'Economics']"
      ]
     },
     "execution_count": 46,
     "metadata": {},
     "output_type": "execute_result"
    }
   ],
   "source": [
    "sub"
   ]
  },
  {
   "cell_type": "code",
   "execution_count": 48,
   "id": "bab29b02-f399-4723-9925-88d612e5d5a5",
   "metadata": {},
   "outputs": [
    {
     "data": {
      "text/plain": [
       "1"
      ]
     },
     "execution_count": 48,
     "metadata": {},
     "output_type": "execute_result"
    }
   ],
   "source": [
    "sub.index(\"Maths\")"
   ]
  },
  {
   "cell_type": "code",
   "execution_count": 49,
   "id": "621c8317-809a-4944-8bdd-951322b01154",
   "metadata": {},
   "outputs": [
    {
     "data": {
      "text/plain": [
       "'English'"
      ]
     },
     "execution_count": 49,
     "metadata": {},
     "output_type": "execute_result"
    }
   ],
   "source": [
    "sub[0]"
   ]
  },
  {
   "cell_type": "code",
   "execution_count": 50,
   "id": "0010380e-d911-422d-af24-4396208830b4",
   "metadata": {},
   "outputs": [],
   "source": [
    "sub.append(\"Malayalam\")"
   ]
  },
  {
   "cell_type": "code",
   "execution_count": 51,
   "id": "3ebbaac6-a555-4dac-a0cd-5782c9072e14",
   "metadata": {},
   "outputs": [
    {
     "data": {
      "text/plain": [
       "['English', 'Maths', 'Economics', 'Malayalam']"
      ]
     },
     "execution_count": 51,
     "metadata": {},
     "output_type": "execute_result"
    }
   ],
   "source": [
    "sub"
   ]
  },
  {
   "cell_type": "code",
   "execution_count": 52,
   "id": "8ca49a73-cd1e-4326-a925-9d00461b84b7",
   "metadata": {},
   "outputs": [],
   "source": [
    "sub.append(\"Hindi\")"
   ]
  },
  {
   "cell_type": "code",
   "execution_count": 53,
   "id": "e3e6e8a4-65e7-4c77-9c94-fb1e61babf13",
   "metadata": {},
   "outputs": [
    {
     "data": {
      "text/plain": [
       "['English', 'Maths', 'Economics', 'Malayalam', 'Hindi']"
      ]
     },
     "execution_count": 53,
     "metadata": {},
     "output_type": "execute_result"
    }
   ],
   "source": [
    "sub"
   ]
  },
  {
   "cell_type": "markdown",
   "id": "ec827ddf-08a6-4cfc-ba75-8fd619e2e903",
   "metadata": {},
   "source": [
    "##### pop & remove"
   ]
  },
  {
   "cell_type": "code",
   "execution_count": 54,
   "id": "bbd4a1db-5961-418b-8bba-290368834ad5",
   "metadata": {},
   "outputs": [
    {
     "data": {
      "text/plain": [
       "'Hindi'"
      ]
     },
     "execution_count": 54,
     "metadata": {},
     "output_type": "execute_result"
    }
   ],
   "source": [
    "sub.pop()"
   ]
  },
  {
   "cell_type": "code",
   "execution_count": 55,
   "id": "e5208016-aa7a-447a-b2a5-430089e9a363",
   "metadata": {},
   "outputs": [
    {
     "data": {
      "text/plain": [
       "['English', 'Maths', 'Economics', 'Malayalam']"
      ]
     },
     "execution_count": 55,
     "metadata": {},
     "output_type": "execute_result"
    }
   ],
   "source": [
    "sub"
   ]
  },
  {
   "cell_type": "code",
   "execution_count": 56,
   "id": "67e78175-7dfc-4583-8898-a5e8c0e282cf",
   "metadata": {},
   "outputs": [
    {
     "data": {
      "text/plain": [
       "'Malayalam'"
      ]
     },
     "execution_count": 56,
     "metadata": {},
     "output_type": "execute_result"
    }
   ],
   "source": [
    "sub.pop(3)"
   ]
  },
  {
   "cell_type": "code",
   "execution_count": 57,
   "id": "8a07fc4d-b362-4da2-844f-94265c751e91",
   "metadata": {},
   "outputs": [
    {
     "data": {
      "text/plain": [
       "['English', 'Maths', 'Economics']"
      ]
     },
     "execution_count": 57,
     "metadata": {},
     "output_type": "execute_result"
    }
   ],
   "source": [
    "sub"
   ]
  },
  {
   "cell_type": "code",
   "execution_count": 58,
   "id": "e7b8590b-0566-4a06-8dd3-df0f441de2b3",
   "metadata": {},
   "outputs": [],
   "source": [
    "sub.remove(\"English\")"
   ]
  },
  {
   "cell_type": "code",
   "execution_count": 59,
   "id": "0961d4a4-6656-40d6-8a90-0293d31e699b",
   "metadata": {},
   "outputs": [
    {
     "data": {
      "text/plain": [
       "['Maths', 'Economics']"
      ]
     },
     "execution_count": 59,
     "metadata": {},
     "output_type": "execute_result"
    }
   ],
   "source": [
    "sub"
   ]
  },
  {
   "cell_type": "code",
   "execution_count": 60,
   "id": "a1ce448c-62d0-44ac-8e64-fed04928fa85",
   "metadata": {},
   "outputs": [],
   "source": [
    "sub.append(\"Statistics\")"
   ]
  },
  {
   "cell_type": "code",
   "execution_count": 61,
   "id": "d49203be-41ac-4be7-b794-a8aaad31ad55",
   "metadata": {},
   "outputs": [
    {
     "data": {
      "text/plain": [
       "['Maths', 'Economics', 'Statistics']"
      ]
     },
     "execution_count": 61,
     "metadata": {},
     "output_type": "execute_result"
    }
   ],
   "source": [
    "sub"
   ]
  },
  {
   "cell_type": "code",
   "execution_count": 62,
   "id": "193304b1-98ce-4f40-a308-3df4597befee",
   "metadata": {},
   "outputs": [
    {
     "data": {
      "text/plain": [
       "'Statistics'"
      ]
     },
     "execution_count": 62,
     "metadata": {},
     "output_type": "execute_result"
    }
   ],
   "source": [
    "sub[2]"
   ]
  },
  {
   "cell_type": "code",
   "execution_count": 63,
   "id": "ed3d736c-485b-4559-99ad-fe40c38d268d",
   "metadata": {},
   "outputs": [],
   "source": [
    "sub.reverse()"
   ]
  },
  {
   "cell_type": "code",
   "execution_count": 64,
   "id": "888beceb-a9d4-45bb-81c8-83d06d6cce99",
   "metadata": {},
   "outputs": [
    {
     "data": {
      "text/plain": [
       "['Statistics', 'Economics', 'Maths']"
      ]
     },
     "execution_count": 64,
     "metadata": {},
     "output_type": "execute_result"
    }
   ],
   "source": [
    "sub"
   ]
  },
  {
   "cell_type": "code",
   "execution_count": 65,
   "id": "d257eac7-32b4-4f9f-8d46-15f399d7e4a7",
   "metadata": {},
   "outputs": [
    {
     "data": {
      "text/plain": [
       "'Maths'"
      ]
     },
     "execution_count": 65,
     "metadata": {},
     "output_type": "execute_result"
    }
   ],
   "source": [
    "sub[2]"
   ]
  },
  {
   "cell_type": "markdown",
   "id": "dbc7d6eb-69dd-4fc4-bad9-ff0c1a4eca1a",
   "metadata": {},
   "source": [
    "#### not"
   ]
  },
  {
   "cell_type": "code",
   "execution_count": 66,
   "id": "717badaf-9681-4297-a407-d897ae798e16",
   "metadata": {},
   "outputs": [
    {
     "name": "stdout",
     "output_type": "stream",
     "text": [
      "False\n"
     ]
    }
   ],
   "source": [
    "a = True\n",
    "b = not a\n",
    "\n",
    "print(b)"
   ]
  },
  {
   "cell_type": "code",
   "execution_count": 67,
   "id": "673e6754-311d-4578-939e-1c2ab44822cd",
   "metadata": {},
   "outputs": [
    {
     "name": "stdout",
     "output_type": "stream",
     "text": [
      "True\n"
     ]
    }
   ],
   "source": [
    "print(a)"
   ]
  },
  {
   "cell_type": "code",
   "execution_count": 68,
   "id": "9b5ee8d2-d060-45d2-a802-2439e152c5e9",
   "metadata": {},
   "outputs": [
    {
     "name": "stdout",
     "output_type": "stream",
     "text": [
      "Its not raining, Lets go outside!\n"
     ]
    }
   ],
   "source": [
    "raining = False\n",
    "\n",
    "if not raining:\n",
    "    print(\"Its not raining, Lets go outside!\")\n",
    "else:\n",
    "    print(\"Its raining, better stay inside.\")"
   ]
  },
  {
   "cell_type": "code",
   "execution_count": 81,
   "id": "fef6c9df-0143-4315-acd2-ab9b3d5dc82f",
   "metadata": {},
   "outputs": [],
   "source": [
    "box = [\"10\", \"20\", \"30\", \"40\"]"
   ]
  },
  {
   "cell_type": "code",
   "execution_count": 82,
   "id": "6006bf8c-ae4c-4981-8191-33059e3ddd59",
   "metadata": {},
   "outputs": [
    {
     "data": {
      "text/plain": [
       "['10', '20', '30', '40']"
      ]
     },
     "execution_count": 82,
     "metadata": {},
     "output_type": "execute_result"
    }
   ],
   "source": [
    "box"
   ]
  },
  {
   "cell_type": "code",
   "execution_count": 84,
   "id": "d4828be2-8ea0-4332-9a40-2a200adb375c",
   "metadata": {},
   "outputs": [],
   "source": [
    "box[1] = 50"
   ]
  },
  {
   "cell_type": "code",
   "execution_count": 85,
   "id": "a281f10b-7122-421d-97c6-b2dea4432eca",
   "metadata": {},
   "outputs": [
    {
     "data": {
      "text/plain": [
       "['10', 50, '30', '40']"
      ]
     },
     "execution_count": 85,
     "metadata": {},
     "output_type": "execute_result"
    }
   ],
   "source": [
    "box"
   ]
  },
  {
   "cell_type": "code",
   "execution_count": 86,
   "id": "a6ed95b0-e8b3-4cb5-9ce3-7c3e40dd3802",
   "metadata": {},
   "outputs": [],
   "source": [
    "bag = [\"books\", \"pen\", \"textbooks\", \"dress\"]"
   ]
  },
  {
   "cell_type": "code",
   "execution_count": 87,
   "id": "4934ab85-ff1f-4cd2-acb4-fdcf48df42af",
   "metadata": {},
   "outputs": [
    {
     "data": {
      "text/plain": [
       "['books', 'pen', 'textbooks', 'dress']"
      ]
     },
     "execution_count": 87,
     "metadata": {},
     "output_type": "execute_result"
    }
   ],
   "source": [
    "bag"
   ]
  },
  {
   "cell_type": "code",
   "execution_count": 88,
   "id": "9b405b0c-02b5-474f-84c8-d91c551804c6",
   "metadata": {},
   "outputs": [],
   "source": [
    "bag[3] = \"waterbottle\""
   ]
  },
  {
   "cell_type": "code",
   "execution_count": 89,
   "id": "1b05ce0f-0ec3-4817-b8ac-367dd10ad9c8",
   "metadata": {},
   "outputs": [
    {
     "data": {
      "text/plain": [
       "['books', 'pen', 'textbooks', 'waterbottle']"
      ]
     },
     "execution_count": 89,
     "metadata": {},
     "output_type": "execute_result"
    }
   ],
   "source": [
    "bag"
   ]
  },
  {
   "cell_type": "code",
   "execution_count": 90,
   "id": "110f8f3f-251c-40f7-a5ee-baa0d228f2a7",
   "metadata": {},
   "outputs": [],
   "source": [
    "bag.remove(\"textbooks\")"
   ]
  },
  {
   "cell_type": "code",
   "execution_count": 91,
   "id": "226ae10d-69e4-471d-b4e5-5204a70a81d4",
   "metadata": {},
   "outputs": [
    {
     "data": {
      "text/plain": [
       "['books', 'pen', 'waterbottle']"
      ]
     },
     "execution_count": 91,
     "metadata": {},
     "output_type": "execute_result"
    }
   ],
   "source": [
    "bag"
   ]
  },
  {
   "cell_type": "code",
   "execution_count": 97,
   "id": "dce69dac-2264-44a3-8583-faa347e31da9",
   "metadata": {},
   "outputs": [
    {
     "data": {
      "text/plain": [
       "1"
      ]
     },
     "execution_count": 97,
     "metadata": {},
     "output_type": "execute_result"
    }
   ],
   "source": [
    "bag.count(\"pen\")"
   ]
  },
  {
   "cell_type": "code",
   "execution_count": 98,
   "id": "5d9065fd-4487-4e3c-a7dc-7b38c7d7ee88",
   "metadata": {},
   "outputs": [
    {
     "name": "stdout",
     "output_type": "stream",
     "text": [
      "light is on\n"
     ]
    }
   ],
   "source": [
    "light_on = False\n",
    "\n",
    "if not light_on:\n",
    "    print(\"light is on\")\n",
    "else:\n",
    "    print(\"light is off\")"
   ]
  },
  {
   "cell_type": "code",
   "execution_count": 99,
   "id": "15b0992e-8ff1-47d1-8699-809eb20f453c",
   "metadata": {},
   "outputs": [],
   "source": [
    "marks = [70, 60, 40, 60, 70, 70, 80, 50, 20, 70, 10, 40, 70]"
   ]
  },
  {
   "cell_type": "code",
   "execution_count": 104,
   "id": "729b3fca-7449-4f6a-ab5c-f485615264da",
   "metadata": {},
   "outputs": [
    {
     "data": {
      "text/plain": [
       "5"
      ]
     },
     "execution_count": 104,
     "metadata": {},
     "output_type": "execute_result"
    }
   ],
   "source": [
    "marks.count(70)"
   ]
  },
  {
   "cell_type": "code",
   "execution_count": 105,
   "id": "552e9c04-0a7e-4eef-97d3-f32fb99d837f",
   "metadata": {},
   "outputs": [],
   "source": [
    "marks.sort()"
   ]
  },
  {
   "cell_type": "code",
   "execution_count": 106,
   "id": "872f0554-1148-4252-bbc2-b8d3fcf89b04",
   "metadata": {},
   "outputs": [
    {
     "data": {
      "text/plain": [
       "[10, 20, 40, 40, 50, 60, 60, 70, 70, 70, 70, 70, 80]"
      ]
     },
     "execution_count": 106,
     "metadata": {},
     "output_type": "execute_result"
    }
   ],
   "source": [
    "marks"
   ]
  },
  {
   "cell_type": "code",
   "execution_count": 108,
   "id": "fb5e28b0-831f-40b1-9afb-d302c91c53f9",
   "metadata": {},
   "outputs": [],
   "source": [
    "marks.reverse()"
   ]
  },
  {
   "cell_type": "code",
   "execution_count": 109,
   "id": "e225ac05-7ed7-49f2-94df-fa736372505f",
   "metadata": {},
   "outputs": [
    {
     "data": {
      "text/plain": [
       "[80, 70, 70, 70, 70, 70, 60, 60, 50, 40, 40, 20, 10]"
      ]
     },
     "execution_count": 109,
     "metadata": {},
     "output_type": "execute_result"
    }
   ],
   "source": [
    "marks"
   ]
  },
  {
   "cell_type": "code",
   "execution_count": 110,
   "id": "5e2ea948-b723-4a21-a022-34af9a28af4b",
   "metadata": {},
   "outputs": [
    {
     "data": {
      "text/plain": [
       "8"
      ]
     },
     "execution_count": 110,
     "metadata": {},
     "output_type": "execute_result"
    }
   ],
   "source": [
    "marks.index(50)"
   ]
  },
  {
   "cell_type": "code",
   "execution_count": 111,
   "id": "8b2fa873-a55c-432e-97f4-496899d5e730",
   "metadata": {},
   "outputs": [],
   "source": [
    "marks.append(3)"
   ]
  },
  {
   "cell_type": "code",
   "execution_count": 112,
   "id": "85539f42-45cc-4dab-897d-d2a3b67476a1",
   "metadata": {},
   "outputs": [
    {
     "data": {
      "text/plain": [
       "[80, 70, 70, 70, 70, 70, 60, 60, 50, 40, 40, 20, 10, 3]"
      ]
     },
     "execution_count": 112,
     "metadata": {},
     "output_type": "execute_result"
    }
   ],
   "source": [
    "marks"
   ]
  },
  {
   "cell_type": "code",
   "execution_count": 113,
   "id": "b820e39d-b589-499d-8392-5ce0a7e2d7e7",
   "metadata": {},
   "outputs": [
    {
     "data": {
      "text/plain": [
       "2"
      ]
     },
     "execution_count": 113,
     "metadata": {},
     "output_type": "execute_result"
    }
   ],
   "source": [
    "marks.count(40)"
   ]
  },
  {
   "cell_type": "code",
   "execution_count": 115,
   "id": "735f07d0-3101-4b16-aac0-7882a793caee",
   "metadata": {},
   "outputs": [],
   "source": [
    "marks.insert(2, 95)"
   ]
  },
  {
   "cell_type": "code",
   "execution_count": 116,
   "id": "db51717d-3f6a-43b4-88d0-18a5887b546a",
   "metadata": {},
   "outputs": [
    {
     "data": {
      "text/plain": [
       "[80, 70, 95, 70, 70, 70, 70, 60, 60, 50, 40, 40, 20, 10, 3]"
      ]
     },
     "execution_count": 116,
     "metadata": {},
     "output_type": "execute_result"
    }
   ],
   "source": [
    "marks"
   ]
  },
  {
   "cell_type": "code",
   "execution_count": 117,
   "id": "ccc9149d-80fc-4fea-aec6-fe00f0c50522",
   "metadata": {},
   "outputs": [],
   "source": [
    "marks.sort()"
   ]
  },
  {
   "cell_type": "code",
   "execution_count": 118,
   "id": "412b6fdb-6705-4cf9-84ef-0113857befc9",
   "metadata": {},
   "outputs": [
    {
     "data": {
      "text/plain": [
       "[3, 10, 20, 40, 40, 50, 60, 60, 70, 70, 70, 70, 70, 80, 95]"
      ]
     },
     "execution_count": 118,
     "metadata": {},
     "output_type": "execute_result"
    }
   ],
   "source": [
    "marks"
   ]
  },
  {
   "cell_type": "code",
   "execution_count": 119,
   "id": "02827008-293a-4f74-8f40-fba16a95fe74",
   "metadata": {},
   "outputs": [],
   "source": [
    "marks.reverse()"
   ]
  },
  {
   "cell_type": "code",
   "execution_count": 120,
   "id": "4b092601-e99a-4d7d-a24c-4e28b5e47680",
   "metadata": {},
   "outputs": [
    {
     "data": {
      "text/plain": [
       "[95, 80, 70, 70, 70, 70, 70, 60, 60, 50, 40, 40, 20, 10, 3]"
      ]
     },
     "execution_count": 120,
     "metadata": {},
     "output_type": "execute_result"
    }
   ],
   "source": [
    "marks"
   ]
  },
  {
   "cell_type": "code",
   "execution_count": 122,
   "id": "5a33aaa2-f50d-484e-b93d-002144f70b4b",
   "metadata": {},
   "outputs": [],
   "source": [
    "marks.remove(70)"
   ]
  },
  {
   "cell_type": "code",
   "execution_count": 123,
   "id": "1a3666fc-93ce-47b8-94cd-94d4b63f76b8",
   "metadata": {},
   "outputs": [
    {
     "data": {
      "text/plain": [
       "[95, 80, 70, 70, 70, 70, 60, 60, 50, 40, 40, 20, 10, 3]"
      ]
     },
     "execution_count": 123,
     "metadata": {},
     "output_type": "execute_result"
    }
   ],
   "source": [
    "marks"
   ]
  },
  {
   "cell_type": "code",
   "execution_count": 124,
   "id": "5d038c6f-f13c-4cbc-a8e9-c26efd5e4824",
   "metadata": {},
   "outputs": [
    {
     "data": {
      "text/plain": [
       "4"
      ]
     },
     "execution_count": 124,
     "metadata": {},
     "output_type": "execute_result"
    }
   ],
   "source": [
    "marks.count(70)"
   ]
  },
  {
   "cell_type": "code",
   "execution_count": 125,
   "id": "2c79dab0-ea49-46dd-bf16-5d75281c6eb8",
   "metadata": {},
   "outputs": [
    {
     "data": {
      "text/plain": [
       "70"
      ]
     },
     "execution_count": 125,
     "metadata": {},
     "output_type": "execute_result"
    }
   ],
   "source": [
    "marks.pop(2)"
   ]
  },
  {
   "cell_type": "code",
   "execution_count": 126,
   "id": "1ca7db24-2827-4468-9235-9402a73aebb2",
   "metadata": {},
   "outputs": [
    {
     "data": {
      "text/plain": [
       "[95, 80, 70, 70, 70, 60, 60, 50, 40, 40, 20, 10, 3]"
      ]
     },
     "execution_count": 126,
     "metadata": {},
     "output_type": "execute_result"
    }
   ],
   "source": [
    "marks"
   ]
  },
  {
   "cell_type": "code",
   "execution_count": 127,
   "id": "b8871406-f0d8-4245-a90f-e5e5f1f8bf0b",
   "metadata": {},
   "outputs": [],
   "source": [
    "del marks [3]"
   ]
  },
  {
   "cell_type": "code",
   "execution_count": 128,
   "id": "b16897cc-ffc5-4b5a-a5ab-ced7be29c896",
   "metadata": {},
   "outputs": [
    {
     "data": {
      "text/plain": [
       "[95, 80, 70, 70, 60, 60, 50, 40, 40, 20, 10, 3]"
      ]
     },
     "execution_count": 128,
     "metadata": {},
     "output_type": "execute_result"
    }
   ],
   "source": [
    "marks"
   ]
  },
  {
   "cell_type": "code",
   "execution_count": 129,
   "id": "95207108-70d0-4617-ad20-3cf5043d3082",
   "metadata": {},
   "outputs": [],
   "source": [
    "marks.clear()"
   ]
  },
  {
   "cell_type": "code",
   "execution_count": 130,
   "id": "6ffb7b51-d3e2-416d-83f1-a6b25c73cbc6",
   "metadata": {},
   "outputs": [
    {
     "data": {
      "text/plain": [
       "[]"
      ]
     },
     "execution_count": 130,
     "metadata": {},
     "output_type": "execute_result"
    }
   ],
   "source": [
    "marks"
   ]
  },
  {
   "cell_type": "code",
   "execution_count": null,
   "id": "c3b8c5bf-3e6d-4444-9f31-fe0bfb0a80bf",
   "metadata": {},
   "outputs": [],
   "source": []
  }
 ],
 "metadata": {
  "kernelspec": {
   "display_name": "Python 3 (ipykernel)",
   "language": "python",
   "name": "python3"
  },
  "language_info": {
   "codemirror_mode": {
    "name": "ipython",
    "version": 3
   },
   "file_extension": ".py",
   "mimetype": "text/x-python",
   "name": "python",
   "nbconvert_exporter": "python",
   "pygments_lexer": "ipython3",
   "version": "3.10.0"
  }
 },
 "nbformat": 4,
 "nbformat_minor": 5
}
