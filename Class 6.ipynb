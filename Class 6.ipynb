{
 "cells": [
  {
   "cell_type": "markdown",
   "id": "94c71d03-2a2e-45d5-8232-683cc1dbb72e",
   "metadata": {},
   "source": [
    "1 \\\n",
    "1 2 \\\n",
    "1 2 3 \\\n",
    "1 2 3 4"
   ]
  },
  {
   "cell_type": "code",
   "execution_count": 1,
   "id": "c2128cc8-46bd-4847-8ccc-21cf0767476b",
   "metadata": {},
   "outputs": [
    {
     "data": {
      "text/plain": [
       "[]"
      ]
     },
     "execution_count": 1,
     "metadata": {},
     "output_type": "execute_result"
    }
   ],
   "source": [
    "list(range(1,1))"
   ]
  },
  {
   "cell_type": "code",
   "execution_count": 2,
   "id": "197dc085-8e2a-4aea-bc9a-773d9131c924",
   "metadata": {},
   "outputs": [
    {
     "data": {
      "text/plain": [
       "[1]"
      ]
     },
     "execution_count": 2,
     "metadata": {},
     "output_type": "execute_result"
    }
   ],
   "source": [
    "list(range(1,2))"
   ]
  },
  {
   "cell_type": "code",
   "execution_count": 3,
   "id": "79af9528-456c-40df-94f7-b3f99aacdc75",
   "metadata": {},
   "outputs": [
    {
     "data": {
      "text/plain": [
       "[1, 2]"
      ]
     },
     "execution_count": 3,
     "metadata": {},
     "output_type": "execute_result"
    }
   ],
   "source": [
    "list(range(1,3))"
   ]
  },
  {
   "cell_type": "code",
   "execution_count": 4,
   "id": "1135c6c1-9e12-4505-893f-8302429308a2",
   "metadata": {},
   "outputs": [
    {
     "data": {
      "text/plain": [
       "[1, 2, 3]"
      ]
     },
     "execution_count": 4,
     "metadata": {},
     "output_type": "execute_result"
    }
   ],
   "source": [
    "list(range(1,4))"
   ]
  },
  {
   "cell_type": "code",
   "execution_count": 5,
   "id": "e46e215a-cddc-4c2c-9acf-dcfbc5024fce",
   "metadata": {},
   "outputs": [
    {
     "data": {
      "text/plain": [
       "[1, 2, 3, 4]"
      ]
     },
     "execution_count": 5,
     "metadata": {},
     "output_type": "execute_result"
    }
   ],
   "source": [
    "list(range(1,5))"
   ]
  },
  {
   "cell_type": "code",
   "execution_count": null,
   "id": "2710f22d-797f-4945-a869-ec59efb9c936",
   "metadata": {},
   "outputs": [],
   "source": []
  },
  {
   "cell_type": "code",
   "execution_count": 6,
   "id": "794a80c2-f608-4064-a60d-c313b9ea1aa7",
   "metadata": {},
   "outputs": [
    {
     "name": "stdout",
     "output_type": "stream",
     "text": [
      "\n",
      "1 \n",
      "1 2 \n",
      "1 2 3 \n",
      "1 2 3 4 \n"
     ]
    }
   ],
   "source": [
    "for i in range(1,6):\n",
    "    for j in range(1,i):\n",
    "        print(j,end=\" \")\n",
    "    print()"
   ]
  },
  {
   "cell_type": "code",
   "execution_count": null,
   "id": "325b5877-ab94-412c-8c8b-c83f8baca8bb",
   "metadata": {},
   "outputs": [],
   "source": []
  },
  {
   "cell_type": "markdown",
   "id": "8eefb2aa-24e5-4ac6-86ae-ae9b3c57a067",
   "metadata": {},
   "source": [
    "#### While Loop"
   ]
  },
  {
   "cell_type": "code",
   "execution_count": 31,
   "id": "942e8030-946b-4380-baed-629a8cb9e737",
   "metadata": {},
   "outputs": [
    {
     "name": "stdout",
     "output_type": "stream",
     "text": [
      "1\n",
      "2\n",
      "3\n",
      "4\n",
      "5\n"
     ]
    }
   ],
   "source": [
    "i = 1\n",
    "while i <= 5:\n",
    "    print(i)\n",
    "    i += 1"
   ]
  },
  {
   "cell_type": "code",
   "execution_count": 37,
   "id": "397a5a1f-7c4f-4e5f-b8d1-eb5140c92cf4",
   "metadata": {},
   "outputs": [
    {
     "name": "stdout",
     "output_type": "stream",
     "text": [
      "2\n",
      "3\n",
      "4\n",
      "5\n",
      "6\n"
     ]
    }
   ],
   "source": [
    "i = 1\n",
    "while i <= 5:\n",
    "    i += 1\n",
    "    print(i)"
   ]
  },
  {
   "cell_type": "code",
   "execution_count": 41,
   "id": "be1cc4e9-89f0-46fe-94a0-16e753c15b5f",
   "metadata": {},
   "outputs": [
    {
     "name": "stdout",
     "output_type": "stream",
     "text": [
      "Hello\n",
      "Hello\n",
      "Hello\n"
     ]
    }
   ],
   "source": [
    "# Print “Hello” 3 timesa\n",
    "\n",
    "count = 1\n",
    "\n",
    "while count <= 3:\n",
    "    print(\"Hello\")\n",
    "    count += 1"
   ]
  },
  {
   "cell_type": "code",
   "execution_count": 43,
   "id": "7ef0905f-cc9e-4f76-9c9a-59dde47231ec",
   "metadata": {},
   "outputs": [
    {
     "name": "stdout",
     "output_type": "stream",
     "text": [
      "2\n",
      "4\n",
      "6\n",
      "8\n",
      "10\n"
     ]
    }
   ],
   "source": [
    "# Print even numbers from 2 to 10\n",
    "\n",
    "num = 2\n",
    "\n",
    "while num <= 10:\n",
    "    print(num)\n",
    "    num += 2"
   ]
  },
  {
   "cell_type": "code",
   "execution_count": 5,
   "id": "8026299d-7341-43bf-be42-a1791258600c",
   "metadata": {},
   "outputs": [
    {
     "name": "stdout",
     "output_type": "stream",
     "text": [
      "sum =  15\n"
     ]
    }
   ],
   "source": [
    "# Sum of numbers from 1 to 5\n",
    "\n",
    "num = 1\n",
    "total = 0\n",
    "\n",
    "while num <= 5:\n",
    "    total += num\n",
    "    num += 1\n",
    "print(\"sum = \", total)"
   ]
  },
  {
   "cell_type": "code",
   "execution_count": 9,
   "id": "581389cd-3e2e-4e37-b951-7c43347034a9",
   "metadata": {},
   "outputs": [
    {
     "name": "stdout",
     "output_type": "stream",
     "text": [
      "5\n",
      "4\n",
      "3\n",
      "2\n",
      "1\n"
     ]
    }
   ],
   "source": [
    "i = 5\n",
    "\n",
    "while i > 0:\n",
    "    print(i)\n",
    "    i -= 1"
   ]
  },
  {
   "cell_type": "code",
   "execution_count": 9,
   "id": "c2cdaea0-6257-48db-99ce-c18f512f2022",
   "metadata": {},
   "outputs": [
    {
     "name": "stdout",
     "output_type": "stream",
     "text": [
      "5\n",
      "4\n",
      "3\n",
      "2\n",
      "1\n"
     ]
    }
   ],
   "source": [
    "num = 5\n",
    "\n",
    "while num > 0:\n",
    "  print(num)\n",
    "  num -= 1"
   ]
  },
  {
   "cell_type": "code",
   "execution_count": 10,
   "id": "4928431e-acf0-47d0-a5c6-9ce79d2cb126",
   "metadata": {},
   "outputs": [],
   "source": [
    "def greet():\n",
    "  print(\"Hello World\")"
   ]
  },
  {
   "cell_type": "code",
   "execution_count": 11,
   "id": "fc1a2c08-1028-466a-85f4-edecb76b291d",
   "metadata": {},
   "outputs": [
    {
     "name": "stdout",
     "output_type": "stream",
     "text": [
      "Hello World\n"
     ]
    }
   ],
   "source": [
    "greet()"
   ]
  },
  {
   "cell_type": "code",
   "execution_count": 12,
   "id": "27c9d901-866c-4b2d-9350-395cc27f05d9",
   "metadata": {},
   "outputs": [],
   "source": [
    "def x (a, b):\n",
    "  return a + b"
   ]
  },
  {
   "cell_type": "code",
   "execution_count": 13,
   "id": "72d31114-5f0b-4a68-89c8-b6c4728adc64",
   "metadata": {},
   "outputs": [],
   "source": [
    "b = x(2,5)"
   ]
  },
  {
   "cell_type": "code",
   "execution_count": 14,
   "id": "02612920-bb7b-4937-b49c-1cb6398b140d",
   "metadata": {},
   "outputs": [],
   "source": [
    "def add(a, b):\n",
    "  print(a + b)"
   ]
  },
  {
   "cell_type": "code",
   "execution_count": 15,
   "id": "018a45a8-0f7a-4993-861c-723bdb73f956",
   "metadata": {},
   "outputs": [
    {
     "name": "stdout",
     "output_type": "stream",
     "text": [
      "15\n"
     ]
    }
   ],
   "source": [
    "a = add (10, 5)"
   ]
  },
  {
   "cell_type": "code",
   "execution_count": 16,
   "id": "380f41dd-d58b-4675-bb15-ddfe57ea7d70",
   "metadata": {},
   "outputs": [],
   "source": [
    "a"
   ]
  },
  {
   "cell_type": "code",
   "execution_count": 17,
   "id": "745eec55-d438-47d2-a16b-97a72d349554",
   "metadata": {},
   "outputs": [
    {
     "data": {
      "text/plain": [
       "7"
      ]
     },
     "execution_count": 17,
     "metadata": {},
     "output_type": "execute_result"
    }
   ],
   "source": [
    "b"
   ]
  },
  {
   "cell_type": "code",
   "execution_count": 18,
   "id": "2a04dd53-85de-46f4-b7f9-99ab816733d6",
   "metadata": {},
   "outputs": [],
   "source": [
    "def check_even(num):\n",
    "  if num % 2 == 0:\n",
    "    return True\n",
    "  else:\n",
    "    return False"
   ]
  },
  {
   "cell_type": "code",
   "execution_count": 19,
   "id": "0f4d7fcf-26ea-4849-90ff-c5ed3a842bae",
   "metadata": {},
   "outputs": [
    {
     "data": {
      "text/plain": [
       "False"
      ]
     },
     "execution_count": 19,
     "metadata": {},
     "output_type": "execute_result"
    }
   ],
   "source": [
    "check_even(7)"
   ]
  },
  {
   "cell_type": "code",
   "execution_count": 20,
   "id": "e31e788a-43bf-4a1c-8c80-48135a4e9899",
   "metadata": {},
   "outputs": [
    {
     "data": {
      "text/plain": [
       "True"
      ]
     },
     "execution_count": 20,
     "metadata": {},
     "output_type": "execute_result"
    }
   ],
   "source": [
    "check_even(4)"
   ]
  },
  {
   "cell_type": "markdown",
   "id": "df48e30c-eb83-48d8-b3f9-08a3cf2bd160",
   "metadata": {},
   "source": [
    "#### recursion"
   ]
  },
  {
   "cell_type": "code",
   "execution_count": 21,
   "id": "a720ea91-b9a7-4248-88a0-18cfaa6091f4",
   "metadata": {},
   "outputs": [
    {
     "data": {
      "text/plain": [
       "5"
      ]
     },
     "execution_count": 21,
     "metadata": {},
     "output_type": "execute_result"
    }
   ],
   "source": [
    "5"
   ]
  },
  {
   "cell_type": "code",
   "execution_count": 22,
   "id": "3c162445-e534-4cb5-99c1-485b63077289",
   "metadata": {},
   "outputs": [],
   "source": [
    "def factorial(n):\n",
    "  if n == 1:\n",
    "    return n\n",
    "  else:\n",
    "    return n * factorial(n - 1)"
   ]
  },
  {
   "cell_type": "code",
   "execution_count": 23,
   "id": "f702d00d-d63d-4c44-9701-9b662e00c0a2",
   "metadata": {},
   "outputs": [
    {
     "data": {
      "text/plain": [
       "120"
      ]
     },
     "execution_count": 23,
     "metadata": {},
     "output_type": "execute_result"
    }
   ],
   "source": [
    "factorial(5)"
   ]
  },
  {
   "cell_type": "markdown",
   "id": "acb4d586-7278-49b6-9fb0-92459095dd63",
   "metadata": {},
   "source": [
    "#### Scope"
   ]
  },
  {
   "cell_type": "markdown",
   "id": "d5c35c8e-3964-404e-908d-0f8f96325fb7",
   "metadata": {},
   "source": [
    "##### local Scope"
   ]
  },
  {
   "cell_type": "code",
   "execution_count": 24,
   "id": "384f0a2e-7647-42f7-958d-493b1a15b47f",
   "metadata": {},
   "outputs": [],
   "source": [
    "def fun():\n",
    "  x = 10\n",
    "  print(x)"
   ]
  },
  {
   "cell_type": "code",
   "execution_count": 25,
   "id": "157cf253-9aca-4dc4-ae08-14830e8fbb29",
   "metadata": {},
   "outputs": [
    {
     "name": "stdout",
     "output_type": "stream",
     "text": [
      "10\n"
     ]
    }
   ],
   "source": [
    "fun()"
   ]
  },
  {
   "cell_type": "markdown",
   "id": "18c08040-0e8f-4eeb-b1a3-1922649fd5a8",
   "metadata": {},
   "source": [
    "#### Enclosing"
   ]
  },
  {
   "cell_type": "code",
   "execution_count": 26,
   "id": "67f55ab6-1706-4d4e-b1fa-8e3ae7bdca76",
   "metadata": {},
   "outputs": [],
   "source": [
    "def outer():\n",
    "  y = 5\n",
    "\n",
    "  def inner():\n",
    "      print(y)\n",
    "  inner()"
   ]
  },
  {
   "cell_type": "code",
   "execution_count": 27,
   "id": "2ae13bb6-f8b7-4499-8cb6-1763780e4dc4",
   "metadata": {},
   "outputs": [
    {
     "name": "stdout",
     "output_type": "stream",
     "text": [
      "5\n"
     ]
    }
   ],
   "source": [
    "outer()"
   ]
  },
  {
   "cell_type": "markdown",
   "id": "aa29ce2c-ace6-46d7-a06b-4fc8e6d55d4c",
   "metadata": {},
   "source": [
    "#### Global"
   ]
  },
  {
   "cell_type": "code",
   "execution_count": 28,
   "id": "fbe7b96c-60d3-44df-9d67-b8cfad097a12",
   "metadata": {},
   "outputs": [],
   "source": [
    "x = 20\n",
    "def fun():\n",
    "  print(\"ccjns\")"
   ]
  },
  {
   "cell_type": "code",
   "execution_count": 29,
   "id": "d183b59e-187b-4075-b90e-d65756ad22f1",
   "metadata": {},
   "outputs": [
    {
     "data": {
      "text/plain": [
       "20"
      ]
     },
     "execution_count": 29,
     "metadata": {},
     "output_type": "execute_result"
    }
   ],
   "source": [
    "x"
   ]
  },
  {
   "cell_type": "code",
   "execution_count": null,
   "id": "b89c4ff6-2d9e-453c-8c3e-d5c6a36a5221",
   "metadata": {},
   "outputs": [],
   "source": []
  },
  {
   "cell_type": "code",
   "execution_count": null,
   "id": "b716b080-5b82-4789-8d8d-7f44546bf57e",
   "metadata": {},
   "outputs": [],
   "source": []
  },
  {
   "cell_type": "markdown",
   "id": "93fd5525-1a41-4111-ba5c-3b008e3ad2c8",
   "metadata": {},
   "source": [
    "##### Print numbers 1 to 5"
   ]
  },
  {
   "cell_type": "code",
   "execution_count": 10,
   "id": "48de4e4b-413c-4800-bfd8-f5a5c51aa75b",
   "metadata": {},
   "outputs": [
    {
     "name": "stdout",
     "output_type": "stream",
     "text": [
      "1\n",
      "2\n",
      "3\n",
      "4\n",
      "5\n"
     ]
    }
   ],
   "source": [
    "for i in range(1, 6):\n",
    "    print(i)"
   ]
  },
  {
   "cell_type": "code",
   "execution_count": 11,
   "id": "40eaa3c3-5dd2-4b71-8374-bf664262753f",
   "metadata": {},
   "outputs": [
    {
     "name": "stdout",
     "output_type": "stream",
     "text": [
      "1\n",
      "2\n",
      "3\n",
      "4\n",
      "5\n"
     ]
    }
   ],
   "source": [
    "i = 1\n",
    "\n",
    "while i <= 5:\n",
    "    print(i)\n",
    "    i += 1"
   ]
  },
  {
   "cell_type": "markdown",
   "id": "de7eb6fa-e820-4e93-ada2-dfabf27ead67",
   "metadata": {},
   "source": [
    "##### Print “Hello” 3 times"
   ]
  },
  {
   "cell_type": "code",
   "execution_count": 13,
   "id": "6efbab94-8fe1-4d69-b73c-a301eb311170",
   "metadata": {},
   "outputs": [
    {
     "name": "stdout",
     "output_type": "stream",
     "text": [
      "Hello\n",
      "Hello\n",
      "Hello\n"
     ]
    }
   ],
   "source": [
    "for i in range(3):\n",
    "    print(\"Hello\")"
   ]
  },
  {
   "cell_type": "code",
   "execution_count": 14,
   "id": "2c8e2c1f-5577-4598-b0c0-4f97ab0fdf28",
   "metadata": {},
   "outputs": [
    {
     "name": "stdout",
     "output_type": "stream",
     "text": [
      "Hello\n",
      "Hello\n",
      "Hello\n"
     ]
    }
   ],
   "source": [
    "i = 1\n",
    "\n",
    "while i <= 3:\n",
    "    print(\"Hello\")\n",
    "    i += 1"
   ]
  },
  {
   "cell_type": "markdown",
   "id": "25e4757f-3b27-4e39-80d1-5e2bec0f0171",
   "metadata": {},
   "source": [
    "##### Sum of numbers from 1 to 5"
   ]
  },
  {
   "cell_type": "code",
   "execution_count": 20,
   "id": "af61a17f-1399-4338-b3e1-9383721a7f91",
   "metadata": {},
   "outputs": [
    {
     "name": "stdout",
     "output_type": "stream",
     "text": [
      "sum =  15\n"
     ]
    }
   ],
   "source": [
    "total = 0\n",
    "\n",
    "for i in range(1, 6):\n",
    "    total += i\n",
    "print(\"sum = \", total)"
   ]
  },
  {
   "cell_type": "code",
   "execution_count": 29,
   "id": "f58c3719-87ef-44ce-8779-4908903965b7",
   "metadata": {},
   "outputs": [
    {
     "name": "stdout",
     "output_type": "stream",
     "text": [
      "sum =  15\n"
     ]
    }
   ],
   "source": [
    "total = 0\n",
    "i = 1\n",
    "\n",
    "while i <= 5:\n",
    "    total += i\n",
    "    i += 1\n",
    "print(\"sum = \", total)"
   ]
  },
  {
   "cell_type": "markdown",
   "id": "ee6a410e-9572-43fe-abdb-5a79d1deb19c",
   "metadata": {},
   "source": [
    "total = 0\n",
    "i = 1\n",
    "\n",
    "total +=  i \n",
    "0 + 1 = 1\n",
    "t = 1\n",
    "\n",
    "i += 1 \n",
    "i = 1 + 1\n",
    "i = 2"
   ]
  },
  {
   "cell_type": "code",
   "execution_count": null,
   "id": "a33b88fb-7437-4ff6-bde2-0cbd778fdb8c",
   "metadata": {},
   "outputs": [],
   "source": []
  },
  {
   "cell_type": "markdown",
   "id": "6521e9ac-56a1-46d7-b62b-4a6aeb76696c",
   "metadata": {},
   "source": [
    "total = 1\n",
    "i = 2\n",
    "\n",
    "total += i\n",
    "1 + 2\n",
    "t = 3\n",
    "\n",
    "i += 1\n",
    "2 + 1\n",
    "i = 3"
   ]
  },
  {
   "cell_type": "code",
   "execution_count": null,
   "id": "3de6b30e-57d8-412a-9cf3-481aaa344ae7",
   "metadata": {},
   "outputs": [],
   "source": []
  },
  {
   "cell_type": "code",
   "execution_count": null,
   "id": "35a35851-8466-4a21-8b2a-f63105d70256",
   "metadata": {},
   "outputs": [],
   "source": [
    "total = 3\n",
    "i = 3\n",
    "\n",
    "total += i\n",
    "3 + 3\n",
    "t = 6\n",
    "\n",
    "i += 1\n",
    "3 + 1\n",
    "i = 4"
   ]
  },
  {
   "cell_type": "code",
   "execution_count": null,
   "id": "c91d0dbb-bf4a-44d6-8a2f-5c65e563811d",
   "metadata": {},
   "outputs": [],
   "source": []
  },
  {
   "cell_type": "code",
   "execution_count": null,
   "id": "4f8cebe4-31ef-4f52-af46-78906d5209f3",
   "metadata": {},
   "outputs": [],
   "source": [
    "total = 6\n",
    "i = 4\n",
    "\n",
    "total += i\n",
    "6 + 4\n",
    "t = 10\n",
    "\n",
    "i += 1\n",
    "4 + 1\n",
    "i = 5"
   ]
  },
  {
   "cell_type": "code",
   "execution_count": null,
   "id": "e40f02a4-3a3f-4c35-96e4-f23081f1ca53",
   "metadata": {},
   "outputs": [],
   "source": []
  },
  {
   "cell_type": "code",
   "execution_count": null,
   "id": "4b92d74d-7ae9-407f-ad6a-69ac1efbe81b",
   "metadata": {},
   "outputs": [],
   "source": [
    "total = 10\n",
    "i = 5\n",
    "\n",
    "total += i\n",
    "10 + 5\n",
    "t = 15"
   ]
  },
  {
   "cell_type": "code",
   "execution_count": null,
   "id": "9c17b33b-c584-41ac-874a-0c21b6a9b7dd",
   "metadata": {},
   "outputs": [],
   "source": []
  },
  {
   "cell_type": "markdown",
   "id": "52c35724-e373-45c0-aa5c-1c2e8faf1215",
   "metadata": {},
   "source": [
    "##### Print even numbers from 2 to 10"
   ]
  },
  {
   "cell_type": "code",
   "execution_count": 31,
   "id": "5b42d4d6-3445-4ef2-bf9c-ca4c7bf21c8a",
   "metadata": {},
   "outputs": [
    {
     "name": "stdout",
     "output_type": "stream",
     "text": [
      "2\n",
      "4\n",
      "6\n",
      "8\n"
     ]
    }
   ],
   "source": [
    "for i in range (2, 10, 2):\n",
    "    print(i)"
   ]
  },
  {
   "cell_type": "code",
   "execution_count": 35,
   "id": "f2ad6663-d59f-47b5-bfc2-1bcd1f0b6445",
   "metadata": {},
   "outputs": [
    {
     "name": "stdout",
     "output_type": "stream",
     "text": [
      "2\n",
      "4\n",
      "6\n",
      "8\n",
      "10\n"
     ]
    }
   ],
   "source": [
    "i = 2\n",
    "\n",
    "while i <= 10:\n",
    "    print(i)\n",
    "    i += 2"
   ]
  },
  {
   "cell_type": "code",
   "execution_count": null,
   "id": "8f1fcd3d-c0cd-479a-88a3-436cc742747d",
   "metadata": {},
   "outputs": [],
   "source": []
  },
  {
   "cell_type": "markdown",
   "id": "3d93346a-dfa1-4d1f-9059-a767724daf0b",
   "metadata": {},
   "source": [
    "##### Asking for User Input Until Condition is Met"
   ]
  },
  {
   "cell_type": "code",
   "execution_count": 37,
   "id": "d4d4f228-b8fc-42fe-8c55-156a68c42b81",
   "metadata": {},
   "outputs": [
    {
     "name": "stdin",
     "output_type": "stream",
     "text": [
      "Enter a positive num:  -2\n"
     ]
    },
    {
     "name": "stdout",
     "output_type": "stream",
     "text": [
      "That's not a positive num\n"
     ]
    },
    {
     "name": "stdin",
     "output_type": "stream",
     "text": [
      "Try again:  7\n"
     ]
    },
    {
     "name": "stdout",
     "output_type": "stream",
     "text": [
      "Thank you! You entered: 7\n"
     ]
    }
   ],
   "source": [
    "num = int(input(\"Enter a positive num: \"))\n",
    "\n",
    "while num <= 0:\n",
    "    print(\"That's not a positive num\")\n",
    "    num = int(input(\"Try again: \"))\n",
    "print(\"Thank you! You entered:\", num)"
   ]
  },
  {
   "cell_type": "code",
   "execution_count": null,
   "id": "38ac7da5-d2d1-42a5-918c-dfa88a4a3f3e",
   "metadata": {},
   "outputs": [],
   "source": []
  },
  {
   "cell_type": "markdown",
   "id": "ec800260-651e-4e68-8e8a-76515bba1c2f",
   "metadata": {},
   "source": [
    "#### Using break"
   ]
  },
  {
   "cell_type": "code",
   "execution_count": 38,
   "id": "62e76b35-9002-4e19-9e6a-581a89081373",
   "metadata": {},
   "outputs": [
    {
     "name": "stdout",
     "output_type": "stream",
     "text": [
      "1\n",
      "2\n",
      "3\n"
     ]
    }
   ],
   "source": [
    "i = 1\n",
    "\n",
    "while True:\n",
    "    print(i)\n",
    "    if i == 3:\n",
    "        break\n",
    "    i += 1"
   ]
  },
  {
   "cell_type": "code",
   "execution_count": null,
   "id": "7289069f-2b12-47d6-9bab-b146c5d53750",
   "metadata": {},
   "outputs": [],
   "source": []
  },
  {
   "cell_type": "markdown",
   "id": "df99b45e-5626-4040-9fb2-4df543d67b29",
   "metadata": {},
   "source": [
    "#### Using continue with while Loop"
   ]
  },
  {
   "cell_type": "code",
   "execution_count": 40,
   "id": "30999f25-355e-494b-ae85-3718bc222a58",
   "metadata": {},
   "outputs": [],
   "source": [
    "# Skipping even numbers"
   ]
  },
  {
   "cell_type": "code",
   "execution_count": 41,
   "id": "e71ae969-dbb5-45b2-99e8-4a373dd9048f",
   "metadata": {},
   "outputs": [
    {
     "name": "stdout",
     "output_type": "stream",
     "text": [
      "1\n",
      "3\n",
      "5\n",
      "7\n",
      "9\n"
     ]
    }
   ],
   "source": [
    "i = 0\n",
    "\n",
    "while i <10:\n",
    "    i += 1\n",
    "    if i % 2 == 0:\n",
    "        continue\n",
    "    print(i)"
   ]
  },
  {
   "cell_type": "code",
   "execution_count": null,
   "id": "6717066d-526a-4434-93a1-fe55c6c4bbcf",
   "metadata": {},
   "outputs": [],
   "source": []
  },
  {
   "cell_type": "markdown",
   "id": "9609403c-4ca9-4490-a6fb-2670f64f865c",
   "metadata": {},
   "source": [
    "#### while-else Construct"
   ]
  },
  {
   "cell_type": "code",
   "execution_count": 42,
   "id": "ef11ebff-d7c8-4ab2-8f3c-ab3e50f4209f",
   "metadata": {},
   "outputs": [
    {
     "name": "stdout",
     "output_type": "stream",
     "text": [
      "1\n",
      "2\n",
      "3\n",
      "Loop is finished!\n"
     ]
    }
   ],
   "source": [
    "i = 1\n",
    "\n",
    "while i <= 3:\n",
    "    print(i)\n",
    "    i +=1\n",
    "else:\n",
    "    print(\"Loop is finished!\")"
   ]
  },
  {
   "cell_type": "code",
   "execution_count": null,
   "id": "2fddbd0a-06ed-4aaf-8ddd-8db95b9816c5",
   "metadata": {},
   "outputs": [],
   "source": []
  },
  {
   "cell_type": "markdown",
   "id": "dfbed340-ef3f-4fc4-80f3-1d1575703cea",
   "metadata": {},
   "source": [
    "#### while with break and else"
   ]
  },
  {
   "cell_type": "code",
   "execution_count": 43,
   "id": "11385cf7-b3a8-4092-b9fd-32f5a33e0459",
   "metadata": {},
   "outputs": [
    {
     "name": "stdout",
     "output_type": "stream",
     "text": [
      "1\n",
      "2\n"
     ]
    }
   ],
   "source": [
    "i = 1\n",
    "\n",
    "while i <= 3:\n",
    "    print (i)\n",
    "    if i == 2:\n",
    "        break\n",
    "    i += 1\n",
    "else:\n",
    "    print(\"This will not be printed!\")"
   ]
  },
  {
   "cell_type": "code",
   "execution_count": null,
   "id": "cf0f5a0e-0e05-4a0e-9577-9b01be751463",
   "metadata": {},
   "outputs": [],
   "source": []
  },
  {
   "cell_type": "markdown",
   "id": "f4594eb6-83d3-46e9-b0a8-80c550f6ac87",
   "metadata": {},
   "source": [
    "#### Factorial Calculation Using while Loop"
   ]
  },
  {
   "cell_type": "code",
   "execution_count": 44,
   "id": "52e5aa7b-e734-4eca-bcf1-45460490058b",
   "metadata": {},
   "outputs": [
    {
     "name": "stdin",
     "output_type": "stream",
     "text": [
      "Enter a number:  5\n"
     ]
    },
    {
     "name": "stdout",
     "output_type": "stream",
     "text": [
      "Factorial is: 120\n"
     ]
    }
   ],
   "source": [
    "n = int(input(\"Enter a number: \"))\n",
    "result = 1\n",
    "\n",
    "while n > 0:\n",
    "    result *= n\n",
    "    n -= 1\n",
    "\n",
    "print(\"Factorial is:\", result)"
   ]
  },
  {
   "cell_type": "code",
   "execution_count": null,
   "id": "a6bd84da-a55c-46c1-8c7d-27c8cdb5e459",
   "metadata": {},
   "outputs": [],
   "source": []
  },
  {
   "cell_type": "markdown",
   "id": "3e032036-dbfe-4e40-8413-7fabb8374375",
   "metadata": {},
   "source": [
    "#### Reverse a String Using while Loop"
   ]
  },
  {
   "cell_type": "code",
   "execution_count": 45,
   "id": "49d79154-4541-4582-878f-29d1741daa7e",
   "metadata": {},
   "outputs": [
    {
     "name": "stdin",
     "output_type": "stream",
     "text": [
      "Enter a string:  Athira\n"
     ]
    },
    {
     "name": "stdout",
     "output_type": "stream",
     "text": [
      "Reversed string:,   arihtA\n"
     ]
    }
   ],
   "source": [
    "text = input(\"Enter a string: \")\n",
    "reversed_text = \" \"\n",
    "i = len(text) - 1\n",
    "\n",
    "while i >= 0:\n",
    "    reversed_text += text[i]\n",
    "    i -= 1\n",
    "\n",
    "print(\"Reversed string:, \", reversed_text)"
   ]
  },
  {
   "cell_type": "code",
   "execution_count": null,
   "id": "1fe7b0b8-e1d9-452e-b092-8f7d7ef8f8d0",
   "metadata": {},
   "outputs": [],
   "source": []
  }
 ],
 "metadata": {
  "kernelspec": {
   "display_name": "Python 3 (ipykernel)",
   "language": "python",
   "name": "python3"
  },
  "language_info": {
   "codemirror_mode": {
    "name": "ipython",
    "version": 3
   },
   "file_extension": ".py",
   "mimetype": "text/x-python",
   "name": "python",
   "nbconvert_exporter": "python",
   "pygments_lexer": "ipython3",
   "version": "3.10.0"
  }
 },
 "nbformat": 4,
 "nbformat_minor": 5
}
