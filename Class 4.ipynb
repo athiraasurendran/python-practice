{
 "cells": [
  {
   "cell_type": "markdown",
   "id": "b8bf7b4c-fbf2-47ab-9561-cfc287a6999b",
   "metadata": {},
   "source": [
    "### Set {}"
   ]
  },
  {
   "cell_type": "code",
   "execution_count": 1,
   "id": "257e284b-53f3-4000-99f6-7b769f10d648",
   "metadata": {},
   "outputs": [
    {
     "data": {
      "text/plain": [
       "[1, 2, 2, 3, 3, 4, 5]"
      ]
     },
     "execution_count": 1,
     "metadata": {},
     "output_type": "execute_result"
    }
   ],
   "source": [
    "a = [1, 2, 2, 3, 3, 4, 5]\n",
    "\n",
    "a"
   ]
  },
  {
   "cell_type": "code",
   "execution_count": 2,
   "id": "194a7e38-12dc-44fe-abee-05127bfd3fb3",
   "metadata": {},
   "outputs": [
    {
     "data": {
      "text/plain": [
       "list"
      ]
     },
     "execution_count": 2,
     "metadata": {},
     "output_type": "execute_result"
    }
   ],
   "source": [
    "type(a)"
   ]
  },
  {
   "cell_type": "code",
   "execution_count": 3,
   "id": "bcea57b9-9251-4090-924a-9b52342375aa",
   "metadata": {},
   "outputs": [
    {
     "data": {
      "text/plain": [
       "(1, 2, 2, 3, 3, 4, 5)"
      ]
     },
     "execution_count": 3,
     "metadata": {},
     "output_type": "execute_result"
    }
   ],
   "source": [
    "a = (1, 2, 2, 3, 3, 4, 5)\n",
    "\n",
    "a"
   ]
  },
  {
   "cell_type": "code",
   "execution_count": 4,
   "id": "68d4630d-7cef-4739-bc7e-d002851fb22a",
   "metadata": {},
   "outputs": [
    {
     "data": {
      "text/plain": [
       "tuple"
      ]
     },
     "execution_count": 4,
     "metadata": {},
     "output_type": "execute_result"
    }
   ],
   "source": [
    "type(a)"
   ]
  },
  {
   "cell_type": "code",
   "execution_count": 5,
   "id": "927d1862-a65b-48b5-b1c8-7afeeed8626a",
   "metadata": {},
   "outputs": [
    {
     "data": {
      "text/plain": [
       "{1, 2, 3, 4, 5}"
      ]
     },
     "execution_count": 5,
     "metadata": {},
     "output_type": "execute_result"
    }
   ],
   "source": [
    "a = {1, 2, 2, 3, 3, 4, 5}\n",
    "\n",
    "a"
   ]
  },
  {
   "cell_type": "code",
   "execution_count": 6,
   "id": "33ef7b68-ec5f-4921-b358-564d856cd2aa",
   "metadata": {},
   "outputs": [
    {
     "data": {
      "text/plain": [
       "set"
      ]
     },
     "execution_count": 6,
     "metadata": {},
     "output_type": "execute_result"
    }
   ],
   "source": [
    "type(a)"
   ]
  },
  {
   "cell_type": "code",
   "execution_count": 7,
   "id": "3ca710ed-0591-4f94-a5ce-6bff2c55aee8",
   "metadata": {},
   "outputs": [
    {
     "data": {
      "text/plain": [
       "{'Akhil', 'Anitha', 'Anjana', 'Anju', 'Arya', 'Athira'}"
      ]
     },
     "execution_count": 7,
     "metadata": {},
     "output_type": "execute_result"
    }
   ],
   "source": [
    "name = {\"Athira\", \"Anjana\", \"Akhil\", \"Athira\", \"Anjana\", \"Anitha\", \"Athira\", \"Arya\", \"Anju\"}\n",
    "\n",
    "name"
   ]
  },
  {
   "cell_type": "code",
   "execution_count": 8,
   "id": "77648f48-a88a-4e7b-ae9a-f85aa0fbb109",
   "metadata": {},
   "outputs": [
    {
     "data": {
      "text/plain": [
       "set"
      ]
     },
     "execution_count": 8,
     "metadata": {},
     "output_type": "execute_result"
    }
   ],
   "source": [
    "type(name)"
   ]
  },
  {
   "cell_type": "code",
   "execution_count": 9,
   "id": "c54c0da5-394a-420a-97e1-5bb826f31a69",
   "metadata": {},
   "outputs": [],
   "source": [
    "name.add(\"Kannan\")"
   ]
  },
  {
   "cell_type": "code",
   "execution_count": 10,
   "id": "c80c467f-9472-4d2e-a56e-6cbe559b9366",
   "metadata": {},
   "outputs": [
    {
     "data": {
      "text/plain": [
       "{'Akhil', 'Anitha', 'Anjana', 'Anju', 'Arya', 'Athira', 'Kannan'}"
      ]
     },
     "execution_count": 10,
     "metadata": {},
     "output_type": "execute_result"
    }
   ],
   "source": [
    "name"
   ]
  },
  {
   "cell_type": "code",
   "execution_count": 11,
   "id": "e7ac297f-2376-4edb-97fb-8e2882acfda8",
   "metadata": {},
   "outputs": [],
   "source": [
    "name.add(\"Poopy\")"
   ]
  },
  {
   "cell_type": "code",
   "execution_count": 12,
   "id": "53248d04-18d4-40c0-8238-14d263646864",
   "metadata": {},
   "outputs": [
    {
     "data": {
      "text/plain": [
       "{'Akhil', 'Anitha', 'Anjana', 'Anju', 'Arya', 'Athira', 'Kannan', 'Poopy'}"
      ]
     },
     "execution_count": 12,
     "metadata": {},
     "output_type": "execute_result"
    }
   ],
   "source": [
    "name"
   ]
  },
  {
   "cell_type": "code",
   "execution_count": 13,
   "id": "e80635b3-35ec-40ab-a6c2-c67cfeba0922",
   "metadata": {},
   "outputs": [],
   "source": [
    "name.remove(\"Poopy\")"
   ]
  },
  {
   "cell_type": "code",
   "execution_count": 14,
   "id": "ca672499-4632-4fe1-95ad-67343d37607a",
   "metadata": {},
   "outputs": [
    {
     "data": {
      "text/plain": [
       "{'Akhil', 'Anitha', 'Anjana', 'Anju', 'Arya', 'Athira', 'Kannan'}"
      ]
     },
     "execution_count": 14,
     "metadata": {},
     "output_type": "execute_result"
    }
   ],
   "source": [
    "name"
   ]
  },
  {
   "cell_type": "code",
   "execution_count": 15,
   "id": "cb66007d-4ab5-41d5-81df-471e108d3129",
   "metadata": {},
   "outputs": [],
   "source": [
    "name.discard(\"Lucky\")"
   ]
  },
  {
   "cell_type": "code",
   "execution_count": 16,
   "id": "8bdcf977-daa6-4ec1-b5b6-c22f2d7b699c",
   "metadata": {},
   "outputs": [
    {
     "data": {
      "text/plain": [
       "{'Akhil', 'Anitha', 'Anjana', 'Anju', 'Arya', 'Athira', 'Kannan'}"
      ]
     },
     "execution_count": 16,
     "metadata": {},
     "output_type": "execute_result"
    }
   ],
   "source": [
    "name"
   ]
  },
  {
   "cell_type": "code",
   "execution_count": 17,
   "id": "8fc6c55d-8599-4e1f-a3af-64c43dac2e0c",
   "metadata": {},
   "outputs": [],
   "source": [
    "name.add(\"Surendran\")"
   ]
  },
  {
   "cell_type": "code",
   "execution_count": 18,
   "id": "5b962f0b-9b2a-410d-babb-1c8205be80dd",
   "metadata": {},
   "outputs": [
    {
     "data": {
      "text/plain": [
       "{'Akhil', 'Anitha', 'Anjana', 'Anju', 'Arya', 'Athira', 'Kannan', 'Surendran'}"
      ]
     },
     "execution_count": 18,
     "metadata": {},
     "output_type": "execute_result"
    }
   ],
   "source": [
    "name"
   ]
  },
  {
   "cell_type": "code",
   "execution_count": 19,
   "id": "29990003-7740-458e-9e77-c4478f3cf2b3",
   "metadata": {},
   "outputs": [],
   "source": [
    "name.discard(\"Surendran\")"
   ]
  },
  {
   "cell_type": "code",
   "execution_count": 20,
   "id": "8a533322-5a8d-4e4b-8e57-d4c1104d681b",
   "metadata": {},
   "outputs": [
    {
     "data": {
      "text/plain": [
       "{'Akhil', 'Anitha', 'Anjana', 'Anju', 'Arya', 'Athira', 'Kannan'}"
      ]
     },
     "execution_count": 20,
     "metadata": {},
     "output_type": "execute_result"
    }
   ],
   "source": [
    "name"
   ]
  },
  {
   "cell_type": "code",
   "execution_count": 21,
   "id": "87c8d555-c55c-4c91-acfb-6d1ca02838bc",
   "metadata": {},
   "outputs": [],
   "source": [
    "a = {1, 2, 2, 3, 3, 3, 4, 4, 4, 4, 5, 5, 5, 5, 5}\n",
    "b = {4, 4, 4, 4, 5, 5, 5, 5, 5, 6, 6, 6, 6, 6, 6, 7, 7, 7, 7, 7, 7, 7}"
   ]
  },
  {
   "cell_type": "code",
   "execution_count": 22,
   "id": "38a39e64-269d-4cba-ad5c-d88ffff48415",
   "metadata": {},
   "outputs": [],
   "source": [
    "combine = a.union(b)"
   ]
  },
  {
   "cell_type": "code",
   "execution_count": 23,
   "id": "c9645074-cc4c-41b3-b23f-06c06470614f",
   "metadata": {},
   "outputs": [
    {
     "data": {
      "text/plain": [
       "{1, 2, 3, 4, 5, 6, 7}"
      ]
     },
     "execution_count": 23,
     "metadata": {},
     "output_type": "execute_result"
    }
   ],
   "source": [
    "combine"
   ]
  },
  {
   "cell_type": "code",
   "execution_count": 24,
   "id": "2ed6d82b-2328-441e-b5c9-f754b395cdb1",
   "metadata": {},
   "outputs": [
    {
     "data": {
      "text/plain": [
       "{4, 5}"
      ]
     },
     "execution_count": 24,
     "metadata": {},
     "output_type": "execute_result"
    }
   ],
   "source": [
    "a.intersection(b)"
   ]
  },
  {
   "cell_type": "markdown",
   "id": "f9a94c89-c479-46db-a8ce-c3e37fd3227a",
   "metadata": {},
   "source": [
    "### Dictionary {}"
   ]
  },
  {
   "cell_type": "code",
   "execution_count": 25,
   "id": "b1883bfc-4d55-4147-9ef9-b403aae5cf94",
   "metadata": {},
   "outputs": [
    {
     "data": {
      "text/plain": [
       "{'name': 'Athira', 'age': '25', 'job': 'Data Scientist'}"
      ]
     },
     "execution_count": 25,
     "metadata": {},
     "output_type": "execute_result"
    }
   ],
   "source": [
    "a = {\"name\":\"Athira\", \"age\":\"25\", \"job\":\"Data Scientist\"}\n",
    "\n",
    "a"
   ]
  },
  {
   "cell_type": "code",
   "execution_count": 26,
   "id": "72bb0cbc-c224-423a-9060-61df509f8d79",
   "metadata": {},
   "outputs": [
    {
     "data": {
      "text/plain": [
       "dict"
      ]
     },
     "execution_count": 26,
     "metadata": {},
     "output_type": "execute_result"
    }
   ],
   "source": [
    "type(a)"
   ]
  },
  {
   "cell_type": "code",
   "execution_count": 27,
   "id": "a49d616a-500e-49d5-992f-544ab0067243",
   "metadata": {},
   "outputs": [
    {
     "data": {
      "text/plain": [
       "{'name': 'Athira', 'age': 25, 'job': 'Data Scientist'}"
      ]
     },
     "execution_count": 27,
     "metadata": {},
     "output_type": "execute_result"
    }
   ],
   "source": [
    "a = dict(name = \"Athira\", age = 25, job = \"Data Scientist\")\n",
    "\n",
    "a"
   ]
  },
  {
   "cell_type": "code",
   "execution_count": 28,
   "id": "99b1612a-e6d2-4ff0-80d0-6de4acf8008a",
   "metadata": {},
   "outputs": [
    {
     "data": {
      "text/plain": [
       "{'Eng': 78, 'Maths': 60, 'Eco': 79, 'Stat': 70}"
      ]
     },
     "execution_count": 28,
     "metadata": {},
     "output_type": "execute_result"
    }
   ],
   "source": [
    "marks = {\"Eng\":78, \"Maths\":60, \"Eco\":79, \"Stat\":70}\n",
    "\n",
    "marks"
   ]
  },
  {
   "cell_type": "code",
   "execution_count": 29,
   "id": "06b2430e-6ce4-4b98-b742-633078b7d2db",
   "metadata": {},
   "outputs": [
    {
     "data": {
      "text/plain": [
       "dict"
      ]
     },
     "execution_count": 29,
     "metadata": {},
     "output_type": "execute_result"
    }
   ],
   "source": [
    "type(marks)"
   ]
  },
  {
   "cell_type": "code",
   "execution_count": 30,
   "id": "903d997a-dcb8-42c7-b014-617cf573b4a5",
   "metadata": {},
   "outputs": [
    {
     "data": {
      "text/plain": [
       "{'Eng': 78, 'Maths': 60, 'Eco': 79, 'Stat': 70}"
      ]
     },
     "execution_count": 30,
     "metadata": {},
     "output_type": "execute_result"
    }
   ],
   "source": [
    "marks = dict(Eng = 78, Maths = 60, Eco = 79, Stat = 70)\n",
    "\n",
    "marks"
   ]
  },
  {
   "cell_type": "code",
   "execution_count": 31,
   "id": "defb0b53-3e36-4a54-aff5-17fb8588f9d4",
   "metadata": {},
   "outputs": [
    {
     "data": {
      "text/plain": [
       "{'a': ['apple', 'orange', 'grape'], 'b': (1, 2, 3), 'c': [1.23, 'Poopy', 77]}"
      ]
     },
     "execution_count": 31,
     "metadata": {},
     "output_type": "execute_result"
    }
   ],
   "source": [
    "my_dict = dict(a = [\"apple\", \"orange\", \"grape\"], b = (1, 2, 3), c = [1.23, \"Poopy\", 77])\n",
    "            \n",
    "my_dict"
   ]
  },
  {
   "cell_type": "code",
   "execution_count": 32,
   "id": "32699540-e1da-4f84-a991-0b5848a23312",
   "metadata": {},
   "outputs": [
    {
     "data": {
      "text/plain": [
       "['apple', 'orange', 'grape']"
      ]
     },
     "execution_count": 32,
     "metadata": {},
     "output_type": "execute_result"
    }
   ],
   "source": [
    "my_dict[\"a\"]"
   ]
  },
  {
   "cell_type": "code",
   "execution_count": 33,
   "id": "10024e34-f67d-4e3f-a065-01cb5e296f51",
   "metadata": {},
   "outputs": [
    {
     "data": {
      "text/plain": [
       "(1, 2, 3)"
      ]
     },
     "execution_count": 33,
     "metadata": {},
     "output_type": "execute_result"
    }
   ],
   "source": [
    "my_dict[\"b\"]"
   ]
  },
  {
   "cell_type": "code",
   "execution_count": 34,
   "id": "f200c142-5009-4ef5-a067-f5a3822b8714",
   "metadata": {},
   "outputs": [
    {
     "data": {
      "text/plain": [
       "[1.23, 'Poopy', 77]"
      ]
     },
     "execution_count": 34,
     "metadata": {},
     "output_type": "execute_result"
    }
   ],
   "source": [
    "my_dict[\"c\"]"
   ]
  },
  {
   "cell_type": "code",
   "execution_count": 35,
   "id": "67595b19-1c27-441c-b1d2-f221dad95081",
   "metadata": {},
   "outputs": [
    {
     "data": {
      "text/plain": [
       "'Poopy'"
      ]
     },
     "execution_count": 35,
     "metadata": {},
     "output_type": "execute_result"
    }
   ],
   "source": [
    "my_dict[\"c\"][1]"
   ]
  },
  {
   "cell_type": "code",
   "execution_count": 36,
   "id": "ddbc35a9-9a05-4267-a53f-9e4d60d40516",
   "metadata": {},
   "outputs": [
    {
     "data": {
      "text/plain": [
       "1"
      ]
     },
     "execution_count": 36,
     "metadata": {},
     "output_type": "execute_result"
    }
   ],
   "source": [
    "my_dict[\"b\"][0]"
   ]
  },
  {
   "cell_type": "code",
   "execution_count": 37,
   "id": "fd6252fb-388a-4e2a-bdd0-5c7f8c726adc",
   "metadata": {},
   "outputs": [
    {
     "data": {
      "text/plain": [
       "'POOPY'"
      ]
     },
     "execution_count": 37,
     "metadata": {},
     "output_type": "execute_result"
    }
   ],
   "source": [
    "my_dict[\"c\"][1].upper()"
   ]
  },
  {
   "cell_type": "code",
   "execution_count": 38,
   "id": "09b5ef9d-09f9-43b6-9be5-7ef6937fd56e",
   "metadata": {},
   "outputs": [
    {
     "data": {
      "text/plain": [
       "{'a': ['apple', 'orange', 'grape'],\n",
       " 'b': (1, 2, 3),\n",
       " 'c': [1.23, 'Poopy', 77],\n",
       " 'd': 'Economics'}"
      ]
     },
     "execution_count": 38,
     "metadata": {},
     "output_type": "execute_result"
    }
   ],
   "source": [
    "my_dict[\"d\"] = \"Economics\"\n",
    "\n",
    "my_dict"
   ]
  },
  {
   "cell_type": "code",
   "execution_count": 39,
   "id": "bbdd4357-ab09-47da-b625-2cb649373877",
   "metadata": {},
   "outputs": [
    {
     "data": {
      "text/plain": [
       "dict_keys(['a', 'b', 'c', 'd'])"
      ]
     },
     "execution_count": 39,
     "metadata": {},
     "output_type": "execute_result"
    }
   ],
   "source": [
    "my_dict.keys()"
   ]
  },
  {
   "cell_type": "code",
   "execution_count": 40,
   "id": "ca9edaaa-3684-46a8-9404-942d29d60d7d",
   "metadata": {},
   "outputs": [
    {
     "data": {
      "text/plain": [
       "dict_values([['apple', 'orange', 'grape'], (1, 2, 3), [1.23, 'Poopy', 77], 'Economics'])"
      ]
     },
     "execution_count": 40,
     "metadata": {},
     "output_type": "execute_result"
    }
   ],
   "source": [
    "my_dict.values()"
   ]
  },
  {
   "cell_type": "code",
   "execution_count": 41,
   "id": "6db7ffa6-9f0b-4572-b79a-99366ea6b7d7",
   "metadata": {},
   "outputs": [
    {
     "data": {
      "text/plain": [
       "dict_items([('a', ['apple', 'orange', 'grape']), ('b', (1, 2, 3)), ('c', [1.23, 'Poopy', 77]), ('d', 'Economics')])"
      ]
     },
     "execution_count": 41,
     "metadata": {},
     "output_type": "execute_result"
    }
   ],
   "source": [
    "my_dict.items()"
   ]
  },
  {
   "cell_type": "markdown",
   "id": "ef488534-f811-4b9f-8493-f25291c9cac2",
   "metadata": {},
   "source": [
    "###  square brackets [] or the get()"
   ]
  },
  {
   "cell_type": "code",
   "execution_count": 42,
   "id": "11ea839e-a0d2-4ae2-b591-8d8ea18b07bc",
   "metadata": {},
   "outputs": [
    {
     "data": {
      "text/plain": [
       "['apple', 'orange', 'grape']"
      ]
     },
     "execution_count": 42,
     "metadata": {},
     "output_type": "execute_result"
    }
   ],
   "source": [
    "my_dict[\"a\"]"
   ]
  },
  {
   "cell_type": "code",
   "execution_count": 43,
   "id": "525afb27-1336-4ce6-80c7-6f0627d3d22e",
   "metadata": {},
   "outputs": [
    {
     "data": {
      "text/plain": [
       "['apple', 'orange', 'grape']"
      ]
     },
     "execution_count": 43,
     "metadata": {},
     "output_type": "execute_result"
    }
   ],
   "source": [
    "my_dict.get(\"a\")"
   ]
  },
  {
   "cell_type": "code",
   "execution_count": 44,
   "id": "f7be38a2-f126-489c-8b8c-30a72a9c7159",
   "metadata": {},
   "outputs": [
    {
     "data": {
      "text/plain": [
       "'Economics'"
      ]
     },
     "execution_count": 44,
     "metadata": {},
     "output_type": "execute_result"
    }
   ],
   "source": [
    "my_dict.get(\"d\")"
   ]
  },
  {
   "cell_type": "markdown",
   "id": "fcc2cc96-ed3e-4550-83dc-e04f85e564cd",
   "metadata": {},
   "source": [
    "### Remove items from a dictionary using pop(), popitem(), or del"
   ]
  },
  {
   "cell_type": "code",
   "execution_count": 45,
   "id": "b76c362a-968e-46fe-bf34-b6f554b27a8a",
   "metadata": {},
   "outputs": [
    {
     "data": {
      "text/plain": [
       "(1, 2, 3)"
      ]
     },
     "execution_count": 45,
     "metadata": {},
     "output_type": "execute_result"
    }
   ],
   "source": [
    "my_dict.pop(\"b\")"
   ]
  },
  {
   "cell_type": "code",
   "execution_count": 46,
   "id": "67d49f67-8036-4885-a51e-fa420b87e227",
   "metadata": {},
   "outputs": [
    {
     "data": {
      "text/plain": [
       "{'a': ['apple', 'orange', 'grape'], 'c': [1.23, 'Poopy', 77], 'd': 'Economics'}"
      ]
     },
     "execution_count": 46,
     "metadata": {},
     "output_type": "execute_result"
    }
   ],
   "source": [
    "my_dict"
   ]
  },
  {
   "cell_type": "code",
   "execution_count": 47,
   "id": "43e57eef-18e7-42a8-a5b1-d04b27bf2d87",
   "metadata": {},
   "outputs": [
    {
     "data": {
      "text/plain": [
       "('d', 'Economics')"
      ]
     },
     "execution_count": 47,
     "metadata": {},
     "output_type": "execute_result"
    }
   ],
   "source": [
    "my_dict.popitem()"
   ]
  },
  {
   "cell_type": "code",
   "execution_count": 48,
   "id": "d73e09a7-f745-48f8-bd11-4666ef69c1f7",
   "metadata": {},
   "outputs": [
    {
     "data": {
      "text/plain": [
       "{'a': ['apple', 'orange', 'grape'], 'c': [1.23, 'Poopy', 77]}"
      ]
     },
     "execution_count": 48,
     "metadata": {},
     "output_type": "execute_result"
    }
   ],
   "source": [
    "my_dict"
   ]
  },
  {
   "cell_type": "code",
   "execution_count": 49,
   "id": "8e770970-d46d-4f14-9fe2-4f99f89cfcd9",
   "metadata": {},
   "outputs": [],
   "source": [
    "new_dict = dict(name = \"Athira\", age = 25)\n",
    "\n",
    "my_dict.update(new_dict)"
   ]
  },
  {
   "cell_type": "code",
   "execution_count": 50,
   "id": "792fc989-102f-4bdb-9288-b742d2499f7e",
   "metadata": {},
   "outputs": [
    {
     "data": {
      "text/plain": [
       "{'a': ['apple', 'orange', 'grape'],\n",
       " 'c': [1.23, 'Poopy', 77],\n",
       " 'name': 'Athira',\n",
       " 'age': 25}"
      ]
     },
     "execution_count": 50,
     "metadata": {},
     "output_type": "execute_result"
    }
   ],
   "source": [
    "my_dict"
   ]
  },
  {
   "cell_type": "code",
   "execution_count": 51,
   "id": "36df6f05-a1fc-4ea5-81c3-2af14e293270",
   "metadata": {},
   "outputs": [],
   "source": [
    "my_dict.clear()"
   ]
  },
  {
   "cell_type": "code",
   "execution_count": 52,
   "id": "c53b1a3f-719e-4c25-892b-b1ca6d601c0f",
   "metadata": {},
   "outputs": [
    {
     "data": {
      "text/plain": [
       "{}"
      ]
     },
     "execution_count": 52,
     "metadata": {},
     "output_type": "execute_result"
    }
   ],
   "source": [
    "my_dict"
   ]
  },
  {
   "cell_type": "markdown",
   "id": "a3734db6-6ea1-44a1-9585-197f55061ed5",
   "metadata": {},
   "source": [
    "### Grab 'hello'"
   ]
  },
  {
   "cell_type": "code",
   "execution_count": 53,
   "id": "af7ade42-b899-4a1d-9909-47be3ec87cd8",
   "metadata": {},
   "outputs": [],
   "source": [
    "d = {'k1':{'k2':'hello'}}"
   ]
  },
  {
   "cell_type": "code",
   "execution_count": 54,
   "id": "114a7b20-8003-47ab-97e2-95ae6ac9ddf2",
   "metadata": {},
   "outputs": [
    {
     "data": {
      "text/plain": [
       "{'k2': 'hello'}"
      ]
     },
     "execution_count": 54,
     "metadata": {},
     "output_type": "execute_result"
    }
   ],
   "source": [
    "d[\"k1\"]"
   ]
  },
  {
   "cell_type": "code",
   "execution_count": 55,
   "id": "150095c3-18d1-4dce-9fb7-384b9b7bd5ea",
   "metadata": {},
   "outputs": [
    {
     "data": {
      "text/plain": [
       "'hello'"
      ]
     },
     "execution_count": 55,
     "metadata": {},
     "output_type": "execute_result"
    }
   ],
   "source": [
    "d[\"k1\"][\"k2\"]"
   ]
  },
  {
   "cell_type": "code",
   "execution_count": null,
   "id": "b987a28f-3cd2-478b-91d3-01d55907ba18",
   "metadata": {},
   "outputs": [],
   "source": []
  },
  {
   "cell_type": "code",
   "execution_count": 56,
   "id": "8b1c9e71-dd2e-44de-9330-be97a1ebab9b",
   "metadata": {},
   "outputs": [],
   "source": [
    "d = {'k1':[{'nest_key':['this is deep',['hello']]}]}"
   ]
  },
  {
   "cell_type": "code",
   "execution_count": 58,
   "id": "1a555aa9-c78c-4933-b7b2-47ebdffeb2ed",
   "metadata": {},
   "outputs": [
    {
     "data": {
      "text/plain": [
       "[{'nest_key': ['this is deep', ['hello']]}]"
      ]
     },
     "execution_count": 58,
     "metadata": {},
     "output_type": "execute_result"
    }
   ],
   "source": [
    "d[\"k1\"]"
   ]
  },
  {
   "cell_type": "code",
   "execution_count": 59,
   "id": "f6264297-e204-4f3f-a400-508596927f7c",
   "metadata": {},
   "outputs": [
    {
     "data": {
      "text/plain": [
       "{'nest_key': ['this is deep', ['hello']]}"
      ]
     },
     "execution_count": 59,
     "metadata": {},
     "output_type": "execute_result"
    }
   ],
   "source": [
    "d[\"k1\"][0]"
   ]
  },
  {
   "cell_type": "code",
   "execution_count": 60,
   "id": "b47056d4-fb29-46dd-9a83-71fc3bb427d9",
   "metadata": {},
   "outputs": [
    {
     "data": {
      "text/plain": [
       "['hello']"
      ]
     },
     "execution_count": 60,
     "metadata": {},
     "output_type": "execute_result"
    }
   ],
   "source": [
    "d[\"k1\"][0][\"nest_key\"][1]"
   ]
  },
  {
   "cell_type": "code",
   "execution_count": null,
   "id": "0c6fbbda-9470-40ca-9eec-1aaa8d382e59",
   "metadata": {},
   "outputs": [],
   "source": []
  },
  {
   "cell_type": "code",
   "execution_count": 61,
   "id": "edba49ac-f5e1-40c2-8d47-e98b44bbef97",
   "metadata": {},
   "outputs": [],
   "source": [
    "d = {'k1':[1,2,{'k2':['this is tricky',{'tough':[1,2,['hello']]}]}]}"
   ]
  },
  {
   "cell_type": "code",
   "execution_count": 62,
   "id": "324f9130-3d28-4456-b028-bb528460e024",
   "metadata": {},
   "outputs": [
    {
     "data": {
      "text/plain": [
       "[1, 2, {'k2': ['this is tricky', {'tough': [1, 2, ['hello']]}]}]"
      ]
     },
     "execution_count": 62,
     "metadata": {},
     "output_type": "execute_result"
    }
   ],
   "source": [
    "d[\"k1\"]"
   ]
  },
  {
   "cell_type": "code",
   "execution_count": 71,
   "id": "8bb97d1c-553f-48e6-b355-145700b8e5c2",
   "metadata": {},
   "outputs": [
    {
     "data": {
      "text/plain": [
       "{'k2': ['this is tricky', {'tough': [1, 2, ['hello']]}]}"
      ]
     },
     "execution_count": 71,
     "metadata": {},
     "output_type": "execute_result"
    }
   ],
   "source": [
    "d[\"k1\"][2]"
   ]
  },
  {
   "cell_type": "code",
   "execution_count": 76,
   "id": "b13bc73a-06c8-4840-bd43-4af10e2125c4",
   "metadata": {},
   "outputs": [
    {
     "data": {
      "text/plain": [
       "{'tough': [1, 2, ['hello']]}"
      ]
     },
     "execution_count": 76,
     "metadata": {},
     "output_type": "execute_result"
    }
   ],
   "source": [
    "d[\"k1\"][2][\"k2\"][1]"
   ]
  },
  {
   "cell_type": "code",
   "execution_count": 78,
   "id": "2132b9bf-4707-4608-9633-9497a90b62c1",
   "metadata": {},
   "outputs": [
    {
     "data": {
      "text/plain": [
       "['hello']"
      ]
     },
     "execution_count": 78,
     "metadata": {},
     "output_type": "execute_result"
    }
   ],
   "source": [
    "d[\"k1\"][2][\"k2\"][1][\"tough\"][2]"
   ]
  },
  {
   "cell_type": "code",
   "execution_count": null,
   "id": "2bddddf9-4684-4c0a-83fe-2d763f88e5e6",
   "metadata": {},
   "outputs": [],
   "source": []
  },
  {
   "cell_type": "code",
   "execution_count": 80,
   "id": "e783f321-0b4b-4844-9805-8b38ba211406",
   "metadata": {},
   "outputs": [],
   "source": [
    "d = {'k1':[1,2,{'k2':['this is tricky',{'tough':[1,2,['hello']]}]}]}"
   ]
  },
  {
   "cell_type": "code",
   "execution_count": 90,
   "id": "3f8cc79f-2188-4870-a57a-99a732e43cf3",
   "metadata": {},
   "outputs": [
    {
     "data": {
      "text/plain": [
       "'hello'"
      ]
     },
     "execution_count": 90,
     "metadata": {},
     "output_type": "execute_result"
    }
   ],
   "source": [
    "d['k1'][2]['k2'][1]['tough'][2][0]"
   ]
  },
  {
   "cell_type": "code",
   "execution_count": null,
   "id": "b6be408e-41ac-42d1-bda0-ba0a8c1a4642",
   "metadata": {},
   "outputs": [],
   "source": []
  },
  {
   "cell_type": "code",
   "execution_count": 91,
   "id": "3f6ad2ef-dfa2-462d-9c07-26b0e41dab35",
   "metadata": {},
   "outputs": [],
   "source": [
    "d = {'k1':[1,2,{'k2':['this is tricky',{'tough':[1,2,['hello']]}]}]}"
   ]
  },
  {
   "cell_type": "code",
   "execution_count": 92,
   "id": "2bd67820-e3c2-4744-8c65-3224935b1893",
   "metadata": {},
   "outputs": [
    {
     "data": {
      "text/plain": [
       "[1, 2, {'k2': ['this is tricky', {'tough': [1, 2, ['hello']]}]}]"
      ]
     },
     "execution_count": 92,
     "metadata": {},
     "output_type": "execute_result"
    }
   ],
   "source": [
    "d[\"k1\"]"
   ]
  },
  {
   "cell_type": "code",
   "execution_count": 93,
   "id": "8e20d428-8fbc-4072-b591-ac0493a4df8d",
   "metadata": {},
   "outputs": [
    {
     "data": {
      "text/plain": [
       "{'k2': ['this is tricky', {'tough': [1, 2, ['hello']]}]}"
      ]
     },
     "execution_count": 93,
     "metadata": {},
     "output_type": "execute_result"
    }
   ],
   "source": [
    "d[\"k1\"][2]"
   ]
  },
  {
   "cell_type": "code",
   "execution_count": 94,
   "id": "8612c1a5-6c8d-4e57-9546-a9d86c164ed1",
   "metadata": {},
   "outputs": [
    {
     "data": {
      "text/plain": [
       "{'tough': [1, 2, ['hello']]}"
      ]
     },
     "execution_count": 94,
     "metadata": {},
     "output_type": "execute_result"
    }
   ],
   "source": [
    "d[\"k1\"][2][\"k2\"][1]"
   ]
  },
  {
   "cell_type": "code",
   "execution_count": 96,
   "id": "c1c5581a-a752-40da-99da-475d790cb5df",
   "metadata": {},
   "outputs": [
    {
     "data": {
      "text/plain": [
       "['hello']"
      ]
     },
     "execution_count": 96,
     "metadata": {},
     "output_type": "execute_result"
    }
   ],
   "source": [
    "d[\"k1\"][2][\"k2\"][1][\"tough\"][2]"
   ]
  },
  {
   "cell_type": "code",
   "execution_count": 97,
   "id": "8fd0b660-698f-4fc6-8b03-b71f5e084b2b",
   "metadata": {},
   "outputs": [
    {
     "data": {
      "text/plain": [
       "'hello'"
      ]
     },
     "execution_count": 97,
     "metadata": {},
     "output_type": "execute_result"
    }
   ],
   "source": [
    "d[\"k1\"][2][\"k2\"][1][\"tough\"][2][0]"
   ]
  },
  {
   "cell_type": "code",
   "execution_count": null,
   "id": "7a63b548-9a6e-44d3-bd8e-d630a781436d",
   "metadata": {},
   "outputs": [],
   "source": []
  },
  {
   "cell_type": "code",
   "execution_count": 98,
   "id": "bb264fd4-b142-4c40-a604-5cd7cc037f7c",
   "metadata": {},
   "outputs": [],
   "source": [
    "d = {'k1':[1,2,{'k2':['this is tricky',{'tough':[1,2,['hello']]}]}]}"
   ]
  },
  {
   "cell_type": "code",
   "execution_count": 104,
   "id": "97fbaefc-485a-4a6b-9c32-ef0160b2c7e7",
   "metadata": {},
   "outputs": [
    {
     "data": {
      "text/plain": [
       "'hello'"
      ]
     },
     "execution_count": 104,
     "metadata": {},
     "output_type": "execute_result"
    }
   ],
   "source": [
    "d[\"k1\"][2][\"k2\"][1][\"tough\"][2][0]"
   ]
  },
  {
   "cell_type": "code",
   "execution_count": null,
   "id": "cf7842f0-7f53-4fde-a826-7970627f7d02",
   "metadata": {},
   "outputs": [],
   "source": []
  }
 ],
 "metadata": {
  "kernelspec": {
   "display_name": "Python 3 (ipykernel)",
   "language": "python",
   "name": "python3"
  },
  "language_info": {
   "codemirror_mode": {
    "name": "ipython",
    "version": 3
   },
   "file_extension": ".py",
   "mimetype": "text/x-python",
   "name": "python",
   "nbconvert_exporter": "python",
   "pygments_lexer": "ipython3",
   "version": "3.10.0"
  }
 },
 "nbformat": 4,
 "nbformat_minor": 5
}
