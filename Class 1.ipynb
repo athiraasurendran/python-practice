{
 "cells": [
  {
   "cell_type": "markdown",
   "id": "07eb1478-6fcf-4735-9d6b-ca36297b5484",
   "metadata": {},
   "source": [
    "#### First Session"
   ]
  },
  {
   "cell_type": "code",
   "execution_count": 2,
   "id": "dd7bf9c8-8fee-4e2e-aa6b-23ce2d9e44f4",
   "metadata": {},
   "outputs": [
    {
     "name": "stdout",
     "output_type": "stream",
     "text": [
      "Hello World!\n"
     ]
    }
   ],
   "source": [
    "print(\"Hello World!\")"
   ]
  },
  {
   "cell_type": "markdown",
   "id": "d7e38e9d-f63b-482e-91f0-c2c6f91f3e29",
   "metadata": {},
   "source": [
    "#### Python Syntax"
   ]
  },
  {
   "cell_type": "markdown",
   "id": "8730e4c3-fb69-4abf-9bf6-c7d65fe01a54",
   "metadata": {},
   "source": [
    "##### Line Structure"
   ]
  },
  {
   "cell_type": "code",
   "execution_count": 3,
   "id": "9ec43725-94f9-4940-af3a-d06d4062a4b4",
   "metadata": {},
   "outputs": [],
   "source": [
    "A = 1\n",
    "B = 2"
   ]
  },
  {
   "cell_type": "code",
   "execution_count": 4,
   "id": "b2030e31-4cd1-4b24-acb3-6a717afab97a",
   "metadata": {},
   "outputs": [
    {
     "data": {
      "text/plain": [
       "3"
      ]
     },
     "execution_count": 4,
     "metadata": {},
     "output_type": "execute_result"
    }
   ],
   "source": [
    "A + B"
   ]
  },
  {
   "cell_type": "code",
   "execution_count": 5,
   "id": "ce9b5264-98cf-413b-85a7-0b8acfdf23d2",
   "metadata": {},
   "outputs": [
    {
     "name": "stdout",
     "output_type": "stream",
     "text": [
      "1\n"
     ]
    }
   ],
   "source": [
    "print(A)"
   ]
  },
  {
   "cell_type": "code",
   "execution_count": 6,
   "id": "63e9ecb4-e180-4667-9693-260bf799f66b",
   "metadata": {},
   "outputs": [],
   "source": [
    "X = 10\n",
    "Y = 20"
   ]
  },
  {
   "cell_type": "code",
   "execution_count": 7,
   "id": "4d531c51-014e-4eb9-8c45-18b63326e0d5",
   "metadata": {},
   "outputs": [
    {
     "data": {
      "text/plain": [
       "200"
      ]
     },
     "execution_count": 7,
     "metadata": {},
     "output_type": "execute_result"
    }
   ],
   "source": [
    "X * Y"
   ]
  },
  {
   "cell_type": "code",
   "execution_count": 8,
   "id": "59d49984-3c37-4e2e-a768-0d00c7451b6b",
   "metadata": {},
   "outputs": [],
   "source": [
    "x = 75; y = 65; z = 34"
   ]
  },
  {
   "cell_type": "code",
   "execution_count": 9,
   "id": "7e7c6e90-4107-4cfd-b416-acccb408fa2b",
   "metadata": {},
   "outputs": [
    {
     "data": {
      "text/plain": [
       "106"
      ]
     },
     "execution_count": 9,
     "metadata": {},
     "output_type": "execute_result"
    }
   ],
   "source": [
    "x + y - z"
   ]
  },
  {
   "cell_type": "code",
   "execution_count": 10,
   "id": "6723f0e1-893a-4d9d-bc1b-5c46602ee3f0",
   "metadata": {},
   "outputs": [],
   "source": [
    "Total = 10 + 20 + 30 + 40 + 50 + \\\n",
    "        60 + 70 + 80 + 90 + 100"
   ]
  },
  {
   "cell_type": "code",
   "execution_count": 12,
   "id": "b84a59c8-25ce-4a18-ad69-fa79d98239d0",
   "metadata": {},
   "outputs": [
    {
     "data": {
      "text/plain": [
       "550"
      ]
     },
     "execution_count": 12,
     "metadata": {},
     "output_type": "execute_result"
    }
   ],
   "source": [
    "Total"
   ]
  },
  {
   "cell_type": "markdown",
   "id": "2e6ed493-b724-47f0-bd34-5ca7e38fdaa5",
   "metadata": {},
   "source": [
    "##### Indentation"
   ]
  },
  {
   "cell_type": "code",
   "execution_count": 14,
   "id": "49d7eaaa-53f3-49f8-bb7c-22a99f090467",
   "metadata": {},
   "outputs": [
    {
     "name": "stdout",
     "output_type": "stream",
     "text": [
      "No\n"
     ]
    }
   ],
   "source": [
    "x = -10 \n",
    "if x > 0:\n",
    "    print(\"x is greater than 0\")\n",
    "else:\n",
    "    print(\"No\")"
   ]
  },
  {
   "cell_type": "markdown",
   "id": "194e70da-7836-4dfe-9437-b98928facc37",
   "metadata": {},
   "source": [
    "##### Variables"
   ]
  },
  {
   "cell_type": "markdown",
   "id": "0946fd1a-4120-4aef-b9a9-3c51b9d68cd0",
   "metadata": {},
   "source": [
    "Data Types\n",
    "\n",
    "1. Integer\n",
    "2. Float\n",
    "3. String\n",
    "4. List\n",
    "5. Tuple\n",
    "6. Boolean\n",
    "7. Set\n",
    "8. Dictionary"
   ]
  },
  {
   "cell_type": "code",
   "execution_count": 19,
   "id": "53b4edd5-fd04-4b94-b43d-13445b0fc15e",
   "metadata": {},
   "outputs": [
    {
     "data": {
      "text/plain": [
       "78.0"
      ]
     },
     "execution_count": 19,
     "metadata": {},
     "output_type": "execute_result"
    }
   ],
   "source": [
    "234 / 3"
   ]
  },
  {
   "cell_type": "markdown",
   "id": "d43bed73-e4d7-4e53-ae5c-bff816cb7cf1",
   "metadata": {},
   "source": [
    "##### Floor Division"
   ]
  },
  {
   "cell_type": "code",
   "execution_count": 21,
   "id": "210304a2-2a19-49ec-9571-937b0d11216c",
   "metadata": {},
   "outputs": [
    {
     "data": {
      "text/plain": [
       "78"
      ]
     },
     "execution_count": 21,
     "metadata": {},
     "output_type": "execute_result"
    }
   ],
   "source": [
    "234 // 3"
   ]
  },
  {
   "cell_type": "markdown",
   "id": "c7d20a3b-f42f-4098-97ee-01d095e54c27",
   "metadata": {},
   "source": [
    "##### % Modulus"
   ]
  },
  {
   "cell_type": "code",
   "execution_count": 22,
   "id": "91a93427-192c-40f9-8f70-8c7f1c6e94e1",
   "metadata": {},
   "outputs": [
    {
     "data": {
      "text/plain": [
       "1"
      ]
     },
     "execution_count": 22,
     "metadata": {},
     "output_type": "execute_result"
    }
   ],
   "source": [
    "5 % 2"
   ]
  },
  {
   "cell_type": "code",
   "execution_count": 23,
   "id": "49bda93b-5569-4d0c-a3df-755cdae6e84e",
   "metadata": {},
   "outputs": [
    {
     "data": {
      "text/plain": [
       "2"
      ]
     },
     "execution_count": 23,
     "metadata": {},
     "output_type": "execute_result"
    }
   ],
   "source": [
    "7 % 5"
   ]
  },
  {
   "cell_type": "code",
   "execution_count": 25,
   "id": "7e8409ad-ca05-4478-b33e-8e61040af683",
   "metadata": {},
   "outputs": [
    {
     "data": {
      "text/plain": [
       "64"
      ]
     },
     "execution_count": 25,
     "metadata": {},
     "output_type": "execute_result"
    }
   ],
   "source": [
    "2 ** 6"
   ]
  },
  {
   "cell_type": "code",
   "execution_count": 26,
   "id": "06e6316f-fe79-432f-b138-609123f798d9",
   "metadata": {},
   "outputs": [
    {
     "data": {
      "text/plain": [
       "576"
      ]
     },
     "execution_count": 26,
     "metadata": {},
     "output_type": "execute_result"
    }
   ],
   "source": [
    "24 ** 2"
   ]
  },
  {
   "cell_type": "code",
   "execution_count": 4,
   "id": "d71c0bc4-5f79-49c7-b8b7-58dcc3983ec8",
   "metadata": {},
   "outputs": [
    {
     "data": {
      "text/plain": [
       "\"I'm Athira\""
      ]
     },
     "execution_count": 4,
     "metadata": {},
     "output_type": "execute_result"
    }
   ],
   "source": [
    "\"I'm Athira\""
   ]
  },
  {
   "cell_type": "code",
   "execution_count": null,
   "id": "80212e3d-ee69-4fb7-af28-c7a986d17bd6",
   "metadata": {},
   "outputs": [],
   "source": []
  }
 ],
 "metadata": {
  "kernelspec": {
   "display_name": "Python 3 (ipykernel)",
   "language": "python",
   "name": "python3"
  },
  "language_info": {
   "codemirror_mode": {
    "name": "ipython",
    "version": 3
   },
   "file_extension": ".py",
   "mimetype": "text/x-python",
   "name": "python",
   "nbconvert_exporter": "python",
   "pygments_lexer": "ipython3",
   "version": "3.10.0"
  }
 },
 "nbformat": 4,
 "nbformat_minor": 5
}
