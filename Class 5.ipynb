{
 "cells": [
  {
   "cell_type": "markdown",
   "id": "2bf65ce2-a9fd-44ec-969e-2aabb0605a05",
   "metadata": {},
   "source": [
    "#### Conditional Statements"
   ]
  },
  {
   "cell_type": "markdown",
   "id": "52cc5714-4ac7-43fd-9088-f25dc2c382c6",
   "metadata": {},
   "source": [
    "if \\\n",
    "else \\\n",
    "elif "
   ]
  },
  {
   "cell_type": "markdown",
   "id": "1af0d16a-ee8c-4e0a-994b-388bacfaa020",
   "metadata": {},
   "source": [
    "#### if condition"
   ]
  },
  {
   "cell_type": "code",
   "execution_count": 7,
   "id": "a12bc3f7-14fb-420b-942e-107c320a0310",
   "metadata": {},
   "outputs": [
    {
     "name": "stdin",
     "output_type": "stream",
     "text": [
      "Enter the age:  20\n"
     ]
    }
   ],
   "source": [
    "age = int(input(\"Enter the age: \"))"
   ]
  },
  {
   "cell_type": "code",
   "execution_count": 8,
   "id": "273ef959-0c0c-4c2f-ae80-155f5f40ce6f",
   "metadata": {},
   "outputs": [
    {
     "name": "stdout",
     "output_type": "stream",
     "text": [
      "You are eligible to vote\n"
     ]
    }
   ],
   "source": [
    "if age >= 18:\n",
    "    print(\"You are eligible to vote\")"
   ]
  },
  {
   "cell_type": "code",
   "execution_count": 9,
   "id": "a2dc587b-b42b-4504-8024-ad65157469b6",
   "metadata": {},
   "outputs": [
    {
     "data": {
      "text/plain": [
       "int"
      ]
     },
     "execution_count": 9,
     "metadata": {},
     "output_type": "execute_result"
    }
   ],
   "source": [
    "type(age)"
   ]
  },
  {
   "cell_type": "code",
   "execution_count": 10,
   "id": "78ef82b6-30a2-49cc-8c6e-99d00ab0eac7",
   "metadata": {},
   "outputs": [
    {
     "name": "stdin",
     "output_type": "stream",
     "text": [
      "Enter the age:  17\n"
     ]
    },
    {
     "name": "stdout",
     "output_type": "stream",
     "text": [
      "Not eligible\n"
     ]
    }
   ],
   "source": [
    "age = int(input(\"Enter the age: \"))\n",
    "\n",
    "if age >= 18:\n",
    "    print(\"You are eligible to vote\")\n",
    "else:\n",
    "    print(\"Not eligible\")"
   ]
  },
  {
   "cell_type": "code",
   "execution_count": 11,
   "id": "fb4988f2-ff35-4334-9dc7-585ca07f806e",
   "metadata": {},
   "outputs": [
    {
     "name": "stdin",
     "output_type": "stream",
     "text": [
      "Enter the age:  21\n"
     ]
    },
    {
     "name": "stdout",
     "output_type": "stream",
     "text": [
      "You are eligible to vote\n"
     ]
    }
   ],
   "source": [
    "age = int(input(\"Enter the age: \"))\n",
    "\n",
    "if age >= 18:\n",
    "    print(\"You are eligible to vote\")\n",
    "else:\n",
    "    print(\"Not eligible\")"
   ]
  },
  {
   "cell_type": "code",
   "execution_count": 14,
   "id": "b34aa41e-cb8d-438a-b494-c249b152c223",
   "metadata": {},
   "outputs": [
    {
     "name": "stdin",
     "output_type": "stream",
     "text": [
      "Enter the mark:  95\n"
     ]
    },
    {
     "name": "stdout",
     "output_type": "stream",
     "text": [
      "Grade: A+\n"
     ]
    }
   ],
   "source": [
    "mark = int(input(\"Enter the mark: \"))\n",
    "\n",
    "if mark >= 90:\n",
    "    print(\"Grade: A+\")\n",
    "elif mark >= 80:\n",
    "    print(\"Grade: A\")\n",
    "elif mark >= 70:\n",
    "    print(\"Grade: B+\")\n",
    "elif mark >= 60:\n",
    "    print(\"Grade: B\")\n",
    "else:\n",
    "    print(\"Failed\")"
   ]
  },
  {
   "cell_type": "code",
   "execution_count": 15,
   "id": "f79f8b37-a60e-4a34-ac1c-7c3f941bb287",
   "metadata": {},
   "outputs": [
    {
     "name": "stdin",
     "output_type": "stream",
     "text": [
      "Enter the mark:  77\n"
     ]
    },
    {
     "name": "stdout",
     "output_type": "stream",
     "text": [
      "Grade: B+\n"
     ]
    }
   ],
   "source": [
    "mark = int(input(\"Enter the mark: \"))\n",
    "\n",
    "if mark >= 90:\n",
    "    print(\"Grade: A+\")\n",
    "elif mark >= 80:\n",
    "    print(\"Grade: A\")\n",
    "elif mark >= 70:\n",
    "    print(\"Grade: B+\")\n",
    "elif mark >= 60:\n",
    "    print(\"Grade: B\")\n",
    "else:\n",
    "    print(\"Failed\")"
   ]
  },
  {
   "cell_type": "code",
   "execution_count": 16,
   "id": "182b4254-2389-4e3f-ae43-e618303f0024",
   "metadata": {},
   "outputs": [
    {
     "name": "stdin",
     "output_type": "stream",
     "text": [
      "Enter the mark:  53\n"
     ]
    },
    {
     "name": "stdout",
     "output_type": "stream",
     "text": [
      "Failed\n"
     ]
    }
   ],
   "source": [
    "mark = int(input(\"Enter the mark: \"))\n",
    "\n",
    "if mark >= 90:\n",
    "    print(\"Grade: A+\")\n",
    "elif mark >= 80:\n",
    "    print(\"Grade: A\")\n",
    "elif mark >= 70:\n",
    "    print(\"Grade: B+\")\n",
    "elif mark >= 60:\n",
    "    print(\"Grade: B\")\n",
    "else:\n",
    "    print(\"Failed\")"
   ]
  },
  {
   "cell_type": "markdown",
   "id": "c2d811e9-3156-47f3-bfdc-a053a9720ea9",
   "metadata": {},
   "source": [
    "#### Nested if statement"
   ]
  },
  {
   "cell_type": "code",
   "execution_count": 18,
   "id": "2be4c812-c484-4fee-a26d-7b7db10858c9",
   "metadata": {},
   "outputs": [
    {
     "name": "stdout",
     "output_type": "stream",
     "text": [
      "You are not an Indian citizen\n"
     ]
    }
   ],
   "source": [
    "age = 20\n",
    "citizenship = \"US\"\n",
    "\n",
    "if age >= 18:\n",
    "    if citizenship == \"Indian\":\n",
    "        print(\"You are eligible to vote\")\n",
    "    else:\n",
    "        print(\"You are not an Indian citizen\")\n",
    "else:\n",
    "    print(\"Not eligible\")"
   ]
  },
  {
   "cell_type": "code",
   "execution_count": 19,
   "id": "f211731b-9d90-4f85-8fb3-d3e7f6d95a47",
   "metadata": {},
   "outputs": [
    {
     "name": "stdout",
     "output_type": "stream",
     "text": [
      "You are eligible to vote\n"
     ]
    }
   ],
   "source": [
    "age = 20\n",
    "citizenship = \"Indian\"\n",
    "\n",
    "if age >= 18:\n",
    "    if citizenship == \"Indian\":\n",
    "        print(\"You are eligible to vote\")\n",
    "    else:\n",
    "        print(\"You are not an Indian citizen\")\n",
    "else:\n",
    "    print(\"Not eligible\")"
   ]
  },
  {
   "cell_type": "code",
   "execution_count": 20,
   "id": "7cb082a0-545a-47e9-88a6-c46ec177eb99",
   "metadata": {},
   "outputs": [
    {
     "name": "stdout",
     "output_type": "stream",
     "text": [
      "Not eligible\n"
     ]
    }
   ],
   "source": [
    "age = 17\n",
    "citizenship = \"Indian\"\n",
    "\n",
    "if age >= 18:\n",
    "    if citizenship == \"Indian\":\n",
    "        print(\"You are eligible to vote\")\n",
    "    else:\n",
    "        print(\"You are not an Indian citizen\")\n",
    "else:\n",
    "    print(\"Not eligible\")"
   ]
  },
  {
   "cell_type": "code",
   "execution_count": null,
   "id": "740d045d-8fea-4d19-835b-8f5b42727004",
   "metadata": {},
   "outputs": [],
   "source": []
  },
  {
   "cell_type": "markdown",
   "id": "f3ba1138-c951-4355-9117-354dfd11eeb7",
   "metadata": {},
   "source": [
    "#### For loop"
   ]
  },
  {
   "cell_type": "code",
   "execution_count": 2,
   "id": "5f003c6e-a1d3-4dcf-85ce-8f3e30bb3070",
   "metadata": {},
   "outputs": [],
   "source": [
    "numbers = [1, 2, 3, 4, 5]"
   ]
  },
  {
   "cell_type": "code",
   "execution_count": 3,
   "id": "144f2c0a-6deb-4b8a-b765-c0c732d1d446",
   "metadata": {},
   "outputs": [
    {
     "name": "stdout",
     "output_type": "stream",
     "text": [
      "1\n",
      "2\n",
      "3\n",
      "4\n",
      "5\n"
     ]
    }
   ],
   "source": [
    "for i in numbers:\n",
    "    print(i)"
   ]
  },
  {
   "cell_type": "code",
   "execution_count": 4,
   "id": "bb8d9bad-24d4-48cb-9125-7534a4323d51",
   "metadata": {},
   "outputs": [
    {
     "name": "stdout",
     "output_type": "stream",
     "text": [
      "H\n",
      "e\n",
      "l\n",
      "l\n",
      "o\n",
      " \n",
      "W\n",
      "o\n",
      "r\n",
      "l\n",
      "d\n"
     ]
    }
   ],
   "source": [
    "for i in \"Hello World\":\n",
    "    print(i)"
   ]
  },
  {
   "cell_type": "code",
   "execution_count": 5,
   "id": "c3f90885-cbe4-4a25-804f-be62ff06acbf",
   "metadata": {},
   "outputs": [
    {
     "name": "stdout",
     "output_type": "stream",
     "text": [
      "red\n",
      "bule\n",
      "yellow\n",
      "white\n"
     ]
    }
   ],
   "source": [
    "for colors in [\"red\", \"bule\", \"yellow\", \"white\"]:\n",
    "    print(colors)"
   ]
  },
  {
   "cell_type": "code",
   "execution_count": 6,
   "id": "779b8ab6-1534-49ef-8364-ad737e2ee846",
   "metadata": {},
   "outputs": [
    {
     "name": "stdout",
     "output_type": "stream",
     "text": [
      "100\n",
      "101\n",
      "102\n",
      "103\n",
      "104\n",
      "105\n"
     ]
    }
   ],
   "source": [
    "for no in [100, 101, 102, 103, 104, 105]:\n",
    "    print(no)"
   ]
  },
  {
   "cell_type": "code",
   "execution_count": 9,
   "id": "635c07c5-72c1-460d-af1a-39736e85a9cc",
   "metadata": {},
   "outputs": [
    {
     "name": "stdout",
     "output_type": "stream",
     "text": [
      "A\n",
      "t\n",
      "h\n",
      "i\n",
      "r\n",
      "a\n",
      " \n",
      "S\n",
      "u\n",
      "r\n",
      "e\n",
      "n\n",
      "d\n",
      "r\n",
      "a\n",
      "n\n"
     ]
    }
   ],
   "source": [
    "for name in \"Athira Surendran\":\n",
    "    print(name)"
   ]
  },
  {
   "cell_type": "code",
   "execution_count": 10,
   "id": "cc40ca9b-97f2-475c-a8d9-bd6eb13828ec",
   "metadata": {},
   "outputs": [
    {
     "name": "stdout",
     "output_type": "stream",
     "text": [
      "1\n",
      "2\n",
      "3\n",
      "4\n",
      "5\n",
      "6\n",
      "7\n",
      "8\n",
      "9\n",
      "10\n"
     ]
    }
   ],
   "source": [
    "for i in range(1, 11):\n",
    "    print(i)"
   ]
  },
  {
   "cell_type": "code",
   "execution_count": 11,
   "id": "f544ed42-e0e5-4730-b6f5-9dde1f02293d",
   "metadata": {},
   "outputs": [
    {
     "name": "stdout",
     "output_type": "stream",
     "text": [
      "0\n",
      "1\n",
      "2\n",
      "3\n",
      "4\n",
      "5\n",
      "6\n",
      "7\n",
      "8\n",
      "9\n",
      "10\n",
      "11\n",
      "12\n",
      "13\n",
      "14\n",
      "15\n",
      "16\n",
      "17\n",
      "18\n",
      "19\n",
      "20\n",
      "21\n",
      "22\n",
      "23\n",
      "24\n",
      "25\n",
      "26\n",
      "27\n",
      "28\n",
      "29\n",
      "30\n",
      "31\n",
      "32\n",
      "33\n",
      "34\n",
      "35\n",
      "36\n",
      "37\n",
      "38\n",
      "39\n",
      "40\n",
      "41\n",
      "42\n",
      "43\n",
      "44\n",
      "45\n",
      "46\n",
      "47\n",
      "48\n",
      "49\n",
      "50\n",
      "51\n",
      "52\n",
      "53\n",
      "54\n",
      "55\n",
      "56\n",
      "57\n",
      "58\n",
      "59\n",
      "60\n",
      "61\n",
      "62\n",
      "63\n",
      "64\n",
      "65\n",
      "66\n",
      "67\n",
      "68\n",
      "69\n",
      "70\n",
      "71\n",
      "72\n",
      "73\n",
      "74\n",
      "75\n",
      "76\n",
      "77\n",
      "78\n",
      "79\n",
      "80\n",
      "81\n",
      "82\n",
      "83\n",
      "84\n",
      "85\n",
      "86\n",
      "87\n",
      "88\n",
      "89\n",
      "90\n",
      "91\n",
      "92\n",
      "93\n",
      "94\n",
      "95\n",
      "96\n",
      "97\n",
      "98\n",
      "99\n",
      "100\n"
     ]
    }
   ],
   "source": [
    "for i in range(0, 101):\n",
    "    print(i)"
   ]
  },
  {
   "cell_type": "code",
   "execution_count": 13,
   "id": "8d6e14dd-5a59-4b12-891d-6b27a166c181",
   "metadata": {},
   "outputs": [
    {
     "name": "stdout",
     "output_type": "stream",
     "text": [
      "0 0\n",
      "0 1\n",
      "1 0\n",
      "1 1\n"
     ]
    }
   ],
   "source": [
    "for i in range(2):\n",
    "    for j in range(2):\n",
    "        print(i,j)"
   ]
  },
  {
   "cell_type": "code",
   "execution_count": 14,
   "id": "db1fe1f8-64ad-4531-93b9-1c020b2e444b",
   "metadata": {},
   "outputs": [
    {
     "name": "stdout",
     "output_type": "stream",
     "text": [
      "10 red 0\n",
      "10 red 1\n",
      "10 red 2\n",
      "10 red 3\n",
      "10 red 4\n",
      "10 red 5\n",
      "10 blue 0\n",
      "10 blue 1\n",
      "10 blue 2\n",
      "10 blue 3\n",
      "10 blue 4\n",
      "10 blue 5\n",
      "10 white 0\n",
      "10 white 1\n",
      "10 white 2\n",
      "10 white 3\n",
      "10 white 4\n",
      "10 white 5\n",
      "10 green 0\n",
      "10 green 1\n",
      "10 green 2\n",
      "10 green 3\n",
      "10 green 4\n",
      "10 green 5\n",
      "10 pink 0\n",
      "10 pink 1\n",
      "10 pink 2\n",
      "10 pink 3\n",
      "10 pink 4\n",
      "10 pink 5\n",
      "20 red 0\n",
      "20 red 1\n",
      "20 red 2\n",
      "20 red 3\n",
      "20 red 4\n",
      "20 red 5\n",
      "20 blue 0\n",
      "20 blue 1\n",
      "20 blue 2\n",
      "20 blue 3\n",
      "20 blue 4\n",
      "20 blue 5\n",
      "20 white 0\n",
      "20 white 1\n",
      "20 white 2\n",
      "20 white 3\n",
      "20 white 4\n",
      "20 white 5\n",
      "20 green 0\n",
      "20 green 1\n",
      "20 green 2\n",
      "20 green 3\n",
      "20 green 4\n",
      "20 green 5\n",
      "20 pink 0\n",
      "20 pink 1\n",
      "20 pink 2\n",
      "20 pink 3\n",
      "20 pink 4\n",
      "20 pink 5\n",
      "30 red 0\n",
      "30 red 1\n",
      "30 red 2\n",
      "30 red 3\n",
      "30 red 4\n",
      "30 red 5\n",
      "30 blue 0\n",
      "30 blue 1\n",
      "30 blue 2\n",
      "30 blue 3\n",
      "30 blue 4\n",
      "30 blue 5\n",
      "30 white 0\n",
      "30 white 1\n",
      "30 white 2\n",
      "30 white 3\n",
      "30 white 4\n",
      "30 white 5\n",
      "30 green 0\n",
      "30 green 1\n",
      "30 green 2\n",
      "30 green 3\n",
      "30 green 4\n",
      "30 green 5\n",
      "30 pink 0\n",
      "30 pink 1\n",
      "30 pink 2\n",
      "30 pink 3\n",
      "30 pink 4\n",
      "30 pink 5\n",
      "40 red 0\n",
      "40 red 1\n",
      "40 red 2\n",
      "40 red 3\n",
      "40 red 4\n",
      "40 red 5\n",
      "40 blue 0\n",
      "40 blue 1\n",
      "40 blue 2\n",
      "40 blue 3\n",
      "40 blue 4\n",
      "40 blue 5\n",
      "40 white 0\n",
      "40 white 1\n",
      "40 white 2\n",
      "40 white 3\n",
      "40 white 4\n",
      "40 white 5\n",
      "40 green 0\n",
      "40 green 1\n",
      "40 green 2\n",
      "40 green 3\n",
      "40 green 4\n",
      "40 green 5\n",
      "40 pink 0\n",
      "40 pink 1\n",
      "40 pink 2\n",
      "40 pink 3\n",
      "40 pink 4\n",
      "40 pink 5\n",
      "50 red 0\n",
      "50 red 1\n",
      "50 red 2\n",
      "50 red 3\n",
      "50 red 4\n",
      "50 red 5\n",
      "50 blue 0\n",
      "50 blue 1\n",
      "50 blue 2\n",
      "50 blue 3\n",
      "50 blue 4\n",
      "50 blue 5\n",
      "50 white 0\n",
      "50 white 1\n",
      "50 white 2\n",
      "50 white 3\n",
      "50 white 4\n",
      "50 white 5\n",
      "50 green 0\n",
      "50 green 1\n",
      "50 green 2\n",
      "50 green 3\n",
      "50 green 4\n",
      "50 green 5\n",
      "50 pink 0\n",
      "50 pink 1\n",
      "50 pink 2\n",
      "50 pink 3\n",
      "50 pink 4\n",
      "50 pink 5\n"
     ]
    }
   ],
   "source": [
    "for i in [10, 20, 30, 40, 50]:\n",
    "    for j in (\"red\", \"blue\", \"white\", \"green\", \"pink\"):\n",
    "        for k in range(6):\n",
    "            print(i, j, k)"
   ]
  },
  {
   "cell_type": "markdown",
   "id": "0740a246-b230-4c03-8e2c-d1c6ba6b24a9",
   "metadata": {},
   "source": [
    "break \\\n",
    "continue \\\n",
    "pass"
   ]
  },
  {
   "cell_type": "markdown",
   "id": "84242ccd-6bdf-44c0-9693-375fb613fb4c",
   "metadata": {},
   "source": [
    "#### Break"
   ]
  },
  {
   "cell_type": "code",
   "execution_count": 18,
   "id": "a156b3e9-1db2-40db-8ab4-a9918a9a14fa",
   "metadata": {},
   "outputs": [
    {
     "name": "stdout",
     "output_type": "stream",
     "text": [
      "0\n",
      "1\n",
      "2\n",
      "3\n",
      "4\n",
      "5\n",
      "6\n",
      "7\n",
      "8\n",
      "9\n",
      "10\n"
     ]
    }
   ],
   "source": [
    "for i in range(0, 11):\n",
    "    print(i)"
   ]
  },
  {
   "cell_type": "code",
   "execution_count": 25,
   "id": "17ddb312-bf25-4783-8898-b8761ccdee38",
   "metadata": {},
   "outputs": [
    {
     "name": "stdout",
     "output_type": "stream",
     "text": [
      "0\n",
      "1\n",
      "2\n",
      "3\n",
      "4\n",
      "5\n"
     ]
    }
   ],
   "source": [
    "for i in range(0, 11):\n",
    "    if i == 6:\n",
    "        break\n",
    "    print(i)"
   ]
  },
  {
   "cell_type": "code",
   "execution_count": 26,
   "id": "ceb3e23a-633b-4e97-ab3b-72a2edcd400b",
   "metadata": {},
   "outputs": [
    {
     "name": "stdout",
     "output_type": "stream",
     "text": [
      "0\n",
      "1\n",
      "2\n",
      "3\n",
      "4\n",
      "5\n",
      "6\n"
     ]
    }
   ],
   "source": [
    "for i in range(0, 11):\n",
    "    print(i)\n",
    "    if i == 6:\n",
    "        break"
   ]
  },
  {
   "cell_type": "code",
   "execution_count": 28,
   "id": "798c2181-c498-4acb-b1ca-34d24d930b3c",
   "metadata": {},
   "outputs": [
    {
     "name": "stdout",
     "output_type": "stream",
     "text": [
      "red\n",
      "green\n",
      "pink\n"
     ]
    }
   ],
   "source": [
    "for ball in (\"red\", \"green\", \"pink\", \"orange\", \"black\"):\n",
    "    if ball == \"orange\":\n",
    "        break\n",
    "    print(ball)"
   ]
  },
  {
   "cell_type": "code",
   "execution_count": 29,
   "id": "a74dae61-c589-4d8c-aa38-0b5c4db2532d",
   "metadata": {},
   "outputs": [
    {
     "name": "stdout",
     "output_type": "stream",
     "text": [
      "red\n",
      "green\n",
      "pink\n",
      "orange\n"
     ]
    }
   ],
   "source": [
    "for ball in (\"red\", \"green\", \"pink\", \"orange\", \"black\"):\n",
    "    print(ball)\n",
    "    if ball == \"orange\":\n",
    "        break"
   ]
  },
  {
   "cell_type": "markdown",
   "id": "dc8e2b49-1a5f-4a00-896c-02425658872c",
   "metadata": {},
   "source": [
    "#### Continue"
   ]
  },
  {
   "cell_type": "code",
   "execution_count": 33,
   "id": "b2db8028-1cc1-49f6-b415-a498fc6c217f",
   "metadata": {},
   "outputs": [
    {
     "name": "stdout",
     "output_type": "stream",
     "text": [
      "0\n",
      "1\n",
      "2\n",
      "3\n",
      "4\n"
     ]
    }
   ],
   "source": [
    "for i in range(0, 6):\n",
    "    if i == 5:\n",
    "        continue\n",
    "    print(i)"
   ]
  },
  {
   "cell_type": "code",
   "execution_count": 44,
   "id": "711ea42f-24d0-4229-8b72-188de4bb1e5a",
   "metadata": {},
   "outputs": [
    {
     "name": "stdout",
     "output_type": "stream",
     "text": [
      "red\n",
      "green\n",
      "pink\n",
      "black\n"
     ]
    }
   ],
   "source": [
    "for ball in (\"red\", \"green\", \"pink\", \"orange\", \"black\"):\n",
    "    if ball == \"orange\": \n",
    "        continue\n",
    "    print(ball)"
   ]
  },
  {
   "cell_type": "code",
   "execution_count": 79,
   "id": "9033fbc6-0c0c-4d8c-b4c0-760c3f85d095",
   "metadata": {},
   "outputs": [
    {
     "name": "stdout",
     "output_type": "stream",
     "text": [
      "10 red 0\n",
      "10 red 1\n",
      "10 red 2\n",
      "10 red 3\n",
      "10 red 4\n",
      "10 red 5\n",
      "10 blue 0\n",
      "10 blue 1\n",
      "10 blue 2\n",
      "10 blue 3\n",
      "10 blue 4\n",
      "10 blue 5\n",
      "10 white 0\n",
      "10 white 1\n",
      "10 white 2\n",
      "10 white 3\n",
      "10 white 4\n",
      "10 white 5\n",
      "10 pink 0\n",
      "10 pink 1\n",
      "10 pink 2\n",
      "10 pink 3\n",
      "10 pink 4\n",
      "10 pink 5\n",
      "20 red 0\n",
      "20 red 1\n",
      "20 red 2\n",
      "20 red 3\n",
      "20 red 4\n",
      "20 red 5\n",
      "20 blue 0\n",
      "20 blue 1\n",
      "20 blue 2\n",
      "20 blue 3\n",
      "20 blue 4\n",
      "20 blue 5\n",
      "20 white 0\n",
      "20 white 1\n",
      "20 white 2\n",
      "20 white 3\n",
      "20 white 4\n",
      "20 white 5\n",
      "20 pink 0\n",
      "20 pink 1\n",
      "20 pink 2\n",
      "20 pink 3\n",
      "20 pink 4\n",
      "20 pink 5\n",
      "30 red 0\n",
      "30 red 1\n",
      "30 red 2\n",
      "30 red 3\n",
      "30 red 4\n",
      "30 red 5\n",
      "30 blue 0\n",
      "30 blue 1\n",
      "30 blue 2\n",
      "30 blue 3\n",
      "30 blue 4\n",
      "30 blue 5\n",
      "30 white 0\n",
      "30 white 1\n",
      "30 white 2\n",
      "30 white 3\n",
      "30 white 4\n",
      "30 white 5\n",
      "30 pink 0\n",
      "30 pink 1\n",
      "30 pink 2\n",
      "30 pink 3\n",
      "30 pink 4\n",
      "30 pink 5\n",
      "40 red 0\n",
      "40 red 1\n",
      "40 red 2\n",
      "40 red 3\n",
      "40 red 4\n",
      "40 red 5\n",
      "40 blue 0\n",
      "40 blue 1\n",
      "40 blue 2\n",
      "40 blue 3\n",
      "40 blue 4\n",
      "40 blue 5\n",
      "40 white 0\n",
      "40 white 1\n",
      "40 white 2\n",
      "40 white 3\n",
      "40 white 4\n",
      "40 white 5\n",
      "40 pink 0\n",
      "40 pink 1\n",
      "40 pink 2\n",
      "40 pink 3\n",
      "40 pink 4\n",
      "40 pink 5\n"
     ]
    }
   ],
   "source": [
    "for i in [10, 20, 30, 40, 50]:\n",
    "    for j in (\"red\", \"blue\", \"white\", \"green\", \"pink\"):\n",
    "        for k in range(6):\n",
    "            if j == \"green\" or i == 50:\n",
    "                continue\n",
    "            print(i, j, k)"
   ]
  },
  {
   "cell_type": "code",
   "execution_count": 80,
   "id": "3d955e96-9d17-4682-b12c-ef875a124d23",
   "metadata": {},
   "outputs": [
    {
     "name": "stdout",
     "output_type": "stream",
     "text": [
      "1\n",
      "2\n",
      "3\n",
      "4\n",
      "5\n",
      "6\n",
      "7\n",
      "8\n",
      "10\n"
     ]
    }
   ],
   "source": [
    "for i in range (1, 11):\n",
    "    if i == 9:\n",
    "        continue\n",
    "    print(i)"
   ]
  },
  {
   "cell_type": "markdown",
   "id": "b9f6862d-f806-4605-8f91-4c6c7a2314f5",
   "metadata": {},
   "source": [
    "#### Pass"
   ]
  },
  {
   "cell_type": "markdown",
   "id": "383ad8c8-76b2-4a7b-868e-54152c7d5d48",
   "metadata": {},
   "source": [
    "Do Nothing"
   ]
  },
  {
   "cell_type": "code",
   "execution_count": 81,
   "id": "3af389ee-735a-4b4d-9f29-eb8655cbff27",
   "metadata": {},
   "outputs": [],
   "source": [
    "for i in range(1, 6):\n",
    "    if i == 3:\n",
    "        pass"
   ]
  },
  {
   "cell_type": "code",
   "execution_count": null,
   "id": "568da30e-ae6a-41bc-b263-2ed3dc0d5392",
   "metadata": {},
   "outputs": [],
   "source": []
  }
 ],
 "metadata": {
  "kernelspec": {
   "display_name": "Python 3 (ipykernel)",
   "language": "python",
   "name": "python3"
  },
  "language_info": {
   "codemirror_mode": {
    "name": "ipython",
    "version": 3
   },
   "file_extension": ".py",
   "mimetype": "text/x-python",
   "name": "python",
   "nbconvert_exporter": "python",
   "pygments_lexer": "ipython3",
   "version": "3.10.0"
  }
 },
 "nbformat": 4,
 "nbformat_minor": 5
}
