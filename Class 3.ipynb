{
 "cells": [
  {
   "cell_type": "markdown",
   "id": "49402b32-09c8-4553-b946-063c4434d500",
   "metadata": {},
   "source": [
    "#### Useful Operators"
   ]
  },
  {
   "cell_type": "markdown",
   "id": "01146bb9-e7c0-4d30-a710-646c6a32c9ef",
   "metadata": {},
   "source": [
    "##### Compound Assignment Operators"
   ]
  },
  {
   "cell_type": "markdown",
   "id": "032633bc-1192-4d7e-b6fa-6b1f9cc89156",
   "metadata": {},
   "source": [
    "#### +="
   ]
  },
  {
   "cell_type": "code",
   "execution_count": 1,
   "id": "0bc958ea-6915-4dc4-b7ae-e0fd30aa5f7b",
   "metadata": {},
   "outputs": [
    {
     "data": {
      "text/plain": [
       "10"
      ]
     },
     "execution_count": 1,
     "metadata": {},
     "output_type": "execute_result"
    }
   ],
   "source": [
    "total = 10\n",
    "\n",
    "total"
   ]
  },
  {
   "cell_type": "code",
   "execution_count": 2,
   "id": "cbadeaef-9d14-4c77-a642-f57b40af7792",
   "metadata": {},
   "outputs": [
    {
     "data": {
      "text/plain": [
       "15"
      ]
     },
     "execution_count": 2,
     "metadata": {},
     "output_type": "execute_result"
    }
   ],
   "source": [
    "total += 5\n",
    "\n",
    "total"
   ]
  },
  {
   "cell_type": "code",
   "execution_count": 3,
   "id": "02c5b918-caed-43fd-9c12-f18e94d066cf",
   "metadata": {},
   "outputs": [
    {
     "data": {
      "text/plain": [
       "35"
      ]
     },
     "execution_count": 3,
     "metadata": {},
     "output_type": "execute_result"
    }
   ],
   "source": [
    "total += 20\n",
    "\n",
    "total"
   ]
  },
  {
   "cell_type": "code",
   "execution_count": 4,
   "id": "6c8de5aa-d6ea-4b40-81c1-ada5ec9d60bb",
   "metadata": {},
   "outputs": [
    {
     "data": {
      "text/plain": [
       "30"
      ]
     },
     "execution_count": 4,
     "metadata": {},
     "output_type": "execute_result"
    }
   ],
   "source": [
    "total -= 5\n",
    "\n",
    "total"
   ]
  },
  {
   "cell_type": "code",
   "execution_count": 5,
   "id": "eac388f9-709e-436d-8e68-e055c43969f6",
   "metadata": {},
   "outputs": [
    {
     "data": {
      "text/plain": [
       "60"
      ]
     },
     "execution_count": 5,
     "metadata": {},
     "output_type": "execute_result"
    }
   ],
   "source": [
    "total *= 2\n",
    "\n",
    "total"
   ]
  },
  {
   "cell_type": "code",
   "execution_count": 6,
   "id": "8df8def0-4f98-474d-b028-8fd841a2809d",
   "metadata": {},
   "outputs": [
    {
     "data": {
      "text/plain": [
       "12.0"
      ]
     },
     "execution_count": 6,
     "metadata": {},
     "output_type": "execute_result"
    }
   ],
   "source": [
    "total /= 5\n",
    "\n",
    "total"
   ]
  },
  {
   "cell_type": "markdown",
   "id": "c61085f8-0126-4711-a61b-5104d04a3ad8",
   "metadata": {},
   "source": [
    "#### Membership Operators"
   ]
  },
  {
   "cell_type": "code",
   "execution_count": 7,
   "id": "9b97c7ff-97ef-4230-a1af-d13f80edf2f2",
   "metadata": {},
   "outputs": [],
   "source": [
    "a = \"apple\""
   ]
  },
  {
   "cell_type": "code",
   "execution_count": 8,
   "id": "7eca5521-f566-4550-8547-255baf75dde0",
   "metadata": {},
   "outputs": [
    {
     "data": {
      "text/plain": [
       "'a'"
      ]
     },
     "execution_count": 8,
     "metadata": {},
     "output_type": "execute_result"
    }
   ],
   "source": [
    "a[0]"
   ]
  },
  {
   "cell_type": "code",
   "execution_count": 9,
   "id": "9c368a25-1b1e-40ad-94c1-439204881155",
   "metadata": {},
   "outputs": [
    {
     "data": {
      "text/plain": [
       "'p'"
      ]
     },
     "execution_count": 9,
     "metadata": {},
     "output_type": "execute_result"
    }
   ],
   "source": [
    "a[1]"
   ]
  },
  {
   "cell_type": "code",
   "execution_count": 10,
   "id": "261707a5-7e84-4681-a7f7-3264fcababdf",
   "metadata": {},
   "outputs": [
    {
     "data": {
      "text/plain": [
       "'l'"
      ]
     },
     "execution_count": 10,
     "metadata": {},
     "output_type": "execute_result"
    }
   ],
   "source": [
    "a[3]"
   ]
  },
  {
   "cell_type": "code",
   "execution_count": 11,
   "id": "28a6d20d-17aa-4e9e-8fe2-f3224ff0255f",
   "metadata": {},
   "outputs": [
    {
     "data": {
      "text/plain": [
       "'e'"
      ]
     },
     "execution_count": 11,
     "metadata": {},
     "output_type": "execute_result"
    }
   ],
   "source": [
    "a[4]"
   ]
  },
  {
   "cell_type": "markdown",
   "id": "febe2a19-7b28-4cb2-9dc1-8c31dbe59458",
   "metadata": {},
   "source": [
    "#### in\n",
    "#### not in"
   ]
  },
  {
   "cell_type": "code",
   "execution_count": 12,
   "id": "b8f64e86-b2b0-437c-822f-91e48fe7e6c4",
   "metadata": {},
   "outputs": [
    {
     "data": {
      "text/plain": [
       "['apple', 'orange', 'grapes']"
      ]
     },
     "execution_count": 12,
     "metadata": {},
     "output_type": "execute_result"
    }
   ],
   "source": [
    "fruits = [\"apple\", \"orange\", \"grapes\"]\n",
    "\n",
    "fruits"
   ]
  },
  {
   "cell_type": "code",
   "execution_count": 13,
   "id": "1a691738-186b-4b27-ab5c-6d0457950798",
   "metadata": {},
   "outputs": [
    {
     "data": {
      "text/plain": [
       "True"
      ]
     },
     "execution_count": 13,
     "metadata": {},
     "output_type": "execute_result"
    }
   ],
   "source": [
    "\"orange\" in fruits"
   ]
  },
  {
   "cell_type": "code",
   "execution_count": 14,
   "id": "1aa21d5e-ef83-4b65-8669-fbed70a7976e",
   "metadata": {},
   "outputs": [
    {
     "data": {
      "text/plain": [
       "False"
      ]
     },
     "execution_count": 14,
     "metadata": {},
     "output_type": "execute_result"
    }
   ],
   "source": [
    "\"banana\" in fruits"
   ]
  },
  {
   "cell_type": "code",
   "execution_count": 15,
   "id": "e1009cbd-7e56-4b79-a14e-c2bcf10579cf",
   "metadata": {},
   "outputs": [
    {
     "data": {
      "text/plain": [
       "True"
      ]
     },
     "execution_count": 15,
     "metadata": {},
     "output_type": "execute_result"
    }
   ],
   "source": [
    "\"grapes\" in fruits"
   ]
  },
  {
   "cell_type": "code",
   "execution_count": 16,
   "id": "6d065534-c701-4ba8-ac93-c1d9d88bf3d5",
   "metadata": {},
   "outputs": [
    {
     "data": {
      "text/plain": [
       "True"
      ]
     },
     "execution_count": 16,
     "metadata": {},
     "output_type": "execute_result"
    }
   ],
   "source": [
    "\"banana\" not in fruits"
   ]
  },
  {
   "cell_type": "code",
   "execution_count": 17,
   "id": "f5bafd61-6fa0-4df7-a565-6623a4a1f285",
   "metadata": {},
   "outputs": [
    {
     "data": {
      "text/plain": [
       "False"
      ]
     },
     "execution_count": 17,
     "metadata": {},
     "output_type": "execute_result"
    }
   ],
   "source": [
    "\"apple\" not in fruits"
   ]
  },
  {
   "cell_type": "code",
   "execution_count": 18,
   "id": "e69f8a42-3b57-4579-bea6-1fce60f7a47d",
   "metadata": {},
   "outputs": [
    {
     "data": {
      "text/plain": [
       "True"
      ]
     },
     "execution_count": 18,
     "metadata": {},
     "output_type": "execute_result"
    }
   ],
   "source": [
    "\"a\" in \"Athira\""
   ]
  },
  {
   "cell_type": "code",
   "execution_count": 19,
   "id": "1a06be81-89e2-43e7-85fb-9364867d4d8d",
   "metadata": {},
   "outputs": [
    {
     "data": {
      "text/plain": [
       "False"
      ]
     },
     "execution_count": 19,
     "metadata": {},
     "output_type": "execute_result"
    }
   ],
   "source": [
    "\"l\" in \"Athira\""
   ]
  },
  {
   "cell_type": "code",
   "execution_count": 20,
   "id": "a1722dda-6bea-47d2-bc7d-896bd3b47e82",
   "metadata": {},
   "outputs": [
    {
     "data": {
      "text/plain": [
       "False"
      ]
     },
     "execution_count": 20,
     "metadata": {},
     "output_type": "execute_result"
    }
   ],
   "source": [
    "\"t\" not in \"Athira\""
   ]
  },
  {
   "cell_type": "code",
   "execution_count": 21,
   "id": "b6cee2bd-7e50-4cbf-bc22-670d238b656e",
   "metadata": {},
   "outputs": [
    {
     "data": {
      "text/plain": [
       "True"
      ]
     },
     "execution_count": 21,
     "metadata": {},
     "output_type": "execute_result"
    }
   ],
   "source": [
    "\"s\" not in \"Athira\""
   ]
  },
  {
   "cell_type": "markdown",
   "id": "a836219f-7669-4b0d-b289-23d3152737a6",
   "metadata": {},
   "source": [
    "#### Built-in"
   ]
  },
  {
   "cell_type": "markdown",
   "id": "60d8a3e9-33c4-464b-9af9-c29294ac5018",
   "metadata": {},
   "source": [
    "#### 1) range()"
   ]
  },
  {
   "cell_type": "code",
   "execution_count": 22,
   "id": "510a3655-6fb6-4680-842f-b739912d2d4f",
   "metadata": {},
   "outputs": [
    {
     "data": {
      "text/plain": [
       "range(0, 51)"
      ]
     },
     "execution_count": 22,
     "metadata": {},
     "output_type": "execute_result"
    }
   ],
   "source": [
    "range(0,51)"
   ]
  },
  {
   "cell_type": "code",
   "execution_count": 23,
   "id": "1ec0e882-5c82-4de3-bd9e-0d2bc3e6bdb1",
   "metadata": {},
   "outputs": [
    {
     "data": {
      "text/plain": [
       "[0,\n",
       " 1,\n",
       " 2,\n",
       " 3,\n",
       " 4,\n",
       " 5,\n",
       " 6,\n",
       " 7,\n",
       " 8,\n",
       " 9,\n",
       " 10,\n",
       " 11,\n",
       " 12,\n",
       " 13,\n",
       " 14,\n",
       " 15,\n",
       " 16,\n",
       " 17,\n",
       " 18,\n",
       " 19,\n",
       " 20,\n",
       " 21,\n",
       " 22,\n",
       " 23,\n",
       " 24,\n",
       " 25,\n",
       " 26,\n",
       " 27,\n",
       " 28,\n",
       " 29,\n",
       " 30,\n",
       " 31,\n",
       " 32,\n",
       " 33,\n",
       " 34,\n",
       " 35,\n",
       " 36,\n",
       " 37,\n",
       " 38,\n",
       " 39,\n",
       " 40,\n",
       " 41,\n",
       " 42,\n",
       " 43,\n",
       " 44,\n",
       " 45,\n",
       " 46,\n",
       " 47,\n",
       " 48,\n",
       " 49,\n",
       " 50]"
      ]
     },
     "execution_count": 23,
     "metadata": {},
     "output_type": "execute_result"
    }
   ],
   "source": [
    "list(range(0,51))"
   ]
  },
  {
   "cell_type": "markdown",
   "id": "d7992761-0cee-4da3-9539-61a35c8da9ca",
   "metadata": {},
   "source": [
    "#### enumerate()"
   ]
  },
  {
   "cell_type": "code",
   "execution_count": 24,
   "id": "39f5cb61-982c-4ca1-add1-fb99fd7fba50",
   "metadata": {},
   "outputs": [
    {
     "data": {
      "text/plain": [
       "['apple', 'orange', 'grapes']"
      ]
     },
     "execution_count": 24,
     "metadata": {},
     "output_type": "execute_result"
    }
   ],
   "source": [
    "fruits"
   ]
  },
  {
   "cell_type": "code",
   "execution_count": 25,
   "id": "d8f9df63-6482-4105-90b7-ebc1c9af2962",
   "metadata": {},
   "outputs": [
    {
     "data": {
      "text/plain": [
       "[(0, 'apple'), (1, 'orange'), (2, 'grapes')]"
      ]
     },
     "execution_count": 25,
     "metadata": {},
     "output_type": "execute_result"
    }
   ],
   "source": [
    "list(enumerate(fruits))"
   ]
  },
  {
   "cell_type": "code",
   "execution_count": 26,
   "id": "1c1d0fac-87b8-4a39-8f53-f549dafc371d",
   "metadata": {},
   "outputs": [
    {
     "data": {
      "text/plain": [
       "[(3, 'apple'), (4, 'orange'), (5, 'grapes')]"
      ]
     },
     "execution_count": 26,
     "metadata": {},
     "output_type": "execute_result"
    }
   ],
   "source": [
    "list(enumerate(fruits, start = 3))"
   ]
  },
  {
   "cell_type": "markdown",
   "id": "d07a0686-da22-4a2f-9e8b-183edc7d4a07",
   "metadata": {},
   "source": [
    "#### zip()"
   ]
  },
  {
   "cell_type": "code",
   "execution_count": 27,
   "id": "a691ffc3-9b26-40bf-b7e8-2104641d035f",
   "metadata": {},
   "outputs": [],
   "source": [
    "name = [\"Anjana\", \"Akhil\", \"Athira\"]\n",
    "age = [\"26\", \"25\", \"24\"]"
   ]
  },
  {
   "cell_type": "code",
   "execution_count": 28,
   "id": "44efec3b-847d-445f-8302-d7ca4d323f76",
   "metadata": {},
   "outputs": [
    {
     "data": {
      "text/plain": [
       "[('Anjana', '26'), ('Akhil', '25'), ('Athira', '24')]"
      ]
     },
     "execution_count": 28,
     "metadata": {},
     "output_type": "execute_result"
    }
   ],
   "source": [
    "list(zip(name, age))"
   ]
  },
  {
   "cell_type": "code",
   "execution_count": 29,
   "id": "8ebb6dea-246e-41b3-9957-bf9b89197194",
   "metadata": {},
   "outputs": [],
   "source": [
    "name = \"athira\""
   ]
  },
  {
   "cell_type": "code",
   "execution_count": 30,
   "id": "4fa1a223-8f5d-4916-b7d3-b2ce36f0385a",
   "metadata": {},
   "outputs": [
    {
     "data": {
      "text/plain": [
       "[(0, 'a'), (1, 't'), (2, 'h'), (3, 'i'), (4, 'r'), (5, 'a')]"
      ]
     },
     "execution_count": 30,
     "metadata": {},
     "output_type": "execute_result"
    }
   ],
   "source": [
    "list(enumerate(\"athira\"))"
   ]
  },
  {
   "cell_type": "code",
   "execution_count": 31,
   "id": "e61fc82f-3828-45a0-8b9d-fc174761591b",
   "metadata": {},
   "outputs": [
    {
     "data": {
      "text/plain": [
       "[(7, 'a'), (8, 't'), (9, 'h'), (10, 'i'), (11, 'r'), (12, 'a')]"
      ]
     },
     "execution_count": 31,
     "metadata": {},
     "output_type": "execute_result"
    }
   ],
   "source": [
    "list(enumerate(\"athira\", start = 7))"
   ]
  },
  {
   "cell_type": "code",
   "execution_count": 32,
   "id": "9a7ffe47-58d0-4dc4-a12b-ee613752a014",
   "metadata": {},
   "outputs": [],
   "source": [
    "balls = [\"red\", \"blue\", \"white\", \"black\", \"orange\", \"pink\"]"
   ]
  },
  {
   "cell_type": "code",
   "execution_count": 33,
   "id": "f7e784cc-d059-43a2-9b20-8d0241a666a8",
   "metadata": {},
   "outputs": [
    {
     "data": {
      "text/plain": [
       "[(0, 'red'),\n",
       " (1, 'blue'),\n",
       " (2, 'white'),\n",
       " (3, 'black'),\n",
       " (4, 'orange'),\n",
       " (5, 'pink')]"
      ]
     },
     "execution_count": 33,
     "metadata": {},
     "output_type": "execute_result"
    }
   ],
   "source": [
    "list(enumerate(balls))"
   ]
  },
  {
   "cell_type": "code",
   "execution_count": 34,
   "id": "43afa22b-2b77-43a2-9e44-5301fb0db392",
   "metadata": {},
   "outputs": [],
   "source": [
    "nums = [23, 44, 67, 9, 34, 90]"
   ]
  },
  {
   "cell_type": "code",
   "execution_count": 35,
   "id": "3f47339d-766d-4b54-b788-4582aac5a7cf",
   "metadata": {},
   "outputs": [
    {
     "data": {
      "text/plain": [
       "[('red', 23),\n",
       " ('blue', 44),\n",
       " ('white', 67),\n",
       " ('black', 9),\n",
       " ('orange', 34),\n",
       " ('pink', 90)]"
      ]
     },
     "execution_count": 35,
     "metadata": {},
     "output_type": "execute_result"
    }
   ],
   "source": [
    "list(zip(balls, nums))"
   ]
  },
  {
   "cell_type": "code",
   "execution_count": 36,
   "id": "53c97503-ac31-4564-8b0e-adeb4b28cf75",
   "metadata": {},
   "outputs": [],
   "source": [
    "sub = [\"English\", \"Maths\", \"Malayalam\", \"Economics\", \"Statistics\"]\n",
    "marks = [77, 62, 79, 80, 78]"
   ]
  },
  {
   "cell_type": "code",
   "execution_count": 37,
   "id": "045cb78c-bcf2-4705-95cd-158fec11da3d",
   "metadata": {},
   "outputs": [
    {
     "data": {
      "text/plain": [
       "[('English', 77),\n",
       " ('Maths', 62),\n",
       " ('Malayalam', 79),\n",
       " ('Economics', 80),\n",
       " ('Statistics', 78)]"
      ]
     },
     "execution_count": 37,
     "metadata": {},
     "output_type": "execute_result"
    }
   ],
   "source": [
    "list(zip(sub, marks))"
   ]
  },
  {
   "cell_type": "code",
   "execution_count": 38,
   "id": "242158d7-bc0c-4b96-86c8-696a88983abb",
   "metadata": {},
   "outputs": [
    {
     "data": {
      "text/plain": [
       "62"
      ]
     },
     "execution_count": 38,
     "metadata": {},
     "output_type": "execute_result"
    }
   ],
   "source": [
    "min(marks)"
   ]
  },
  {
   "cell_type": "code",
   "execution_count": 39,
   "id": "bc3ae3b8-965c-4399-9c64-ba93d0f10ff7",
   "metadata": {},
   "outputs": [
    {
     "data": {
      "text/plain": [
       "80"
      ]
     },
     "execution_count": 39,
     "metadata": {},
     "output_type": "execute_result"
    }
   ],
   "source": [
    "max(marks)"
   ]
  },
  {
   "cell_type": "code",
   "execution_count": 40,
   "id": "ba43bcb0-6513-48d1-a336-bf02396a6089",
   "metadata": {},
   "outputs": [],
   "source": [
    "marks.sort()"
   ]
  },
  {
   "cell_type": "code",
   "execution_count": 41,
   "id": "26b6a964-a863-4c3a-8d60-c1928b7cbfac",
   "metadata": {},
   "outputs": [
    {
     "data": {
      "text/plain": [
       "[62, 77, 78, 79, 80]"
      ]
     },
     "execution_count": 41,
     "metadata": {},
     "output_type": "execute_result"
    }
   ],
   "source": [
    "marks"
   ]
  },
  {
   "cell_type": "code",
   "execution_count": 42,
   "id": "c49fb072-8c05-4a98-b2d8-d6f7b9d2f2bd",
   "metadata": {},
   "outputs": [],
   "source": [
    "marks.reverse()"
   ]
  },
  {
   "cell_type": "code",
   "execution_count": 43,
   "id": "612a5f85-9b2f-4ff3-b30d-00fed1870380",
   "metadata": {},
   "outputs": [
    {
     "data": {
      "text/plain": [
       "[80, 79, 78, 77, 62]"
      ]
     },
     "execution_count": 43,
     "metadata": {},
     "output_type": "execute_result"
    }
   ],
   "source": [
    "marks"
   ]
  },
  {
   "cell_type": "code",
   "execution_count": 44,
   "id": "bb2e3e4d-4768-41cf-ad03-6f52024a9701",
   "metadata": {},
   "outputs": [
    {
     "data": {
      "text/plain": [
       "list"
      ]
     },
     "execution_count": 44,
     "metadata": {},
     "output_type": "execute_result"
    }
   ],
   "source": [
    "type(marks)"
   ]
  },
  {
   "cell_type": "code",
   "execution_count": 45,
   "id": "c7fa1911-a840-429a-8fdc-da838b8e245f",
   "metadata": {},
   "outputs": [
    {
     "data": {
      "text/plain": [
       "list"
      ]
     },
     "execution_count": 45,
     "metadata": {},
     "output_type": "execute_result"
    }
   ],
   "source": [
    "type(sub)"
   ]
  },
  {
   "cell_type": "code",
   "execution_count": 46,
   "id": "4f990344-f01c-48e6-ab3e-3c242db86179",
   "metadata": {},
   "outputs": [],
   "source": [
    "import random"
   ]
  },
  {
   "cell_type": "markdown",
   "id": "9b892534-9778-478f-a876-dcac4755eb74",
   "metadata": {},
   "source": [
    "#### randint()"
   ]
  },
  {
   "cell_type": "code",
   "execution_count": 66,
   "id": "b2dc4b59-a4f0-409c-9ea9-8806ce3534bb",
   "metadata": {},
   "outputs": [
    {
     "data": {
      "text/plain": [
       "119"
      ]
     },
     "execution_count": 66,
     "metadata": {},
     "output_type": "execute_result"
    }
   ],
   "source": [
    "random.randint(100, 250)"
   ]
  },
  {
   "cell_type": "code",
   "execution_count": 48,
   "id": "6fd09525-29d8-4440-947f-9bd2024578de",
   "metadata": {},
   "outputs": [
    {
     "data": {
      "text/plain": [
       "['apple', 'orange', 'grapes']"
      ]
     },
     "execution_count": 48,
     "metadata": {},
     "output_type": "execute_result"
    }
   ],
   "source": [
    "fruits"
   ]
  },
  {
   "cell_type": "code",
   "execution_count": 49,
   "id": "7d9e48c5-4262-44d4-8cad-114a7bd98a42",
   "metadata": {},
   "outputs": [
    {
     "data": {
      "text/plain": [
       "'orange'"
      ]
     },
     "execution_count": 49,
     "metadata": {},
     "output_type": "execute_result"
    }
   ],
   "source": [
    "random.choice(fruits)"
   ]
  },
  {
   "cell_type": "code",
   "execution_count": 50,
   "id": "775d1c38-468e-4d12-a5e5-e93ef21d6b1d",
   "metadata": {},
   "outputs": [],
   "source": [
    "random.shuffle(fruits)"
   ]
  },
  {
   "cell_type": "code",
   "execution_count": 51,
   "id": "315b344f-15f3-455b-bd93-5a39b3f045a3",
   "metadata": {},
   "outputs": [
    {
     "data": {
      "text/plain": [
       "['orange', 'grapes', 'apple']"
      ]
     },
     "execution_count": 51,
     "metadata": {},
     "output_type": "execute_result"
    }
   ],
   "source": [
    "fruits"
   ]
  },
  {
   "cell_type": "markdown",
   "id": "615f35fb-3ed7-46bb-b15c-e0b0fa196b82",
   "metadata": {},
   "source": [
    "### Tuple ()"
   ]
  },
  {
   "cell_type": "code",
   "execution_count": 52,
   "id": "a2699ec5-e6f4-46dc-a116-db44d1a4a4d9",
   "metadata": {},
   "outputs": [
    {
     "data": {
      "text/plain": [
       "(1, 'apple', 2)"
      ]
     },
     "execution_count": 52,
     "metadata": {},
     "output_type": "execute_result"
    }
   ],
   "source": [
    "a = (1, \"apple\", 2)\n",
    "\n",
    "a"
   ]
  },
  {
   "cell_type": "code",
   "execution_count": 53,
   "id": "586c6e75-a633-4f20-bdef-4d8d158dbde9",
   "metadata": {},
   "outputs": [
    {
     "data": {
      "text/plain": [
       "tuple"
      ]
     },
     "execution_count": 53,
     "metadata": {},
     "output_type": "execute_result"
    }
   ],
   "source": [
    "type(a)"
   ]
  },
  {
   "cell_type": "code",
   "execution_count": 54,
   "id": "d0890643-7c02-4a4e-b078-7f028250928f",
   "metadata": {},
   "outputs": [
    {
     "data": {
      "text/plain": [
       "1"
      ]
     },
     "execution_count": 54,
     "metadata": {},
     "output_type": "execute_result"
    }
   ],
   "source": [
    "a.count(1)"
   ]
  },
  {
   "cell_type": "code",
   "execution_count": 55,
   "id": "2c1b6725-58e6-44ca-a6d3-b80a48d8ade2",
   "metadata": {},
   "outputs": [
    {
     "data": {
      "text/plain": [
       "1"
      ]
     },
     "execution_count": 55,
     "metadata": {},
     "output_type": "execute_result"
    }
   ],
   "source": [
    "a.index(\"apple\")"
   ]
  },
  {
   "cell_type": "code",
   "execution_count": 56,
   "id": "51f43bbd-6210-49a5-a309-40ac38c664e1",
   "metadata": {},
   "outputs": [
    {
     "data": {
      "text/plain": [
       "0"
      ]
     },
     "execution_count": 56,
     "metadata": {},
     "output_type": "execute_result"
    }
   ],
   "source": [
    "a.index(1)"
   ]
  },
  {
   "cell_type": "code",
   "execution_count": 57,
   "id": "da984713-caad-4467-9fc6-4136c5f6cb9c",
   "metadata": {},
   "outputs": [
    {
     "data": {
      "text/plain": [
       "('Athira', 25, 'tvm')"
      ]
     },
     "execution_count": 57,
     "metadata": {},
     "output_type": "execute_result"
    }
   ],
   "source": [
    "person = (\"Athira\", 25,\"tvm\")\n",
    "\n",
    "person"
   ]
  },
  {
   "cell_type": "code",
   "execution_count": 58,
   "id": "b487b7c6-a843-4509-9ddf-5d8e46ec5697",
   "metadata": {},
   "outputs": [],
   "source": [
    "name, age, place = person"
   ]
  },
  {
   "cell_type": "code",
   "execution_count": 59,
   "id": "0d5e0a70-f5ef-4a64-bdd9-dfb382913996",
   "metadata": {},
   "outputs": [
    {
     "data": {
      "text/plain": [
       "'Athira'"
      ]
     },
     "execution_count": 59,
     "metadata": {},
     "output_type": "execute_result"
    }
   ],
   "source": [
    "name"
   ]
  },
  {
   "cell_type": "code",
   "execution_count": 60,
   "id": "32acb144-584b-448f-acf5-e129460ee532",
   "metadata": {},
   "outputs": [
    {
     "data": {
      "text/plain": [
       "25"
      ]
     },
     "execution_count": 60,
     "metadata": {},
     "output_type": "execute_result"
    }
   ],
   "source": [
    "age"
   ]
  },
  {
   "cell_type": "code",
   "execution_count": 61,
   "id": "a5faddf8-fc78-4c69-a5e6-99466a729331",
   "metadata": {},
   "outputs": [
    {
     "data": {
      "text/plain": [
       "'tvm'"
      ]
     },
     "execution_count": 61,
     "metadata": {},
     "output_type": "execute_result"
    }
   ],
   "source": [
    "place"
   ]
  },
  {
   "cell_type": "code",
   "execution_count": 62,
   "id": "c1c0e4f0-d703-441b-8ed3-29e889e4666d",
   "metadata": {},
   "outputs": [
    {
     "data": {
      "text/plain": [
       "('pen', 10, 'cello')"
      ]
     },
     "execution_count": 62,
     "metadata": {},
     "output_type": "execute_result"
    }
   ],
   "source": [
    "product = (\"pen\", 10, \"cello\")\n",
    "\n",
    "product"
   ]
  },
  {
   "cell_type": "code",
   "execution_count": 63,
   "id": "efaf826a-29f3-4470-b19d-60c6b5a10773",
   "metadata": {},
   "outputs": [],
   "source": [
    "product_name, price, brand = product"
   ]
  },
  {
   "cell_type": "code",
   "execution_count": 64,
   "id": "54e75237-dbf3-4791-8f42-53c8ce8926f3",
   "metadata": {},
   "outputs": [
    {
     "data": {
      "text/plain": [
       "'pen'"
      ]
     },
     "execution_count": 64,
     "metadata": {},
     "output_type": "execute_result"
    }
   ],
   "source": [
    "product_name"
   ]
  },
  {
   "cell_type": "raw",
   "id": "787e08de-57b5-47f5-9d1c-ddcf407c4d1c",
   "metadata": {},
   "source": [
    "price"
   ]
  },
  {
   "cell_type": "code",
   "execution_count": 65,
   "id": "ea2842e2-c1c3-495b-a66e-ce3f1fddaa3c",
   "metadata": {},
   "outputs": [
    {
     "data": {
      "text/plain": [
       "'cello'"
      ]
     },
     "execution_count": 65,
     "metadata": {},
     "output_type": "execute_result"
    }
   ],
   "source": [
    "brand"
   ]
  },
  {
   "cell_type": "code",
   "execution_count": 67,
   "id": "e6892a25-c5f7-4e38-930c-e67c147e9e55",
   "metadata": {},
   "outputs": [],
   "source": [
    "combined = person + product"
   ]
  },
  {
   "cell_type": "code",
   "execution_count": 68,
   "id": "39c36b4b-2804-4ce9-92a8-fc5fcfef1838",
   "metadata": {},
   "outputs": [
    {
     "data": {
      "text/plain": [
       "('Athira', 25, 'tvm', 'pen', 10, 'cello')"
      ]
     },
     "execution_count": 68,
     "metadata": {},
     "output_type": "execute_result"
    }
   ],
   "source": [
    "combined"
   ]
  },
  {
   "cell_type": "code",
   "execution_count": null,
   "id": "2a30c173-0680-4e4b-a9fe-9641b9e1a736",
   "metadata": {},
   "outputs": [],
   "source": []
  }
 ],
 "metadata": {
  "kernelspec": {
   "display_name": "Python 3 (ipykernel)",
   "language": "python",
   "name": "python3"
  },
  "language_info": {
   "codemirror_mode": {
    "name": "ipython",
    "version": 3
   },
   "file_extension": ".py",
   "mimetype": "text/x-python",
   "name": "python",
   "nbconvert_exporter": "python",
   "pygments_lexer": "ipython3",
   "version": "3.10.0"
  }
 },
 "nbformat": 4,
 "nbformat_minor": 5
}
